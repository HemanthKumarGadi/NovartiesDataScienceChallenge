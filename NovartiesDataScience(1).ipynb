{
  "nbformat": 4,
  "nbformat_minor": 0,
  "metadata": {
    "colab": {
      "name": "NovartiesDataScience.ipynb",
      "provenance": [],
      "collapsed_sections": []
    },
    "kernelspec": {
      "name": "python3",
      "display_name": "Python 3"
    },
    "accelerator": "GPU"
  },
  "cells": [
    {
      "cell_type": "code",
      "metadata": {
        "id": "6Bml2uH6CTK6",
        "colab_type": "code",
        "colab": {
          "base_uri": "https://localhost:8080/",
          "height": 141
        },
        "outputId": "b14c6d22-4833-4ac2-9159-cd957cb50463"
      },
      "source": [
        "import pandas as pd\n",
        "import numpy as np\n",
        "import os\n",
        "from sklearn.preprocessing import StandardScaler\n",
        "from sklearn.model_selection import train_test_split\n",
        "from sklearn import metrics\n",
        "from sklearn.metrics import f1_score, roc_auc_score\n",
        "from sklearn.linear_model import LogisticRegression\n",
        "from sklearn.ensemble import RandomForestClassifier\n",
        "from sklearn.model_selection import GridSearchCV\n",
        "from sklearn.neural_network import MLPClassifier\n",
        "from imblearn.pipeline import make_pipeline as make_pipeline_imb\n",
        "from imblearn.over_sampling import SMOTE\n",
        "from imblearn.metrics import classification_report_imbalanced\n",
        "import xgboost as xgb\n",
        "from xgboost import XGBClassifier"
      ],
      "execution_count": 1,
      "outputs": [
        {
          "output_type": "stream",
          "text": [
            "/usr/local/lib/python3.6/dist-packages/sklearn/externals/six.py:31: FutureWarning: The module is deprecated in version 0.21 and will be removed in version 0.23 since we've dropped support for Python 2.7. Please rely on the official version of six (https://pypi.org/project/six/).\n",
            "  \"(https://pypi.org/project/six/).\", FutureWarning)\n",
            "/usr/local/lib/python3.6/dist-packages/sklearn/utils/deprecation.py:144: FutureWarning: The sklearn.neighbors.base module is  deprecated in version 0.22 and will be removed in version 0.24. The corresponding classes / functions should instead be imported from sklearn.neighbors. Anything that cannot be imported from sklearn.neighbors is now part of the private API.\n",
            "  warnings.warn(message, FutureWarning)\n",
            "/usr/local/lib/python3.6/dist-packages/sklearn/utils/deprecation.py:144: FutureWarning: The sklearn.metrics.classification module is  deprecated in version 0.22 and will be removed in version 0.24. The corresponding classes / functions should instead be imported from sklearn.metrics. Anything that cannot be imported from sklearn.metrics is now part of the private API.\n",
            "  warnings.warn(message, FutureWarning)\n"
          ],
          "name": "stderr"
        }
      ]
    },
    {
      "cell_type": "code",
      "metadata": {
        "id": "VOmyqNxia2YV",
        "colab_type": "code",
        "colab": {}
      },
      "source": [
        ""
      ],
      "execution_count": null,
      "outputs": []
    },
    {
      "cell_type": "markdown",
      "metadata": {
        "id": "QGqT6jGZa2tE",
        "colab_type": "text"
      },
      "source": [
        "#PREDICT THE SERVER WILL BE HACKED? "
      ]
    },
    {
      "cell_type": "markdown",
      "metadata": {
        "id": "hrzP48GVwZNJ",
        "colab_type": "text"
      },
      "source": [
        "#Binary Class Classification"
      ]
    },
    {
      "cell_type": "code",
      "metadata": {
        "id": "DVNpO-5WwjNn",
        "colab_type": "code",
        "colab": {}
      },
      "source": [
        "#1:Yes,0:NO"
      ],
      "execution_count": null,
      "outputs": []
    },
    {
      "cell_type": "code",
      "metadata": {
        "id": "RGU9xpuZCZMy",
        "colab_type": "code",
        "colab": {}
      },
      "source": [
        "train =pd.read_csv('/content/Train.csv')\n",
        "test =pd.read_csv('/content/Test.csv')\n"
      ],
      "execution_count": 53,
      "outputs": []
    },
    {
      "cell_type": "code",
      "metadata": {
        "id": "W8ayFAqTFQ2_",
        "colab_type": "code",
        "colab": {}
      },
      "source": [
        "test =pd.read_csv('/content/Test.csv')\n"
      ],
      "execution_count": 116,
      "outputs": []
    },
    {
      "cell_type": "code",
      "metadata": {
        "id": "grENzSZ3qIud",
        "colab_type": "code",
        "colab": {
          "base_uri": "https://localhost:8080/",
          "height": 34
        },
        "outputId": "ce1153ef-39c5-43a4-dad4-66c3398470e2"
      },
      "source": [
        "test.shape"
      ],
      "execution_count": 4,
      "outputs": [
        {
          "output_type": "execute_result",
          "data": {
            "text/plain": [
              "(15903, 17)"
            ]
          },
          "metadata": {
            "tags": []
          },
          "execution_count": 4
        }
      ]
    },
    {
      "cell_type": "code",
      "metadata": {
        "id": "itokxYacCmfa",
        "colab_type": "code",
        "colab": {
          "base_uri": "https://localhost:8080/",
          "height": 347
        },
        "outputId": "90eb6b75-4fd5-4a29-8e12-a05d8156ec01"
      },
      "source": [
        "train.isnull().sum()"
      ],
      "execution_count": 5,
      "outputs": [
        {
          "output_type": "execute_result",
          "data": {
            "text/plain": [
              "INCIDENT_ID           0\n",
              "DATE                  0\n",
              "X_1                   0\n",
              "X_2                   0\n",
              "X_3                   0\n",
              "X_4                   0\n",
              "X_5                   0\n",
              "X_6                   0\n",
              "X_7                   0\n",
              "X_8                   0\n",
              "X_9                   0\n",
              "X_10                  0\n",
              "X_11                  0\n",
              "X_12                182\n",
              "X_13                  0\n",
              "X_14                  0\n",
              "X_15                  0\n",
              "MULTIPLE_OFFENSE      0\n",
              "dtype: int64"
            ]
          },
          "metadata": {
            "tags": []
          },
          "execution_count": 5
        }
      ]
    },
    {
      "cell_type": "code",
      "metadata": {
        "id": "zzDVJgcVDC_r",
        "colab_type": "code",
        "colab": {
          "base_uri": "https://localhost:8080/",
          "height": 330
        },
        "outputId": "464477a0-4871-406a-c67c-96153ca1ebfb"
      },
      "source": [
        "test.isnull().sum()"
      ],
      "execution_count": null,
      "outputs": [
        {
          "output_type": "execute_result",
          "data": {
            "text/plain": [
              "INCIDENT_ID      0\n",
              "DATE             0\n",
              "X_1              0\n",
              "X_2              0\n",
              "X_3              0\n",
              "X_4              0\n",
              "X_5              0\n",
              "X_6              0\n",
              "X_7              0\n",
              "X_8              0\n",
              "X_9              0\n",
              "X_10             0\n",
              "X_11             0\n",
              "X_12           127\n",
              "X_13             0\n",
              "X_14             0\n",
              "X_15             0\n",
              "dtype: int64"
            ]
          },
          "metadata": {
            "tags": []
          },
          "execution_count": 100
        }
      ]
    },
    {
      "cell_type": "code",
      "metadata": {
        "id": "IbtchHC8CoV8",
        "colab_type": "code",
        "colab": {
          "base_uri": "https://localhost:8080/",
          "height": 297
        },
        "outputId": "757cdef8-48de-48ba-81e9-8af64d3174a2"
      },
      "source": [
        "import seaborn as sns\n",
        "sns.countplot(train['MULTIPLE_OFFENSE'])"
      ],
      "execution_count": null,
      "outputs": [
        {
          "output_type": "execute_result",
          "data": {
            "text/plain": [
              "<matplotlib.axes._subplots.AxesSubplot at 0x7f5e924900f0>"
            ]
          },
          "metadata": {
            "tags": []
          },
          "execution_count": 101
        },
        {
          "output_type": "display_data",
          "data": {
            "image/png": "[encoded data removed]",
            "text/plain": [
              "<Figure size 432x288 with 1 Axes>"
            ]
          },
          "metadata": {
            "tags": [],
            "needs_background": "light"
          }
        }
      ]
    },
    {
      "cell_type": "markdown",
      "metadata": {
        "id": "McR5c3EAvtpd",
        "colab_type": "text"
      },
      "source": [
        "#Imbalance Class"
      ]
    },
    {
      "cell_type": "code",
      "metadata": {
        "id": "AUpSFN9uxLdN",
        "colab_type": "code",
        "colab": {
          "base_uri": "https://localhost:8080/",
          "height": 69
        },
        "outputId": "a53302f4-3b15-4e26-877a-f89bf1002eae"
      },
      "source": [
        "train['MULTIPLE_OFFENSE'].value_counts()"
      ],
      "execution_count": null,
      "outputs": [
        {
          "output_type": "execute_result",
          "data": {
            "text/plain": [
              "1    22788\n",
              "0     1068\n",
              "Name: MULTIPLE_OFFENSE, dtype: int64"
            ]
          },
          "metadata": {
            "tags": []
          },
          "execution_count": 102
        }
      ]
    },
    {
      "cell_type": "code",
      "metadata": {
        "id": "hVbvSKGBHYe4",
        "colab_type": "code",
        "colab": {
          "base_uri": "https://localhost:8080/",
          "height": 206
        },
        "outputId": "77e7206a-f8b1-48f9-d2b3-59697d6fa1ca"
      },
      "source": [
        "train.head()"
      ],
      "execution_count": null,
      "outputs": [
        {
          "output_type": "execute_result",
          "data": {
            "text/html": [
              "<div>\n",
              "<style scoped>\n",
              "    .dataframe tbody tr th:only-of-type {\n",
              "        vertical-align: middle;\n",
              "    }\n",
              "\n",
              "    .dataframe tbody tr th {\n",
              "        vertical-align: top;\n",
              "    }\n",
              "\n",
              "    .dataframe thead th {\n",
              "        text-align: right;\n",
              "    }\n",
              "</style>\n",
              "<table border=\"1\" class=\"dataframe\">\n",
              "  <thead>\n",
              "    <tr style=\"text-align: right;\">\n",
              "      <th></th>\n",
              "      <th>INCIDENT_ID</th>\n",
              "      <th>DATE</th>\n",
              "      <th>X_1</th>\n",
              "      <th>X_2</th>\n",
              "      <th>X_3</th>\n",
              "      <th>X_4</th>\n",
              "      <th>X_5</th>\n",
              "      <th>X_6</th>\n",
              "      <th>X_7</th>\n",
              "      <th>X_8</th>\n",
              "      <th>X_9</th>\n",
              "      <th>X_10</th>\n",
              "      <th>X_11</th>\n",
              "      <th>X_12</th>\n",
              "      <th>X_13</th>\n",
              "      <th>X_14</th>\n",
              "      <th>X_15</th>\n",
              "      <th>MULTIPLE_OFFENSE</th>\n",
              "    </tr>\n",
              "  </thead>\n",
              "  <tbody>\n",
              "    <tr>\n",
              "      <th>0</th>\n",
              "      <td>CR_102659</td>\n",
              "      <td>04-JUL-04</td>\n",
              "      <td>0</td>\n",
              "      <td>36</td>\n",
              "      <td>34</td>\n",
              "      <td>2</td>\n",
              "      <td>1</td>\n",
              "      <td>5</td>\n",
              "      <td>6</td>\n",
              "      <td>1</td>\n",
              "      <td>6</td>\n",
              "      <td>1</td>\n",
              "      <td>174</td>\n",
              "      <td>1.0</td>\n",
              "      <td>92</td>\n",
              "      <td>29</td>\n",
              "      <td>36</td>\n",
              "      <td>0</td>\n",
              "    </tr>\n",
              "    <tr>\n",
              "      <th>1</th>\n",
              "      <td>CR_189752</td>\n",
              "      <td>18-JUL-17</td>\n",
              "      <td>1</td>\n",
              "      <td>37</td>\n",
              "      <td>37</td>\n",
              "      <td>0</td>\n",
              "      <td>0</td>\n",
              "      <td>11</td>\n",
              "      <td>17</td>\n",
              "      <td>1</td>\n",
              "      <td>6</td>\n",
              "      <td>1</td>\n",
              "      <td>236</td>\n",
              "      <td>1.0</td>\n",
              "      <td>103</td>\n",
              "      <td>142</td>\n",
              "      <td>34</td>\n",
              "      <td>1</td>\n",
              "    </tr>\n",
              "    <tr>\n",
              "      <th>2</th>\n",
              "      <td>CR_184637</td>\n",
              "      <td>15-MAR-17</td>\n",
              "      <td>0</td>\n",
              "      <td>3</td>\n",
              "      <td>2</td>\n",
              "      <td>3</td>\n",
              "      <td>5</td>\n",
              "      <td>1</td>\n",
              "      <td>0</td>\n",
              "      <td>2</td>\n",
              "      <td>3</td>\n",
              "      <td>1</td>\n",
              "      <td>174</td>\n",
              "      <td>1.0</td>\n",
              "      <td>110</td>\n",
              "      <td>93</td>\n",
              "      <td>34</td>\n",
              "      <td>1</td>\n",
              "    </tr>\n",
              "    <tr>\n",
              "      <th>3</th>\n",
              "      <td>CR_139071</td>\n",
              "      <td>13-FEB-09</td>\n",
              "      <td>0</td>\n",
              "      <td>33</td>\n",
              "      <td>32</td>\n",
              "      <td>2</td>\n",
              "      <td>1</td>\n",
              "      <td>7</td>\n",
              "      <td>1</td>\n",
              "      <td>1</td>\n",
              "      <td>6</td>\n",
              "      <td>1</td>\n",
              "      <td>249</td>\n",
              "      <td>1.0</td>\n",
              "      <td>72</td>\n",
              "      <td>29</td>\n",
              "      <td>34</td>\n",
              "      <td>1</td>\n",
              "    </tr>\n",
              "    <tr>\n",
              "      <th>4</th>\n",
              "      <td>CR_109335</td>\n",
              "      <td>13-APR-05</td>\n",
              "      <td>0</td>\n",
              "      <td>33</td>\n",
              "      <td>32</td>\n",
              "      <td>2</td>\n",
              "      <td>1</td>\n",
              "      <td>8</td>\n",
              "      <td>3</td>\n",
              "      <td>0</td>\n",
              "      <td>5</td>\n",
              "      <td>1</td>\n",
              "      <td>174</td>\n",
              "      <td>0.0</td>\n",
              "      <td>112</td>\n",
              "      <td>29</td>\n",
              "      <td>43</td>\n",
              "      <td>1</td>\n",
              "    </tr>\n",
              "  </tbody>\n",
              "</table>\n",
              "</div>"
            ],
            "text/plain": [
              "  INCIDENT_ID       DATE  X_1  X_2  ...  X_13  X_14  X_15  MULTIPLE_OFFENSE\n",
              "0   CR_102659  04-JUL-04    0   36  ...    92    29    36                 0\n",
              "1   CR_189752  18-JUL-17    1   37  ...   103   142    34                 1\n",
              "2   CR_184637  15-MAR-17    0    3  ...   110    93    34                 1\n",
              "3   CR_139071  13-FEB-09    0   33  ...    72    29    34                 1\n",
              "4   CR_109335  13-APR-05    0   33  ...   112    29    43                 1\n",
              "\n",
              "[5 rows x 18 columns]"
            ]
          },
          "metadata": {
            "tags": []
          },
          "execution_count": 103
        }
      ]
    },
    {
      "cell_type": "code",
      "metadata": {
        "id": "TIHFPoS_C2-U",
        "colab_type": "code",
        "colab": {}
      },
      "source": [
        ""
      ],
      "execution_count": null,
      "outputs": []
    },
    {
      "cell_type": "code",
      "metadata": {
        "id": "8SM2mo59HkrG",
        "colab_type": "code",
        "colab": {
          "base_uri": "https://localhost:8080/",
          "height": 347
        },
        "outputId": "c3855368-c2d6-4383-c59a-db5e93cb9a50"
      },
      "source": [
        "import datetime as dt\n",
        "train.dtypes"
      ],
      "execution_count": null,
      "outputs": [
        {
          "output_type": "execute_result",
          "data": {
            "text/plain": [
              "INCIDENT_ID          object\n",
              "DATE                 object\n",
              "X_1                   int64\n",
              "X_2                   int64\n",
              "X_3                   int64\n",
              "X_4                   int64\n",
              "X_5                   int64\n",
              "X_6                   int64\n",
              "X_7                   int64\n",
              "X_8                   int64\n",
              "X_9                   int64\n",
              "X_10                  int64\n",
              "X_11                  int64\n",
              "X_12                float64\n",
              "X_13                  int64\n",
              "X_14                  int64\n",
              "X_15                  int64\n",
              "MULTIPLE_OFFENSE      int64\n",
              "dtype: object"
            ]
          },
          "metadata": {
            "tags": []
          },
          "execution_count": 104
        }
      ]
    },
    {
      "cell_type": "code",
      "metadata": {
        "id": "GKSE4JhZI_01",
        "colab_type": "code",
        "colab": {
          "base_uri": "https://localhost:8080/",
          "height": 330
        },
        "outputId": "7b8a761d-51a8-44de-e614-6275a221c42d"
      },
      "source": [
        "test.dtypes"
      ],
      "execution_count": null,
      "outputs": [
        {
          "output_type": "execute_result",
          "data": {
            "text/plain": [
              "INCIDENT_ID            object\n",
              "DATE           datetime64[ns]\n",
              "X_1                     int64\n",
              "X_2                     int64\n",
              "X_3                     int64\n",
              "X_4                     int64\n",
              "X_5                     int64\n",
              "X_6                     int64\n",
              "X_7                     int64\n",
              "X_8                     int64\n",
              "X_9                     int64\n",
              "X_10                    int64\n",
              "X_11                    int64\n",
              "X_12                  float64\n",
              "X_13                    int64\n",
              "X_14                    int64\n",
              "X_15                    int64\n",
              "dtype: object"
            ]
          },
          "metadata": {
            "tags": []
          },
          "execution_count": 19
        }
      ]
    },
    {
      "cell_type": "code",
      "metadata": {
        "id": "vp2zMPLFI45A",
        "colab_type": "code",
        "colab": {}
      },
      "source": [
        "train['DATE']=pd.to_datetime(train['DATE'])\n",
        "test['DATE']=pd.to_datetime(test['DATE'])"
      ],
      "execution_count": null,
      "outputs": []
    },
    {
      "cell_type": "code",
      "metadata": {
        "id": "0DszdgPCJ9RZ",
        "colab_type": "code",
        "colab": {
          "base_uri": "https://localhost:8080/",
          "height": 206
        },
        "outputId": "c3ef63d9-c9cc-4e71-968b-adde38ab24b6"
      },
      "source": [
        "train.head()"
      ],
      "execution_count": null,
      "outputs": [
        {
          "output_type": "execute_result",
          "data": {
            "text/html": [
              "<div>\n",
              "<style scoped>\n",
              "    .dataframe tbody tr th:only-of-type {\n",
              "        vertical-align: middle;\n",
              "    }\n",
              "\n",
              "    .dataframe tbody tr th {\n",
              "        vertical-align: top;\n",
              "    }\n",
              "\n",
              "    .dataframe thead th {\n",
              "        text-align: right;\n",
              "    }\n",
              "</style>\n",
              "<table border=\"1\" class=\"dataframe\">\n",
              "  <thead>\n",
              "    <tr style=\"text-align: right;\">\n",
              "      <th></th>\n",
              "      <th>INCIDENT_ID</th>\n",
              "      <th>DATE</th>\n",
              "      <th>X_1</th>\n",
              "      <th>X_2</th>\n",
              "      <th>X_3</th>\n",
              "      <th>X_4</th>\n",
              "      <th>X_5</th>\n",
              "      <th>X_6</th>\n",
              "      <th>X_7</th>\n",
              "      <th>X_8</th>\n",
              "      <th>X_9</th>\n",
              "      <th>X_10</th>\n",
              "      <th>X_11</th>\n",
              "      <th>X_12</th>\n",
              "      <th>X_13</th>\n",
              "      <th>X_14</th>\n",
              "      <th>X_15</th>\n",
              "      <th>MULTIPLE_OFFENSE</th>\n",
              "    </tr>\n",
              "  </thead>\n",
              "  <tbody>\n",
              "    <tr>\n",
              "      <th>0</th>\n",
              "      <td>CR_102659</td>\n",
              "      <td>2004-07-04</td>\n",
              "      <td>0</td>\n",
              "      <td>36</td>\n",
              "      <td>34</td>\n",
              "      <td>2</td>\n",
              "      <td>1</td>\n",
              "      <td>5</td>\n",
              "      <td>6</td>\n",
              "      <td>1</td>\n",
              "      <td>6</td>\n",
              "      <td>1</td>\n",
              "      <td>174</td>\n",
              "      <td>1.0</td>\n",
              "      <td>92</td>\n",
              "      <td>29</td>\n",
              "      <td>36</td>\n",
              "      <td>0</td>\n",
              "    </tr>\n",
              "    <tr>\n",
              "      <th>1</th>\n",
              "      <td>CR_189752</td>\n",
              "      <td>2017-07-18</td>\n",
              "      <td>1</td>\n",
              "      <td>37</td>\n",
              "      <td>37</td>\n",
              "      <td>0</td>\n",
              "      <td>0</td>\n",
              "      <td>11</td>\n",
              "      <td>17</td>\n",
              "      <td>1</td>\n",
              "      <td>6</td>\n",
              "      <td>1</td>\n",
              "      <td>236</td>\n",
              "      <td>1.0</td>\n",
              "      <td>103</td>\n",
              "      <td>142</td>\n",
              "      <td>34</td>\n",
              "      <td>1</td>\n",
              "    </tr>\n",
              "    <tr>\n",
              "      <th>2</th>\n",
              "      <td>CR_184637</td>\n",
              "      <td>2017-03-15</td>\n",
              "      <td>0</td>\n",
              "      <td>3</td>\n",
              "      <td>2</td>\n",
              "      <td>3</td>\n",
              "      <td>5</td>\n",
              "      <td>1</td>\n",
              "      <td>0</td>\n",
              "      <td>2</td>\n",
              "      <td>3</td>\n",
              "      <td>1</td>\n",
              "      <td>174</td>\n",
              "      <td>1.0</td>\n",
              "      <td>110</td>\n",
              "      <td>93</td>\n",
              "      <td>34</td>\n",
              "      <td>1</td>\n",
              "    </tr>\n",
              "    <tr>\n",
              "      <th>3</th>\n",
              "      <td>CR_139071</td>\n",
              "      <td>2009-02-13</td>\n",
              "      <td>0</td>\n",
              "      <td>33</td>\n",
              "      <td>32</td>\n",
              "      <td>2</td>\n",
              "      <td>1</td>\n",
              "      <td>7</td>\n",
              "      <td>1</td>\n",
              "      <td>1</td>\n",
              "      <td>6</td>\n",
              "      <td>1</td>\n",
              "      <td>249</td>\n",
              "      <td>1.0</td>\n",
              "      <td>72</td>\n",
              "      <td>29</td>\n",
              "      <td>34</td>\n",
              "      <td>1</td>\n",
              "    </tr>\n",
              "    <tr>\n",
              "      <th>4</th>\n",
              "      <td>CR_109335</td>\n",
              "      <td>2005-04-13</td>\n",
              "      <td>0</td>\n",
              "      <td>33</td>\n",
              "      <td>32</td>\n",
              "      <td>2</td>\n",
              "      <td>1</td>\n",
              "      <td>8</td>\n",
              "      <td>3</td>\n",
              "      <td>0</td>\n",
              "      <td>5</td>\n",
              "      <td>1</td>\n",
              "      <td>174</td>\n",
              "      <td>0.0</td>\n",
              "      <td>112</td>\n",
              "      <td>29</td>\n",
              "      <td>43</td>\n",
              "      <td>1</td>\n",
              "    </tr>\n",
              "  </tbody>\n",
              "</table>\n",
              "</div>"
            ],
            "text/plain": [
              "  INCIDENT_ID       DATE  X_1  X_2  ...  X_13  X_14  X_15  MULTIPLE_OFFENSE\n",
              "0   CR_102659 2004-07-04    0   36  ...    92    29    36                 0\n",
              "1   CR_189752 2017-07-18    1   37  ...   103   142    34                 1\n",
              "2   CR_184637 2017-03-15    0    3  ...   110    93    34                 1\n",
              "3   CR_139071 2009-02-13    0   33  ...    72    29    34                 1\n",
              "4   CR_109335 2005-04-13    0   33  ...   112    29    43                 1\n",
              "\n",
              "[5 rows x 18 columns]"
            ]
          },
          "metadata": {
            "tags": []
          },
          "execution_count": 10
        }
      ]
    },
    {
      "cell_type": "code",
      "metadata": {
        "id": "uRZcQSqJGILa",
        "colab_type": "code",
        "colab": {}
      },
      "source": [
        "train['DATE']=pd.to_datetime(train['DATE'],format='%d-%m%-y',dayfirst=True)\n",
        "test['DATE']=pd.to_datetime(test['DATE'],format='%d-%m%-y',dayfirst=True)"
      ],
      "execution_count": null,
      "outputs": []
    },
    {
      "cell_type": "code",
      "metadata": {
        "id": "_E2JEyW-I0Z-",
        "colab_type": "code",
        "colab": {}
      },
      "source": [
        "train =train.sort_values(by='DATE') "
      ],
      "execution_count": null,
      "outputs": []
    },
    {
      "cell_type": "code",
      "metadata": {
        "id": "p7qJo5e4Jm_7",
        "colab_type": "code",
        "colab": {
          "base_uri": "https://localhost:8080/",
          "height": 206
        },
        "outputId": "9a3316e6-525f-48b7-c22f-b6291b4d6dfa"
      },
      "source": [
        "train.head()"
      ],
      "execution_count": null,
      "outputs": [
        {
          "output_type": "execute_result",
          "data": {
            "text/html": [
              "<div>\n",
              "<style scoped>\n",
              "    .dataframe tbody tr th:only-of-type {\n",
              "        vertical-align: middle;\n",
              "    }\n",
              "\n",
              "    .dataframe tbody tr th {\n",
              "        vertical-align: top;\n",
              "    }\n",
              "\n",
              "    .dataframe thead th {\n",
              "        text-align: right;\n",
              "    }\n",
              "</style>\n",
              "<table border=\"1\" class=\"dataframe\">\n",
              "  <thead>\n",
              "    <tr style=\"text-align: right;\">\n",
              "      <th></th>\n",
              "      <th>INCIDENT_ID</th>\n",
              "      <th>DATE</th>\n",
              "      <th>X_1</th>\n",
              "      <th>X_2</th>\n",
              "      <th>X_3</th>\n",
              "      <th>X_4</th>\n",
              "      <th>X_5</th>\n",
              "      <th>X_6</th>\n",
              "      <th>X_7</th>\n",
              "      <th>X_8</th>\n",
              "      <th>X_9</th>\n",
              "      <th>X_10</th>\n",
              "      <th>X_11</th>\n",
              "      <th>X_12</th>\n",
              "      <th>X_13</th>\n",
              "      <th>X_14</th>\n",
              "      <th>X_15</th>\n",
              "      <th>MULTIPLE_OFFENSE</th>\n",
              "    </tr>\n",
              "  </thead>\n",
              "  <tbody>\n",
              "    <tr>\n",
              "      <th>19022</th>\n",
              "      <td>CR_1141</td>\n",
              "      <td>1991-01-01</td>\n",
              "      <td>0</td>\n",
              "      <td>22</td>\n",
              "      <td>22</td>\n",
              "      <td>7</td>\n",
              "      <td>3</td>\n",
              "      <td>8</td>\n",
              "      <td>3</td>\n",
              "      <td>7</td>\n",
              "      <td>2</td>\n",
              "      <td>2</td>\n",
              "      <td>0</td>\n",
              "      <td>2.0</td>\n",
              "      <td>72</td>\n",
              "      <td>142</td>\n",
              "      <td>34</td>\n",
              "      <td>1</td>\n",
              "    </tr>\n",
              "    <tr>\n",
              "      <th>13104</th>\n",
              "      <td>CR_2248</td>\n",
              "      <td>1991-01-02</td>\n",
              "      <td>0</td>\n",
              "      <td>33</td>\n",
              "      <td>32</td>\n",
              "      <td>2</td>\n",
              "      <td>1</td>\n",
              "      <td>7</td>\n",
              "      <td>1</td>\n",
              "      <td>1</td>\n",
              "      <td>6</td>\n",
              "      <td>1</td>\n",
              "      <td>249</td>\n",
              "      <td>1.0</td>\n",
              "      <td>72</td>\n",
              "      <td>142</td>\n",
              "      <td>34</td>\n",
              "      <td>1</td>\n",
              "    </tr>\n",
              "    <tr>\n",
              "      <th>1617</th>\n",
              "      <td>CR_3131</td>\n",
              "      <td>1991-01-03</td>\n",
              "      <td>1</td>\n",
              "      <td>36</td>\n",
              "      <td>34</td>\n",
              "      <td>2</td>\n",
              "      <td>1</td>\n",
              "      <td>15</td>\n",
              "      <td>10</td>\n",
              "      <td>0</td>\n",
              "      <td>5</td>\n",
              "      <td>1</td>\n",
              "      <td>174</td>\n",
              "      <td>0.0</td>\n",
              "      <td>92</td>\n",
              "      <td>93</td>\n",
              "      <td>0</td>\n",
              "      <td>1</td>\n",
              "    </tr>\n",
              "    <tr>\n",
              "      <th>6187</th>\n",
              "      <td>CR_3546</td>\n",
              "      <td>1991-01-04</td>\n",
              "      <td>0</td>\n",
              "      <td>39</td>\n",
              "      <td>39</td>\n",
              "      <td>6</td>\n",
              "      <td>5</td>\n",
              "      <td>8</td>\n",
              "      <td>3</td>\n",
              "      <td>1</td>\n",
              "      <td>6</td>\n",
              "      <td>1</td>\n",
              "      <td>0</td>\n",
              "      <td>1.0</td>\n",
              "      <td>72</td>\n",
              "      <td>62</td>\n",
              "      <td>34</td>\n",
              "      <td>1</td>\n",
              "    </tr>\n",
              "    <tr>\n",
              "      <th>1761</th>\n",
              "      <td>CR_821</td>\n",
              "      <td>1991-01-05</td>\n",
              "      <td>1</td>\n",
              "      <td>22</td>\n",
              "      <td>22</td>\n",
              "      <td>7</td>\n",
              "      <td>3</td>\n",
              "      <td>15</td>\n",
              "      <td>10</td>\n",
              "      <td>0</td>\n",
              "      <td>5</td>\n",
              "      <td>1</td>\n",
              "      <td>174</td>\n",
              "      <td>0.0</td>\n",
              "      <td>103</td>\n",
              "      <td>93</td>\n",
              "      <td>48</td>\n",
              "      <td>1</td>\n",
              "    </tr>\n",
              "  </tbody>\n",
              "</table>\n",
              "</div>"
            ],
            "text/plain": [
              "      INCIDENT_ID       DATE  X_1  X_2  ...  X_13  X_14  X_15  MULTIPLE_OFFENSE\n",
              "19022     CR_1141 1991-01-01    0   22  ...    72   142    34                 1\n",
              "13104     CR_2248 1991-01-02    0   33  ...    72   142    34                 1\n",
              "1617      CR_3131 1991-01-03    1   36  ...    92    93     0                 1\n",
              "6187      CR_3546 1991-01-04    0   39  ...    72    62    34                 1\n",
              "1761       CR_821 1991-01-05    1   22  ...   103    93    48                 1\n",
              "\n",
              "[5 rows x 18 columns]"
            ]
          },
          "metadata": {
            "tags": []
          },
          "execution_count": 14
        }
      ]
    },
    {
      "cell_type": "code",
      "metadata": {
        "id": "a9lYJw7TJpfr",
        "colab_type": "code",
        "colab": {}
      },
      "source": [
        "train =train.drop(['INCIDENT_ID'], axis = 1) "
      ],
      "execution_count": null,
      "outputs": []
    },
    {
      "cell_type": "code",
      "metadata": {
        "id": "IyjVvIKRKc57",
        "colab_type": "code",
        "colab": {
          "base_uri": "https://localhost:8080/",
          "height": 206
        },
        "outputId": "5c63a536-9d7c-49ba-ef58-a6d4da29aa22"
      },
      "source": [
        "train.head()"
      ],
      "execution_count": null,
      "outputs": [
        {
          "output_type": "execute_result",
          "data": {
            "text/html": [
              "<div>\n",
              "<style scoped>\n",
              "    .dataframe tbody tr th:only-of-type {\n",
              "        vertical-align: middle;\n",
              "    }\n",
              "\n",
              "    .dataframe tbody tr th {\n",
              "        vertical-align: top;\n",
              "    }\n",
              "\n",
              "    .dataframe thead th {\n",
              "        text-align: right;\n",
              "    }\n",
              "</style>\n",
              "<table border=\"1\" class=\"dataframe\">\n",
              "  <thead>\n",
              "    <tr style=\"text-align: right;\">\n",
              "      <th></th>\n",
              "      <th>DATE</th>\n",
              "      <th>X_1</th>\n",
              "      <th>X_2</th>\n",
              "      <th>X_3</th>\n",
              "      <th>X_4</th>\n",
              "      <th>X_5</th>\n",
              "      <th>X_6</th>\n",
              "      <th>X_7</th>\n",
              "      <th>X_8</th>\n",
              "      <th>X_9</th>\n",
              "      <th>X_10</th>\n",
              "      <th>X_11</th>\n",
              "      <th>X_12</th>\n",
              "      <th>X_13</th>\n",
              "      <th>X_14</th>\n",
              "      <th>X_15</th>\n",
              "      <th>MULTIPLE_OFFENSE</th>\n",
              "    </tr>\n",
              "  </thead>\n",
              "  <tbody>\n",
              "    <tr>\n",
              "      <th>19022</th>\n",
              "      <td>1991-01-01</td>\n",
              "      <td>0</td>\n",
              "      <td>22</td>\n",
              "      <td>22</td>\n",
              "      <td>7</td>\n",
              "      <td>3</td>\n",
              "      <td>8</td>\n",
              "      <td>3</td>\n",
              "      <td>7</td>\n",
              "      <td>2</td>\n",
              "      <td>2</td>\n",
              "      <td>0</td>\n",
              "      <td>2.0</td>\n",
              "      <td>72</td>\n",
              "      <td>142</td>\n",
              "      <td>34</td>\n",
              "      <td>1</td>\n",
              "    </tr>\n",
              "    <tr>\n",
              "      <th>13104</th>\n",
              "      <td>1991-01-02</td>\n",
              "      <td>0</td>\n",
              "      <td>33</td>\n",
              "      <td>32</td>\n",
              "      <td>2</td>\n",
              "      <td>1</td>\n",
              "      <td>7</td>\n",
              "      <td>1</td>\n",
              "      <td>1</td>\n",
              "      <td>6</td>\n",
              "      <td>1</td>\n",
              "      <td>249</td>\n",
              "      <td>1.0</td>\n",
              "      <td>72</td>\n",
              "      <td>142</td>\n",
              "      <td>34</td>\n",
              "      <td>1</td>\n",
              "    </tr>\n",
              "    <tr>\n",
              "      <th>1617</th>\n",
              "      <td>1991-01-03</td>\n",
              "      <td>1</td>\n",
              "      <td>36</td>\n",
              "      <td>34</td>\n",
              "      <td>2</td>\n",
              "      <td>1</td>\n",
              "      <td>15</td>\n",
              "      <td>10</td>\n",
              "      <td>0</td>\n",
              "      <td>5</td>\n",
              "      <td>1</td>\n",
              "      <td>174</td>\n",
              "      <td>0.0</td>\n",
              "      <td>92</td>\n",
              "      <td>93</td>\n",
              "      <td>0</td>\n",
              "      <td>1</td>\n",
              "    </tr>\n",
              "    <tr>\n",
              "      <th>6187</th>\n",
              "      <td>1991-01-04</td>\n",
              "      <td>0</td>\n",
              "      <td>39</td>\n",
              "      <td>39</td>\n",
              "      <td>6</td>\n",
              "      <td>5</td>\n",
              "      <td>8</td>\n",
              "      <td>3</td>\n",
              "      <td>1</td>\n",
              "      <td>6</td>\n",
              "      <td>1</td>\n",
              "      <td>0</td>\n",
              "      <td>1.0</td>\n",
              "      <td>72</td>\n",
              "      <td>62</td>\n",
              "      <td>34</td>\n",
              "      <td>1</td>\n",
              "    </tr>\n",
              "    <tr>\n",
              "      <th>1761</th>\n",
              "      <td>1991-01-05</td>\n",
              "      <td>1</td>\n",
              "      <td>22</td>\n",
              "      <td>22</td>\n",
              "      <td>7</td>\n",
              "      <td>3</td>\n",
              "      <td>15</td>\n",
              "      <td>10</td>\n",
              "      <td>0</td>\n",
              "      <td>5</td>\n",
              "      <td>1</td>\n",
              "      <td>174</td>\n",
              "      <td>0.0</td>\n",
              "      <td>103</td>\n",
              "      <td>93</td>\n",
              "      <td>48</td>\n",
              "      <td>1</td>\n",
              "    </tr>\n",
              "  </tbody>\n",
              "</table>\n",
              "</div>"
            ],
            "text/plain": [
              "            DATE  X_1  X_2  X_3  X_4  ...  X_12  X_13  X_14  X_15  MULTIPLE_OFFENSE\n",
              "19022 1991-01-01    0   22   22    7  ...   2.0    72   142    34                 1\n",
              "13104 1991-01-02    0   33   32    2  ...   1.0    72   142    34                 1\n",
              "1617  1991-01-03    1   36   34    2  ...   0.0    92    93     0                 1\n",
              "6187  1991-01-04    0   39   39    6  ...   1.0    72    62    34                 1\n",
              "1761  1991-01-05    1   22   22    7  ...   0.0   103    93    48                 1\n",
              "\n",
              "[5 rows x 17 columns]"
            ]
          },
          "metadata": {
            "tags": []
          },
          "execution_count": 16
        }
      ]
    },
    {
      "cell_type": "code",
      "metadata": {
        "id": "38xOmZGOzETB",
        "colab_type": "code",
        "colab": {
          "base_uri": "https://localhost:8080/",
          "height": 297
        },
        "outputId": "92a64588-9b8d-43f8-b677-7b39c2298a35"
      },
      "source": [
        "sns.distplot(train['X_12'])"
      ],
      "execution_count": null,
      "outputs": [
        {
          "output_type": "execute_result",
          "data": {
            "text/plain": [
              "<matplotlib.axes._subplots.AxesSubplot at 0x7f5e92cf7198>"
            ]
          },
          "metadata": {
            "tags": []
          },
          "execution_count": 76
        },
        {
          "output_type": "display_data",
          "data": {
            "image/png": "[encoded data removed]",
            "text/plain": [
              "<Figure size 432x288 with 1 Axes>"
            ]
          },
          "metadata": {
            "tags": [],
            "needs_background": "light"
          }
        }
      ]
    },
    {
      "cell_type": "code",
      "metadata": {
        "id": "AoZi4HfVzdXi",
        "colab_type": "code",
        "colab": {
          "base_uri": "https://localhost:8080/",
          "height": 297
        },
        "outputId": "7d261b00-ffb7-4cc2-bb69-284a9a584494"
      },
      "source": [
        "sns.distplot(train['X_10'])"
      ],
      "execution_count": null,
      "outputs": [
        {
          "output_type": "execute_result",
          "data": {
            "text/plain": [
              "<matplotlib.axes._subplots.AxesSubplot at 0x7f5e92a5cda0>"
            ]
          },
          "metadata": {
            "tags": []
          },
          "execution_count": 78
        },
        {
          "output_type": "display_data",
          "data": {
            "image/png": "[encoded data removed]",
            "text/plain": [
              "<Figure size 432x288 with 1 Axes>"
            ]
          },
          "metadata": {
            "tags": [],
            "needs_background": "light"
          }
        }
      ]
    },
    {
      "cell_type": "code",
      "metadata": {
        "id": "a48uJLVrKesa",
        "colab_type": "code",
        "colab": {
          "base_uri": "https://localhost:8080/",
          "height": 320
        },
        "outputId": "fcfd9c05-00a8-4acb-d1e9-8712d11e2f09"
      },
      "source": [
        "train.describe()"
      ],
      "execution_count": null,
      "outputs": [
        {
          "output_type": "execute_result",
          "data": {
            "text/html": [
              "<div>\n",
              "<style scoped>\n",
              "    .dataframe tbody tr th:only-of-type {\n",
              "        vertical-align: middle;\n",
              "    }\n",
              "\n",
              "    .dataframe tbody tr th {\n",
              "        vertical-align: top;\n",
              "    }\n",
              "\n",
              "    .dataframe thead th {\n",
              "        text-align: right;\n",
              "    }\n",
              "</style>\n",
              "<table border=\"1\" class=\"dataframe\">\n",
              "  <thead>\n",
              "    <tr style=\"text-align: right;\">\n",
              "      <th></th>\n",
              "      <th>X_1</th>\n",
              "      <th>X_2</th>\n",
              "      <th>X_3</th>\n",
              "      <th>X_4</th>\n",
              "      <th>X_5</th>\n",
              "      <th>X_6</th>\n",
              "      <th>X_7</th>\n",
              "      <th>X_8</th>\n",
              "      <th>X_9</th>\n",
              "      <th>X_10</th>\n",
              "      <th>X_11</th>\n",
              "      <th>X_12</th>\n",
              "      <th>X_13</th>\n",
              "      <th>X_14</th>\n",
              "      <th>X_15</th>\n",
              "      <th>MULTIPLE_OFFENSE</th>\n",
              "    </tr>\n",
              "  </thead>\n",
              "  <tbody>\n",
              "    <tr>\n",
              "      <th>count</th>\n",
              "      <td>23856.000000</td>\n",
              "      <td>23856.000000</td>\n",
              "      <td>23856.000000</td>\n",
              "      <td>23856.000000</td>\n",
              "      <td>23856.000000</td>\n",
              "      <td>23856.000000</td>\n",
              "      <td>23856.000000</td>\n",
              "      <td>23856.000000</td>\n",
              "      <td>23856.000000</td>\n",
              "      <td>23856.000000</td>\n",
              "      <td>23856.000000</td>\n",
              "      <td>23674.000000</td>\n",
              "      <td>23856.000000</td>\n",
              "      <td>23856.000000</td>\n",
              "      <td>23856.000000</td>\n",
              "      <td>23856.000000</td>\n",
              "    </tr>\n",
              "    <tr>\n",
              "      <th>mean</th>\n",
              "      <td>0.483778</td>\n",
              "      <td>24.791206</td>\n",
              "      <td>24.637450</td>\n",
              "      <td>4.276744</td>\n",
              "      <td>2.455609</td>\n",
              "      <td>6.154175</td>\n",
              "      <td>4.876509</td>\n",
              "      <td>0.972460</td>\n",
              "      <td>4.924128</td>\n",
              "      <td>1.244802</td>\n",
              "      <td>206.954519</td>\n",
              "      <td>0.974064</td>\n",
              "      <td>85.237383</td>\n",
              "      <td>72.674296</td>\n",
              "      <td>33.464747</td>\n",
              "      <td>0.955231</td>\n",
              "    </tr>\n",
              "    <tr>\n",
              "      <th>std</th>\n",
              "      <td>1.439738</td>\n",
              "      <td>15.240231</td>\n",
              "      <td>15.135093</td>\n",
              "      <td>2.944672</td>\n",
              "      <td>1.963095</td>\n",
              "      <td>4.471756</td>\n",
              "      <td>3.881931</td>\n",
              "      <td>1.453144</td>\n",
              "      <td>1.362625</td>\n",
              "      <td>1.119301</td>\n",
              "      <td>93.033348</td>\n",
              "      <td>1.167725</td>\n",
              "      <td>27.597226</td>\n",
              "      <td>43.297320</td>\n",
              "      <td>8.386834</td>\n",
              "      <td>0.206800</td>\n",
              "    </tr>\n",
              "    <tr>\n",
              "      <th>min</th>\n",
              "      <td>0.000000</td>\n",
              "      <td>0.000000</td>\n",
              "      <td>0.000000</td>\n",
              "      <td>0.000000</td>\n",
              "      <td>0.000000</td>\n",
              "      <td>1.000000</td>\n",
              "      <td>0.000000</td>\n",
              "      <td>0.000000</td>\n",
              "      <td>0.000000</td>\n",
              "      <td>1.000000</td>\n",
              "      <td>0.000000</td>\n",
              "      <td>0.000000</td>\n",
              "      <td>0.000000</td>\n",
              "      <td>0.000000</td>\n",
              "      <td>0.000000</td>\n",
              "      <td>0.000000</td>\n",
              "    </tr>\n",
              "    <tr>\n",
              "      <th>25%</th>\n",
              "      <td>0.000000</td>\n",
              "      <td>7.000000</td>\n",
              "      <td>8.000000</td>\n",
              "      <td>2.000000</td>\n",
              "      <td>1.000000</td>\n",
              "      <td>3.000000</td>\n",
              "      <td>2.000000</td>\n",
              "      <td>0.000000</td>\n",
              "      <td>5.000000</td>\n",
              "      <td>1.000000</td>\n",
              "      <td>174.000000</td>\n",
              "      <td>1.000000</td>\n",
              "      <td>72.000000</td>\n",
              "      <td>29.000000</td>\n",
              "      <td>34.000000</td>\n",
              "      <td>1.000000</td>\n",
              "    </tr>\n",
              "    <tr>\n",
              "      <th>50%</th>\n",
              "      <td>0.000000</td>\n",
              "      <td>24.000000</td>\n",
              "      <td>24.000000</td>\n",
              "      <td>4.000000</td>\n",
              "      <td>3.000000</td>\n",
              "      <td>5.000000</td>\n",
              "      <td>4.000000</td>\n",
              "      <td>1.000000</td>\n",
              "      <td>5.000000</td>\n",
              "      <td>1.000000</td>\n",
              "      <td>249.000000</td>\n",
              "      <td>1.000000</td>\n",
              "      <td>98.000000</td>\n",
              "      <td>62.000000</td>\n",
              "      <td>34.000000</td>\n",
              "      <td>1.000000</td>\n",
              "    </tr>\n",
              "    <tr>\n",
              "      <th>75%</th>\n",
              "      <td>0.000000</td>\n",
              "      <td>36.000000</td>\n",
              "      <td>35.000000</td>\n",
              "      <td>6.000000</td>\n",
              "      <td>5.000000</td>\n",
              "      <td>8.000000</td>\n",
              "      <td>7.000000</td>\n",
              "      <td>1.000000</td>\n",
              "      <td>6.000000</td>\n",
              "      <td>1.000000</td>\n",
              "      <td>249.000000</td>\n",
              "      <td>1.000000</td>\n",
              "      <td>103.000000</td>\n",
              "      <td>107.000000</td>\n",
              "      <td>34.000000</td>\n",
              "      <td>1.000000</td>\n",
              "    </tr>\n",
              "    <tr>\n",
              "      <th>max</th>\n",
              "      <td>7.000000</td>\n",
              "      <td>52.000000</td>\n",
              "      <td>52.000000</td>\n",
              "      <td>10.000000</td>\n",
              "      <td>5.000000</td>\n",
              "      <td>19.000000</td>\n",
              "      <td>18.000000</td>\n",
              "      <td>99.000000</td>\n",
              "      <td>6.000000</td>\n",
              "      <td>90.000000</td>\n",
              "      <td>332.000000</td>\n",
              "      <td>90.000000</td>\n",
              "      <td>116.000000</td>\n",
              "      <td>142.000000</td>\n",
              "      <td>50.000000</td>\n",
              "      <td>1.000000</td>\n",
              "    </tr>\n",
              "  </tbody>\n",
              "</table>\n",
              "</div>"
            ],
            "text/plain": [
              "                X_1           X_2  ...          X_15  MULTIPLE_OFFENSE\n",
              "count  23856.000000  23856.000000  ...  23856.000000      23856.000000\n",
              "mean       0.483778     24.791206  ...     33.464747          0.955231\n",
              "std        1.439738     15.240231  ...      8.386834          0.206800\n",
              "min        0.000000      0.000000  ...      0.000000          0.000000\n",
              "25%        0.000000      7.000000  ...     34.000000          1.000000\n",
              "50%        0.000000     24.000000  ...     34.000000          1.000000\n",
              "75%        0.000000     36.000000  ...     34.000000          1.000000\n",
              "max        7.000000     52.000000  ...     50.000000          1.000000\n",
              "\n",
              "[8 rows x 16 columns]"
            ]
          },
          "metadata": {
            "tags": []
          },
          "execution_count": 17
        }
      ]
    },
    {
      "cell_type": "code",
      "metadata": {
        "id": "w5t_i4mONCCm",
        "colab_type": "code",
        "colab": {
          "base_uri": "https://localhost:8080/",
          "height": 317
        },
        "outputId": "b19876af-6712-418f-c608-e940735acafa"
      },
      "source": [
        "train[[\"X_2\", \"X_3\"]].plot(bins=30, kind=\"hist\",subplots=True)"
      ],
      "execution_count": null,
      "outputs": [
        {
          "output_type": "execute_result",
          "data": {
            "text/plain": [
              "array([<matplotlib.axes._subplots.AxesSubplot object at 0x7f5e90efab38>,\n",
              "       <matplotlib.axes._subplots.AxesSubplot object at 0x7f5e90e73a20>],\n",
              "      dtype=object)"
            ]
          },
          "metadata": {
            "tags": []
          },
          "execution_count": 112
        },
        {
          "output_type": "display_data",
          "data": {
            "image/png": "[encoded data removed]",
            "text/plain": [
              "<Figure size 432x288 with 2 Axes>"
            ]
          },
          "metadata": {
            "tags": [],
            "needs_background": "light"
          }
        }
      ]
    },
    {
      "cell_type": "code",
      "metadata": {
        "id": "l0is8l6MIf_i",
        "colab_type": "code",
        "colab": {
          "base_uri": "https://localhost:8080/",
          "height": 317
        },
        "outputId": "9a67a87c-2307-4671-df7e-1777d854d4a7"
      },
      "source": [
        "train[[\"X_10\", \"X_12\"]].plot(bins=30, kind=\"hist\",subplots=True)"
      ],
      "execution_count": null,
      "outputs": [
        {
          "output_type": "execute_result",
          "data": {
            "text/plain": [
              "array([<matplotlib.axes._subplots.AxesSubplot object at 0x7f5e91026518>,\n",
              "       <matplotlib.axes._subplots.AxesSubplot object at 0x7f5e90cbc908>],\n",
              "      dtype=object)"
            ]
          },
          "metadata": {
            "tags": []
          },
          "execution_count": 113
        },
        {
          "output_type": "display_data",
          "data": {
            "image/png": "[encoded data removed]",
            "text/plain": [
              "<Figure size 432x288 with 2 Axes>"
            ]
          },
          "metadata": {
            "tags": [],
            "needs_background": "light"
          }
        }
      ]
    },
    {
      "cell_type": "code",
      "metadata": {
        "id": "k_Wq2ULHInp4",
        "colab_type": "code",
        "colab": {
          "base_uri": "https://localhost:8080/",
          "height": 317
        },
        "outputId": "84fcc6f7-f528-430e-9c5c-fba500800385"
      },
      "source": [
        "train[[\"X_6\", \"X_7\"]].plot(bins=30, kind=\"hist\",subplots=True)"
      ],
      "execution_count": null,
      "outputs": [
        {
          "output_type": "execute_result",
          "data": {
            "text/plain": [
              "array([<matplotlib.axes._subplots.AxesSubplot object at 0x7f5e90f2f898>,\n",
              "       <matplotlib.axes._subplots.AxesSubplot object at 0x7f5e91330e10>],\n",
              "      dtype=object)"
            ]
          },
          "metadata": {
            "tags": []
          },
          "execution_count": 114
        },
        {
          "output_type": "display_data",
          "data": {
            "image/png": "[encoded data removed]",
            "text/plain": [
              "<Figure size 432x288 with 2 Axes>"
            ]
          },
          "metadata": {
            "tags": [],
            "needs_background": "light"
          }
        }
      ]
    },
    {
      "cell_type": "code",
      "metadata": {
        "id": "m9GIgvc7Oa_F",
        "colab_type": "code",
        "colab": {
          "base_uri": "https://localhost:8080/",
          "height": 297
        },
        "outputId": "3f826879-2a33-4262-b911-6ea547d5ae5e"
      },
      "source": [
        "sns.distplot(train['X_6'])"
      ],
      "execution_count": null,
      "outputs": [
        {
          "output_type": "execute_result",
          "data": {
            "text/plain": [
              "<matplotlib.axes._subplots.AxesSubplot at 0x7f5e900496d8>"
            ]
          },
          "metadata": {
            "tags": []
          },
          "execution_count": 128
        },
        {
          "output_type": "display_data",
          "data": {
            "image/png": "[encoded data removed]",
            "text/plain": [
              "<Figure size 432x288 with 1 Axes>"
            ]
          },
          "metadata": {
            "tags": [],
            "needs_background": "light"
          }
        }
      ]
    },
    {
      "cell_type": "markdown",
      "metadata": {
        "id": "BLNDhvmdvG54",
        "colab_type": "text"
      },
      "source": [
        "Features like (X_10,X_12) & (X_3,X_2) ,(X_6,X_7) have Similar Distributions  "
      ]
    },
    {
      "cell_type": "code",
      "metadata": {
        "id": "xq08rd3_M82C",
        "colab_type": "code",
        "colab": {
          "base_uri": "https://localhost:8080/",
          "height": 34
        },
        "outputId": "5f7ede69-49de-4116-82ce-c0f291509c5c"
      },
      "source": [
        "numeric_data = train.select_dtypes(include=[np.number])\n",
        "cat_data = train.select_dtypes(exclude=[np.number])\n",
        "print (\"There are {} numeric and {} categorical columns in train data\".format(numeric_data.shape[1],cat_data.shape[1]))"
      ],
      "execution_count": null,
      "outputs": [
        {
          "output_type": "stream",
          "text": [
            "There are 16 numeric and 2 categorical columns in train data\n"
          ],
          "name": "stdout"
        }
      ]
    },
    {
      "cell_type": "code",
      "metadata": {
        "id": "Z9zXVs2KO5-g",
        "colab_type": "code",
        "colab": {
          "base_uri": "https://localhost:8080/",
          "height": 429
        },
        "outputId": "aea69d04-cbcb-46ba-ab6a-51b6d5d53a23"
      },
      "source": [
        "#correlation plot\n",
        "import seaborn as sns\n",
        "corr = numeric_data.corr()\n",
        "sns.heatmap(corr)"
      ],
      "execution_count": null,
      "outputs": [
        {
          "output_type": "stream",
          "text": [
            "/usr/local/lib/python3.6/dist-packages/statsmodels/tools/_testing.py:19: FutureWarning: pandas.util.testing is deprecated. Use the functions in the public API at pandas.testing instead.\n",
            "  import pandas.util.testing as tm\n"
          ],
          "name": "stderr"
        },
        {
          "output_type": "execute_result",
          "data": {
            "text/plain": [
              "<matplotlib.axes._subplots.AxesSubplot at 0x7f59370174e0>"
            ]
          },
          "metadata": {
            "tags": []
          },
          "execution_count": 8
        },
        {
          "output_type": "display_data",
          "data": {
            "image/png": "[encoded data removed]",
            "text/plain": [
              "<Figure size 432x288 with 2 Axes>"
            ]
          },
          "metadata": {
            "tags": [],
            "needs_background": "light"
          }
        }
      ]
    },
    {
      "cell_type": "code",
      "metadata": {
        "id": "tRag__tLPGTB",
        "colab_type": "code",
        "colab": {
          "base_uri": "https://localhost:8080/",
          "height": 434
        },
        "outputId": "3dafaafa-54c2-42ab-e506-ab4085ca0746"
      },
      "source": [
        "print (corr['MULTIPLE_OFFENSE'].sort_values(ascending=False)[:15], '\\n') #top 15 values\n",
        "print ('----------------------')\n",
        "print (corr['MULTIPLE_OFFENSE'].sort_values(ascending=False)[-5:]) #last 5 values"
      ],
      "execution_count": null,
      "outputs": [
        {
          "output_type": "stream",
          "text": [
            "MULTIPLE_OFFENSE    1.000000\n",
            "X_11                0.105088\n",
            "X_15                0.044916\n",
            "X_1                 0.014034\n",
            "X_13                0.006512\n",
            "X_9                -0.000748\n",
            "X_4                -0.002921\n",
            "X_5                -0.003450\n",
            "X_6                -0.007903\n",
            "X_7                -0.008036\n",
            "X_14               -0.015267\n",
            "X_3                -0.027218\n",
            "X_2                -0.027293\n",
            "X_8                -0.033397\n",
            "X_12               -0.113061\n",
            "Name: MULTIPLE_OFFENSE, dtype: float64 \n",
            "\n",
            "----------------------\n",
            "X_3    -0.027218\n",
            "X_2    -0.027293\n",
            "X_8    -0.033397\n",
            "X_12   -0.113061\n",
            "X_10   -0.242596\n",
            "Name: MULTIPLE_OFFENSE, dtype: float64\n"
          ],
          "name": "stdout"
        }
      ]
    },
    {
      "cell_type": "markdown",
      "metadata": {
        "id": "Gf_zCJ4Dvma_",
        "colab_type": "text"
      },
      "source": [
        "No correaltion between dependent & Independent Variables "
      ]
    },
    {
      "cell_type": "code",
      "metadata": {
        "id": "57YeqeD6vc8m",
        "colab_type": "code",
        "colab": {
          "base_uri": "https://localhost:8080/",
          "height": 312
        },
        "outputId": "47dad20c-036a-46c8-9b30-ec0f0e80df16"
      },
      "source": [
        "print (corr['X_12'].sort_values(ascending=False)[:15], '\\n')"
      ],
      "execution_count": null,
      "outputs": [
        {
          "output_type": "stream",
          "text": [
            "X_12    1.000000\n",
            "X_10    0.877743\n",
            "X_8     0.273107\n",
            "X_5     0.082068\n",
            "X_4     0.059135\n",
            "X_15    0.044005\n",
            "X_13    0.030012\n",
            "X_11    0.027363\n",
            "X_9     0.005150\n",
            "X_7    -0.000409\n",
            "X_6    -0.031258\n",
            "X_1    -0.034835\n",
            "X_14   -0.042033\n",
            "X_3    -0.064872\n",
            "X_2    -0.067720\n",
            "Name: X_12, dtype: float64 \n",
            "\n"
          ],
          "name": "stdout"
        }
      ]
    },
    {
      "cell_type": "code",
      "metadata": {
        "id": "MQ9ocQ42wC1D",
        "colab_type": "code",
        "colab": {
          "base_uri": "https://localhost:8080/",
          "height": 312
        },
        "outputId": "b374b489-6b31-4b64-c0ac-fac24eb5b1bc"
      },
      "source": [
        "print (corr['X_6'].sort_values(ascending=False)[:15], '\\n')"
      ],
      "execution_count": null,
      "outputs": [
        {
          "output_type": "stream",
          "text": [
            "X_6                 1.000000\n",
            "X_7                 0.695243\n",
            "X_1                 0.409876\n",
            "X_3                 0.124662\n",
            "X_2                 0.119718\n",
            "X_9                 0.079192\n",
            "X_13                0.047845\n",
            "X_4                 0.028929\n",
            "X_10                0.021186\n",
            "X_11               -0.002990\n",
            "X_15               -0.006621\n",
            "MULTIPLE_OFFENSE   -0.007903\n",
            "X_14               -0.013155\n",
            "X_12               -0.031258\n",
            "X_5                -0.062784\n",
            "Name: X_6, dtype: float64 \n",
            "\n"
          ],
          "name": "stdout"
        }
      ]
    },
    {
      "cell_type": "code",
      "metadata": {
        "id": "AZr_C3YPwH1k",
        "colab_type": "code",
        "colab": {
          "base_uri": "https://localhost:8080/",
          "height": 312
        },
        "outputId": "4eec8414-2da3-47f9-e7ee-06ef97d34f59"
      },
      "source": [
        "print (corr['X_2'].sort_values(ascending=False)[:15], '\\n')"
      ],
      "execution_count": null,
      "outputs": [
        {
          "output_type": "stream",
          "text": [
            "X_2                 1.000000\n",
            "X_3                 0.996985\n",
            "X_6                 0.119718\n",
            "X_7                 0.058806\n",
            "X_13                0.046668\n",
            "X_11                0.038003\n",
            "X_1                 0.021999\n",
            "X_14                0.015194\n",
            "X_15                0.013822\n",
            "X_10               -0.016710\n",
            "X_9                -0.017749\n",
            "MULTIPLE_OFFENSE   -0.027293\n",
            "X_8                -0.038174\n",
            "X_12               -0.067720\n",
            "X_4                -0.104321\n",
            "Name: X_2, dtype: float64 \n",
            "\n"
          ],
          "name": "stdout"
        }
      ]
    },
    {
      "cell_type": "markdown",
      "metadata": {
        "id": "UzUCo-yewKEk",
        "colab_type": "text"
      },
      "source": [
        "# There is a Collinearity between the independent variables "
      ]
    },
    {
      "cell_type": "markdown",
      "metadata": {
        "id": "4HzYbK1fwd6B",
        "colab_type": "text"
      },
      "source": [
        "#Base Model"
      ]
    },
    {
      "cell_type": "code",
      "metadata": {
        "id": "53Td5DcjPPtr",
        "colab_type": "code",
        "colab": {}
      },
      "source": [
        "\n",
        "from sklearn.linear_model import LogisticRegression\n",
        "from sklearn.model_selis_month_startection import train_test_split\n",
        "from sklearn.metrics import f1_score,recall_score,precision_score\n"
      ],
      "execution_count": 6,
      "outputs": []
    },
    {
      "cell_type": "code",
      "metadata": {
        "id": "huMBTAN_T0Fg",
        "colab_type": "code",
        "colab": {
          "base_uri": "https://localhost:8080/",
          "height": 206
        },
        "outputId": "78b7c727-bd5c-4842-94da-e176b573d6cb"
      },
      "source": [
        "train_df.head()"
      ],
      "execution_count": null,
      "outputs": [
        {
          "output_type": "execute_result",
          "data": {
            "text/html": [
              "<div>\n",
              "<style scoped>\n",
              "    .dataframe tbody tr th:only-of-type {\n",
              "        vertical-align: middle;\n",
              "    }\n",
              "\n",
              "    .dataframe tbody tr th {\n",
              "        vertical-align: top;\n",
              "    }\n",
              "\n",
              "    .dataframe thead th {\n",
              "        text-align: right;\n",
              "    }\n",
              "</style>\n",
              "<table border=\"1\" class=\"dataframe\">\n",
              "  <thead>\n",
              "    <tr style=\"text-align: right;\">\n",
              "      <th></th>\n",
              "      <th>DATE</th>\n",
              "      <th>X_1</th>\n",
              "      <th>X_2</th>\n",
              "      <th>X_3</th>\n",
              "      <th>X_4</th>\n",
              "      <th>X_5</th>\n",
              "      <th>X_6</th>\n",
              "      <th>X_7</th>\n",
              "      <th>X_8</th>\n",
              "      <th>X_9</th>\n",
              "      <th>X_10</th>\n",
              "      <th>X_11</th>\n",
              "      <th>X_12</th>\n",
              "      <th>X_13</th>\n",
              "      <th>X_14</th>\n",
              "      <th>X_15</th>\n",
              "      <th>MULTIPLE_OFFENSE</th>\n",
              "    </tr>\n",
              "  </thead>\n",
              "  <tbody>\n",
              "    <tr>\n",
              "      <th>19022</th>\n",
              "      <td>1991-01-01</td>\n",
              "      <td>0</td>\n",
              "      <td>22</td>\n",
              "      <td>22</td>\n",
              "      <td>7</td>\n",
              "      <td>3</td>\n",
              "      <td>8</td>\n",
              "      <td>3</td>\n",
              "      <td>7</td>\n",
              "      <td>2</td>\n",
              "      <td>2</td>\n",
              "      <td>0</td>\n",
              "      <td>2.0</td>\n",
              "      <td>72</td>\n",
              "      <td>142</td>\n",
              "      <td>34</td>\n",
              "      <td>1</td>\n",
              "    </tr>\n",
              "    <tr>\n",
              "      <th>13104</th>\n",
              "      <td>1991-01-02</td>\n",
              "      <td>0</td>\n",
              "      <td>33</td>\n",
              "      <td>32</td>\n",
              "      <td>2</td>\n",
              "      <td>1</td>\n",
              "      <td>7</td>\n",
              "      <td>1</td>\n",
              "      <td>1</td>\n",
              "      <td>6</td>\n",
              "      <td>1</td>\n",
              "      <td>249</td>\n",
              "      <td>1.0</td>\n",
              "      <td>72</td>\n",
              "      <td>142</td>\n",
              "      <td>34</td>\n",
              "      <td>1</td>\n",
              "    </tr>\n",
              "    <tr>\n",
              "      <th>1617</th>\n",
              "      <td>1991-01-03</td>\n",
              "      <td>1</td>\n",
              "      <td>36</td>\n",
              "      <td>34</td>\n",
              "      <td>2</td>\n",
              "      <td>1</td>\n",
              "      <td>15</td>\n",
              "      <td>10</td>\n",
              "      <td>0</td>\n",
              "      <td>5</td>\n",
              "      <td>1</td>\n",
              "      <td>174</td>\n",
              "      <td>0.0</td>\n",
              "      <td>92</td>\n",
              "      <td>93</td>\n",
              "      <td>0</td>\n",
              "      <td>1</td>\n",
              "    </tr>\n",
              "    <tr>\n",
              "      <th>6187</th>\n",
              "      <td>1991-01-04</td>\n",
              "      <td>0</td>\n",
              "      <td>39</td>\n",
              "      <td>39</td>\n",
              "      <td>6</td>\n",
              "      <td>5</td>\n",
              "      <td>8</td>\n",
              "      <td>3</td>\n",
              "      <td>1</td>\n",
              "      <td>6</td>\n",
              "      <td>1</td>\n",
              "      <td>0</td>\n",
              "      <td>1.0</td>\n",
              "      <td>72</td>\n",
              "      <td>62</td>\n",
              "      <td>34</td>\n",
              "      <td>1</td>\n",
              "    </tr>\n",
              "    <tr>\n",
              "      <th>1761</th>\n",
              "      <td>1991-01-05</td>\n",
              "      <td>1</td>\n",
              "      <td>22</td>\n",
              "      <td>22</td>\n",
              "      <td>7</td>\n",
              "      <td>3</td>\n",
              "      <td>15</td>\n",
              "      <td>10</td>\n",
              "      <td>0</td>\n",
              "      <td>5</td>\n",
              "      <td>1</td>\n",
              "      <td>174</td>\n",
              "      <td>0.0</td>\n",
              "      <td>103</td>\n",
              "      <td>93</td>\n",
              "      <td>48</td>\n",
              "      <td>1</td>\n",
              "    </tr>\n",
              "  </tbody>\n",
              "</table>\n",
              "</div>"
            ],
            "text/plain": [
              "            DATE  X_1  X_2  X_3  X_4  ...  X_12  X_13  X_14  X_15  MULTIPLE_OFFENSE\n",
              "19022 1991-01-01    0   22   22    7  ...   2.0    72   142    34                 1\n",
              "13104 1991-01-02    0   33   32    2  ...   1.0    72   142    34                 1\n",
              "1617  1991-01-03    1   36   34    2  ...   0.0    92    93     0                 1\n",
              "6187  1991-01-04    0   39   39    6  ...   1.0    72    62    34                 1\n",
              "1761  1991-01-05    1   22   22    7  ...   0.0   103    93    48                 1\n",
              "\n",
              "[5 rows x 17 columns]"
            ]
          },
          "metadata": {
            "tags": []
          },
          "execution_count": 184
        }
      ]
    },
    {
      "cell_type": "code",
      "metadata": {
        "id": "pelIqE0x7UyG",
        "colab_type": "code",
        "colab": {}
      },
      "source": [
        "train_df =trainNeural Networks, Ensemble Methods, Feature selection techniques etc\n",
        "Understanding of advanced algorithms (i.e. Deep Learning, Probabilistic Graph Models) will be good to have"
      ],
      "execution_count": null,
      "outputs": []
    },
    {
      "cell_type": "code",
      "metadata": {
        "id": "DrZE3xBHT2zd",
        "colab_type": "code",
        "colab": {}
      },
      "source": [
        "df =train_df.drop(['INCIDENT_ID','DATE','MULTIPLE_OFFENSE',], axis = 1) "
      ],
      "execution_count": null,
      "outputs": []
    },
    {
      "cell_type": "code",
      "metadata": {
        "id": "VA7A6IVc7HIJ",
        "colab_type": "code",
        "colab": {
          "base_uri": "https://localhost:8080/",
          "height": 206
        },
        "outputId": "1a7a9df5-19fa-4241-a743-deae46ffa0e5"
      },
      "source": [
        "\n",
        "df.head()\n"
      ],
      "execution_count": null,
      "outputs": [
        {
          "output_type": "execute_result",
          "data": {
            "text/html": [
              "<div>\n",
              "<style scoped>\n",
              "    .dataframe tbody tr th:only-of-type {\n",
              "        vertical-align: middle;\n",
              "    }\n",
              "\n",
              "    .dataframe tbody tr th {\n",
              "        vertical-align: top;\n",
              "    }\n",
              "\n",
              "    .dataframe thead th {\n",
              "        text-align: right;\n",
              "    }\n",
              "</style>\n",
              "<table border=\"1\" class=\"dataframe\">\n",
              "  <thead>\n",
              "    <tr style=\"text-align: right;\">\n",
              "      <th></th>\n",
              "      <th>X_1</th>\n",
              "      <th>X_2</th>\n",
              "      <th>X_3</th>\n",
              "      <th>X_4</th>\n",
              "      <th>X_5</th>\n",
              "      <th>X_6</th>\n",
              "      <th>X_7</th>\n",
              "      <th>X_8</th>\n",
              "      <th>X_9</th>\n",
              "      <th>X_10</th>\n",
              "      <th>X_11</th>\n",
              "      <th>X_12</th>\n",
              "      <th>X_13</th>\n",
              "      <th>X_14</th>\n",
              "      <th>X_15</th>\n",
              "    </tr>\n",
              "  </thead>\n",
              "  <tbody>\n",
              "    <tr>\n",
              "      <th>0</th>\n",
              "      <td>0</td>\n",
              "      <td>36</td>\n",
              "      <td>34</td>\n",
              "      <td>2</td>\n",
              "      <td>1</td>\n",
              "      <td>5</td>\n",
              "      <td>6</td>\n",
              "      <td>1</td>\n",
              "      <td>6</td>\n",
              "      <td>1</td>\n",
              "      <td>174</td>\n",
              "      <td>1.0</td>\n",
              "      <td>92</td>\n",
              "      <td>29</td>\n",
              "      <td>36</td>\n",
              "    </tr>\n",
              "    <tr>\n",
              "      <th>1</th>\n",
              "      <td>1</td>\n",
              "      <td>37</td>\n",
              "      <td>37</td>\n",
              "      <td>0</td>\n",
              "      <td>0</td>\n",
              "      <td>11</td>\n",
              "      <td>17</td>\n",
              "      <td>1</td>\n",
              "      <td>6</td>\n",
              "      <td>1</td>\n",
              "      <td>236</td>\n",
              "      <td>1.0</td>\n",
              "      <td>103</td>\n",
              "      <td>142</td>\n",
              "      <td>34</td>\n",
              "    </tr>\n",
              "    <tr>\n",
              "      <th>2</th>\n",
              "      <td>0</td>\n",
              "      <td>3</td>\n",
              "      <td>2</td>\n",
              "      <td>3</td>\n",
              "      <td>5</td>\n",
              "      <td>1</td>\n",
              "      <td>0</td>\n",
              "      <td>2</td>\n",
              "      <td>3</td>\n",
              "      <td>1</td>\n",
              "      <td>174</td>\n",
              "      <td>1.0</td>\n",
              "      <td>110</td>\n",
              "      <td>93</td>\n",
              "      <td>34</td>\n",
              "    </tr>\n",
              "    <tr>\n",
              "      <th>3</th>\n",
              "      <td>0</td>\n",
              "      <td>33</td>\n",
              "      <td>32</td>\n",
              "      <td>2</td>\n",
              "      <td>1</td>\n",
              "      <td>7</td>\n",
              "      <td>1</td>\n",
              "      <td>1</td>\n",
              "      <td>6</td>\n",
              "      <td>1</td>\n",
              "      <td>249</td>\n",
              "      <td>1.0</td>\n",
              "      <td>72</td>\n",
              "      <td>29</td>\n",
              "      <td>34</td>\n",
              "    </tr>\n",
              "    <tr>\n",
              "      <th>4</th>\n",
              "      <td>0</td>\n",
              "      <td>33</td>\n",
              "      <td>32</td>\n",
              "      <td>2</td>\n",
              "      <td>1</td>\n",
              "      <td>8</td>\n",
              "      <td>3</td>\n",
              "      <td>0</td>\n",
              "      <td>5</td>\n",
              "      <td>1</td>\n",
              "      <td>174</td>\n",
              "      <td>0.0</td>\n",
              "      <td>112</td>\n",
              "      <td>29</td>\n",
              "      <td>43</td>\n",
              "    </tr>\n",
              "  </tbody>\n",
              "</table>\n",
              "</div>"
            ],
            "text/plain": [
              "   X_1  X_2  X_3  X_4  X_5  X_6  X_7  ...  X_9  X_10  X_11  X_12  X_13  X_14  X_15\n",
              "0    0   36   34    2    1    5    6  ...    6     1   174   1.0    92    29    36\n",
              "1    1   37   37    0    0   11   17  ...    6     1   236   1.0   103   142    34\n",
              "2    0    3    2    3    5    1    0  ...    3     1   174   1.0   110    93    34\n",
              "3    0   33   32    2    1    7    1  ...    6     1   249   1.0    72    29    34\n",
              "4    0   33   32    2    1    8    3  ...    5     1   174   0.0   112    29    43\n",
              "\n",
              "[5 rows x 15 columns]"
            ]
          },
          "metadata": {
            "tags": []
          },
          "execution_count": 15
        }
      ]
    },
    {
      "cell_type": "code",
      "metadata": {
        "id": "Kl4xRGtn79vH",
        "colab_type": "code",
        "colab": {
          "base_uri": "https://localhost:8080/",
          "height": 69
        },
        "outputId": "9135103e-6bb6-4419-b60f-319206836f5e"
      },
      "source": [
        "train_df['MULTIPLE_OFFENSE'].value_counts()"
      ],
      "execution_count": null,
      "outputs": [
        {
          "output_type": "execute_result",
          "data": {
            "text/plain": [
              "1    22788\n",
              "0     1068\n",
              "Name: MULTIPLE_OFFENSE, dtype: int64"
            ]
          },
          "metadata": {
            "tags": []
          },
          "execution_count": 16
        }
      ]
    },
    {
      "cell_type": "code",
      "metadata": {
        "id": "dSZ4dmKnQa6f",
        "colab_type": "code",
        "colab": {}
      },
      "source": [
        "# splitting data into training and validation set(@[A-Za-z0-9]+)\n",
        "xtrain_bow, xvalid_bow, ytrain, yvalid = train_test_split(df,train_df['MULTIPLE_OFFENSE'],  \n",
        "                                                          random_state=42, \n",
        "                                                          test_size=0.3)"
      ],
      "execution_count": null,
      "outputs": []
    },
    {
      "cell_type": "code",
      "metadata": {
        "id": "UHrzNzLnwo47",
        "colab_type": "code",
        "colab": {}
      },
      "source": [
        "Base model (without perform any preprocessing and balancing of class  )\n",
        "#Using random Parameters"
      ],
      "execution_count": null,
      "outputs": []
    },
    {
      "cell_type": "code",
      "metadata": {
        "id": "Z2ifzv-MUGQO",
        "colab_type": "code",
        "colab": {}
      },
      "source": [
        "xgb = XGBClassifier(learning_rate =0.1,\n",
        "                    n_estimators=1000,\n",
        "                    max_depth=1,\n",
        "                    min_child_weight=3,\n",
        "                    gamma=1.2,\n",
        "                    subsample=0.9,\n",
        "                    colsample_bytree=0.6,\n",
        "                  \n",
        "                    objective='binary:logistic',\n",
        "                    seed=27).fit(xtrain_bow, ytrain)"
      ],
      "execution_count": null,
      "outputs": []
    },
    {
      "cell_type": "code",
      "metadata": {
        "id": "AoRi-xlj0rQW",
        "colab_type": "code",
        "colab": {
          "base_uri": "https://localhost:8080/",
          "height": 69
        },
        "outputId": "37e16a1e-5e45-40b9-f0d0-5e6e8da59706"
      },
      "source": [
        "\n",
        "print(xgb.feature_importances_)\n"
      ],
      "execution_count": null,
      "outputs": [
        {
          "output_type": "stream",
          "text": [
            "[0.0113524  0.0159463  0.05642483 0.         0.         0.\n",
            " 0.         0.         0.         0.61135584 0.09923249 0.10010254\n",
            " 0.02475056 0.         0.08083504]\n"
          ],
          "name": "stdout"
        }
      ]
    },
    {
      "cell_type": "code",
      "metadata": {
        "id": "lmT_RXHt0wMV",
        "colab_type": "code",
        "colab": {
          "base_uri": "https://localhost:8080/",
          "height": 265
        },
        "outputId": "2e3b8549-2ea2-4781-994a-db91069c5b0d"
      },
      "source": [
        "# plot\n",
        "from matplotlib import pyplot\n",
        "pyplot.bar(range(len(xgb.feature_importances_)), xgb.feature_importances_)\n",
        "pyplot.show()"
      ],
      "execution_count": null,
      "outputs": [
        {
          "output_type": "display_data",
          "data": {
            "image/png": "[encoded data removed]",
            "text/plain": [
              "<Figure size 432x288 with 1 Axes>"
            ]
          },
          "metadata": {
            "tags": [],
            "needs_background": "light"
          }
        }
      ]
    },
    {
      "cell_type": "markdown",
      "metadata": {
        "id": "jLgiV7ka0DyN",
        "colab_type": "text"
      },
      "source": [
        "Based on Xgboost Feature Imporantce we can say that X_10 have more Imporatant feature among All others ,X_11& X_13 & X_15 also have Importance"
      ]
    },
    {
      "cell_type": "code",
      "metadata": {
        "id": "riPgsV8GUMyg",
        "colab_type": "code",
        "colab": {
          "base_uri": "https://localhost:8080/",
          "height": 34
        },
        "outputId": "d99b39e1-54ac-4502-f3d7-f9f597c15310"
      },
      "source": [
        "from sklearn.metrics import accuracy_score,recall_score,precision_score,f1_score\n",
        "prediction = xgb.predict(xvalid_bow)\n",
        "recall_score(yvalid, prediction, average='binary')"
      ],
      "execution_count": null,
      "outputs": [
        {
          "output_type": "execute_result",
          "data": {
            "text/plain": [
              "0.9985320023487962"
            ]
          },
          "metadata": {
            "tags": []
          },
          "execution_count": 22
        }
      ]
    },
    {
      "cell_type": "code",
      "metadata": {
        "id": "sdWc3KOtaE1f",
        "colab_type": "code",
        "colab": {
          "base_uri": "https://localhost:8080/",
          "height": 34
        },
        "outputId": "da283389-993c-4822-eaad-6b649b923efd"
      },
      "source": [
        "prediction = xgb.predict(xvalid_bow)\n",
        "precision_score(yvalid, prediction, average='binary')"
      ],
      "execution_count": null,
      "outputs": [
        {
          "output_type": "execute_result",
          "data": {
            "text/plain": [
              "0.9985320023487962"
            ]
          },
          "metadata": {
            "tags": []
          },
          "execution_count": 23
        }
      ]
    },
    {
      "cell_type": "code",
      "metadata": {
        "id": "KSTDfHv5VLJG",
        "colab_type": "code",
        "colab": {
          "base_uri": "https://localhost:8080/",
          "height": 34
        },
        "outputId": "e899fa53-1be5-44a3-f63e-7ed5d575a82b"
      },
      "source": [
        "prediction = xgb.predict(xvalid_bow)\n",
        "f1_score(yvalid, prediction, average='binary')"
      ],
      "execution_count": null,
      "outputs": [
        {
          "output_type": "execute_result",
          "data": {
            "text/plain": [
              "0.9985320023487962"
            ]
          },
          "metadata": {
            "tags": []
          },
          "execution_count": 24
        }
      ]
    },
    {
      "cell_type": "markdown",
      "metadata": {
        "id": "IelA2rMUxISt",
        "colab_type": "text"
      },
      "source": [
        "#Base Model We are getting great Accuracy on validation data"
      ]
    },
    {
      "cell_type": "markdown",
      "metadata": {
        "id": "FN0AH_5nxTVd",
        "colab_type": "text"
      },
      "source": [
        "Testing Base model on Unseen Data That is Test Data"
      ]
    },
    {
      "cell_type": "code",
      "metadata": {
        "id": "dbK1supHtc0f",
        "colab_type": "code",
        "colab": {}
      },
      "source": [
        "test_df =  test.drop(['INCIDENT_ID','DATE'], axis = 1) "
      ],
      "execution_count": null,
      "outputs": []
    },
    {
      "cell_type": "code",
      "metadata": {
        "id": "jETFoWm9tcuo",
        "colab_type": "code",
        "colab": {
          "base_uri": "https://localhost:8080/",
          "height": 206
        },
        "outputId": "92170e8c-0424-4c0e-fa18-bfaf4aedf285"
      },
      "source": [
        "\n",
        "test_df.head()"
      ],
      "execution_count": null,
      "outputs": [
        {
          "output_type": "execute_result",
          "data": {
            "text/html": [
              "<div>\n",
              "<style scoped>\n",
              "    .dataframe tbody tr th:only-of-type {\n",
              "        vertical-align: middle;\n",
              "    }\n",
              "\n",
              "    .dataframe tbody tr th {\n",
              "        vertical-align: top;\n",
              "    }\n",
              "\n",
              "    .dataframe thead th {\n",
              "        text-align: right;\n",
              "    }\n",
              "</style>\n",
              "<table border=\"1\" class=\"dataframe\">\n",
              "  <thead>\n",
              "    <tr style=\"text-align: right;\">\n",
              "      <th></th>\n",
              "      <th>X_1</th>\n",
              "      <th>X_2</th>\n",
              "      <th>X_3</th>\n",
              "      <th>X_4</th>\n",
              "      <th>X_5</th>\n",
              "      <th>X_6</th>\n",
              "      <th>X_7</th>\n",
              "      <th>X_8</th>\n",
              "      <th>X_9</th>\n",
              "      <th>X_10</th>\n",
              "      <th>X_11</th>\n",
              "      <th>X_12</th>\n",
              "      <th>X_13</th>\n",
              "      <th>X_14</th>\n",
              "      <th>X_15</th>\n",
              "    </tr>\n",
              "  </thead>\n",
              "  <tbody>\n",
              "    <tr>\n",
              "      <th>0</th>\n",
              "      <td>0</td>\n",
              "      <td>30</td>\n",
              "      <td>35</td>\n",
              "      <td>7</td>\n",
              "      <td>3</td>\n",
              "      <td>6</td>\n",
              "      <td>4</td>\n",
              "      <td>0</td>\n",
              "      <td>5</td>\n",
              "      <td>1</td>\n",
              "      <td>174</td>\n",
              "      <td>NaN</td>\n",
              "      <td>72</td>\n",
              "      <td>119</td>\n",
              "      <td>23</td>\n",
              "    </tr>\n",
              "    <tr>\n",
              "      <th>1</th>\n",
              "      <td>0</td>\n",
              "      <td>44</td>\n",
              "      <td>44</td>\n",
              "      <td>1</td>\n",
              "      <td>3</td>\n",
              "      <td>7</td>\n",
              "      <td>1</td>\n",
              "      <td>4</td>\n",
              "      <td>6</td>\n",
              "      <td>1</td>\n",
              "      <td>316</td>\n",
              "      <td>0.0</td>\n",
              "      <td>12</td>\n",
              "      <td>29</td>\n",
              "      <td>34</td>\n",
              "    </tr>\n",
              "    <tr>\n",
              "      <th>2</th>\n",
              "      <td>0</td>\n",
              "      <td>34</td>\n",
              "      <td>33</td>\n",
              "      <td>3</td>\n",
              "      <td>5</td>\n",
              "      <td>2</td>\n",
              "      <td>7</td>\n",
              "      <td>3</td>\n",
              "      <td>0</td>\n",
              "      <td>1</td>\n",
              "      <td>316</td>\n",
              "      <td>1.0</td>\n",
              "      <td>72</td>\n",
              "      <td>0</td>\n",
              "      <td>34</td>\n",
              "    </tr>\n",
              "    <tr>\n",
              "      <th>3</th>\n",
              "      <td>7</td>\n",
              "      <td>3</td>\n",
              "      <td>2</td>\n",
              "      <td>3</td>\n",
              "      <td>5</td>\n",
              "      <td>9</td>\n",
              "      <td>8</td>\n",
              "      <td>0</td>\n",
              "      <td>5</td>\n",
              "      <td>1</td>\n",
              "      <td>174</td>\n",
              "      <td>1.0</td>\n",
              "      <td>112</td>\n",
              "      <td>87</td>\n",
              "      <td>34</td>\n",
              "    </tr>\n",
              "    <tr>\n",
              "      <th>4</th>\n",
              "      <td>0</td>\n",
              "      <td>7</td>\n",
              "      <td>8</td>\n",
              "      <td>7</td>\n",
              "      <td>3</td>\n",
              "      <td>2</td>\n",
              "      <td>7</td>\n",
              "      <td>1</td>\n",
              "      <td>5</td>\n",
              "      <td>1</td>\n",
              "      <td>174</td>\n",
              "      <td>0.0</td>\n",
              "      <td>112</td>\n",
              "      <td>93</td>\n",
              "      <td>43</td>\n",
              "    </tr>\n",
              "  </tbody>\n",
              "</table>\n",
              "</div>"
            ],
            "text/plain": [
              "   X_1  X_2  X_3  X_4  X_5  X_6  X_7  ...  X_9  X_10  X_11  X_12  X_13  X_14  X_15\n",
              "0    0   30   35    7    3    6    4  ...    5     1   174   NaN    72   119    23\n",
              "1    0   44   44    1    3    7    1  ...    6     1   316   0.0    12    29    34\n",
              "2    0   34   33    3    5    2    7  ...    0     1   316   1.0    72     0    34\n",
              "3    7    3    2    3    5    9    8  ...    5     1   174   1.0   112    87    34\n",
              "4    0    7    8    7    3    2    7  ...    5     1   174   0.0   112    93    43\n",
              "\n",
              "[5 rows x 15 columns]"
            ]
          },
          "metadata": {
            "tags": []
          },
          "execution_count": 26
        }
      ]
    },
    {
      "cell_type": "code",
      "metadata": {
        "id": "fOPQS8DRtcrJ",
        "colab_type": "code",
        "colab": {}
      },
      "source": [
        "prediction_1 = xgb.predict(test_df)"
      ],
      "execution_count": null,
      "outputs": []
    },
    {
      "cell_type": "code",
      "metadata": {
        "id": "0xS3bAui-J0c",
        "colab_type": "code",
        "colab": {}
      },
      "source": [
        "resul =pd.DataFrame()"
      ],
      "execution_count": null,
      "outputs": []
    },
    {
      "cell_type": "code",
      "metadata": {
        "id": "m77EMBRBDxvh",
        "colab_type": "code",
        "colab": {}
      },
      "source": [
        "'''\n",
        "resul =pd.DataFrame()\n",
        "resul['INCIDENT_ID']  = test['INCIDENT_ID']\n",
        "resul['MULTIPLE_OFFENSE']  = prediction_1 \n",
        "resul.to_csv('sub3.csv',index=False)\n",
        "\n",
        "'''"
      ],
      "execution_count": null,
      "outputs": []
    },
    {
      "cell_type": "code",
      "metadata": {
        "id": "y9dqntWHxlyw",
        "colab_type": "code",
        "colab": {}
      },
      "source": [
        "resul['INCIDENT_ID']  = test['INCIDENT_ID']"
      ],
      "execution_count": null,
      "outputs": []
    },
    {
      "cell_type": "code",
      "metadata": {
        "id": "ZjZT4OUd-JyD",
        "colab_type": "code",
        "colab": {}
      },
      "source": [
        "resul['MULTIPLE_OFFENSE']  = prediction_1 "
      ],
      "execution_count": null,
      "outputs": []
    },
    {
      "cell_type": "code",
      "metadata": {
        "id": "AB4kOU8K_Y9y",
        "colab_type": "code",
        "colab": {}
      },
      "source": [
        "#columns_titles = [\"MULTIPLE_OFFENSE\",\"INCIDENT_ID\"]\n",
        "#resul=resul.reindex(columns=columns_titles)"
      ],
      "execution_count": null,
      "outputs": []
    },
    {
      "cell_type": "code",
      "metadata": {
        "id": "4tmUJU1u_nqq",
        "colab_type": "code",
        "colab": {
          "base_uri": "https://localhost:8080/",
          "height": 206
        },
        "outputId": "8f523624-ba5b-49a6-d343-3c85cde1fb81"
      },
      "source": [
        "\n",
        "resul.head()"
      ],
      "execution_count": null,
      "outputs": [
        {
          "output_type": "execute_result",
          "data": {
            "text/html": [
              "<div>\n",
              "<style scoped>\n",
              "    .dataframe tbody tr th:only-of-type {\n",
              "        vertical-align: middle;\n",
              "    }\n",
              "\n",
              "    .dataframe tbody tr th {\n",
              "        vertical-align: top;\n",
              "    }\n",
              "\n",
              "    .dataframe thead th {\n",
              "        text-align: right;\n",
              "    }\n",
              "</style>\n",
              "<table border=\"1\" class=\"dataframe\">\n",
              "  <thead>\n",
              "    <tr style=\"text-align: right;\">\n",
              "      <th></th>\n",
              "      <th>INCIDENT_ID</th>\n",
              "      <th>MULTIPLE_OFFENSE</th>\n",
              "    </tr>\n",
              "  </thead>\n",
              "  <tbody>\n",
              "    <tr>\n",
              "      <th>0</th>\n",
              "      <td>CR_195453</td>\n",
              "      <td>1</td>\n",
              "    </tr>\n",
              "    <tr>\n",
              "      <th>1</th>\n",
              "      <td>CR_103520</td>\n",
              "      <td>1</td>\n",
              "    </tr>\n",
              "    <tr>\n",
              "      <th>2</th>\n",
              "      <td>CR_196089</td>\n",
              "      <td>1</td>\n",
              "    </tr>\n",
              "    <tr>\n",
              "      <th>3</th>\n",
              "      <td>CR_112195</td>\n",
              "      <td>1</td>\n",
              "    </tr>\n",
              "    <tr>\n",
              "      <th>4</th>\n",
              "      <td>CR_149832</td>\n",
              "      <td>1</td>\n",
              "    </tr>\n",
              "  </tbody>\n",
              "</table>\n",
              "</div>"
            ],
            "text/plain": [
              "  INCIDENT_ID  MULTIPLE_OFFENSE\n",
              "0   CR_195453                 1\n",
              "1   CR_103520                 1\n",
              "2   CR_196089                 1\n",
              "3   CR_112195                 1\n",
              "4   CR_149832                 1"
            ]
          },
          "metadata": {
            "tags": []
          },
          "execution_count": 37
        }
      ]
    },
    {
      "cell_type": "code",
      "metadata": {
        "id": "X298BOQa_ps7",
        "colab_type": "code",
        "colab": {}
      },
      "source": [
        "resul.to_csv('sub3.csv',index=False)"
      ],
      "execution_count": null,
      "outputs": []
    },
    {
      "cell_type": "code",
      "metadata": {
        "id": "f2T1xq-p_4AY",
        "colab_type": "code",
        "colab": {
          "base_uri": "https://localhost:8080/",
          "height": 69
        },
        "outputId": "195ecc9e-b797-4587-92bc-bfe508583c70"
      },
      "source": [
        "resul['MULTIPLE_OFFENSE'].value_counts()"
      ],
      "execution_count": null,
      "outputs": [
        {
          "output_type": "execute_result",
          "data": {
            "text/plain": [
              "1    15174\n",
              "0      729\n",
              "Name: MULTIPLE_OFFENSE, dtype: int64"
            ]
          },
          "metadata": {
            "tags": []
          },
          "execution_count": 39
        }
      ]
    },
    {
      "cell_type": "markdown",
      "metadata": {
        "id": "k-WgWPyOyJiJ",
        "colab_type": "text"
      },
      "source": [
        "#Base model performs pretty good on unseen Data ,got 98.47 accuracy"
      ]
    },
    {
      "cell_type": "markdown",
      "metadata": {
        "id": "em2uLt7lyxKC",
        "colab_type": "text"
      },
      "source": [
        "#EDA"
      ]
    },
    {
      "cell_type": "code",
      "metadata": {
        "id": "OEP9HJEUiESc",
        "colab_type": "code",
        "colab": {
          "base_uri": "https://localhost:8080/",
          "height": 347
        },
        "outputId": "d223541a-8945-4d7f-e6df-eab59caffea2"
      },
      "source": [
        "train.isnull().any()\n"
      ],
      "execution_count": 7,
      "outputs": [
        {
          "output_type": "execute_result",
          "data": {
            "text/plain": [
              "INCIDENT_ID         False\n",
              "DATE                False\n",
              "X_1                 False\n",
              "X_2                 False\n",
              "X_3                 False\n",
              "X_4                 False\n",
              "X_5                 False\n",
              "X_6                 False\n",
              "X_7                 False\n",
              "X_8                 False\n",
              "X_9                 False\n",
              "X_10                False\n",
              "X_11                False\n",
              "X_12                 True\n",
              "X_13                False\n",
              "X_14                False\n",
              "X_15                False\n",
              "MULTIPLE_OFFENSE    False\n",
              "dtype: bool"
            ]
          },
          "metadata": {
            "tags": []
          },
          "execution_count": 7
        }
      ]
    },
    {
      "cell_type": "code",
      "metadata": {
        "id": "fanQYTkDtqWv",
        "colab_type": "code",
        "colab": {
          "base_uri": "https://localhost:8080/",
          "height": 330
        },
        "outputId": "6f923b1a-aaa5-4385-9897-2ba81ade85d6"
      },
      "source": [
        "test.isnull().any()"
      ],
      "execution_count": null,
      "outputs": [
        {
          "output_type": "execute_result",
          "data": {
            "text/plain": [
              "INCIDENT_ID    False\n",
              "DATE           False\n",
              "X_1            False\n",
              "X_2            False\n",
              "X_3            False\n",
              "X_4            False\n",
              "X_5            False\n",
              "X_6            False\n",
              "X_7            False\n",
              "X_8            False\n",
              "X_9            False\n",
              "X_10           False\n",
              "X_11           False\n",
              "X_12            True\n",
              "X_13           False\n",
              "X_14           False\n",
              "X_15           False\n",
              "dtype: bool"
            ]
          },
          "metadata": {
            "tags": []
          },
          "execution_count": 44
        }
      ]
    },
    {
      "cell_type": "code",
      "metadata": {
        "id": "6U_E2ApYtqe1",
        "colab_type": "code",
        "colab": {}
      },
      "source": [
        "data = train.append(test, ignore_index=True)"
      ],
      "execution_count": 44,
      "outputs": []
    },
    {
      "cell_type": "code",
      "metadata": {
        "id": "xJii__EH8QOa",
        "colab_type": "code",
        "colab": {
          "base_uri": "https://localhost:8080/",
          "height": 206
        },
        "outputId": "db893b68-f318-4c90-8623-01cd75af5324"
      },
      "source": [
        "data.head()"
      ],
      "execution_count": 45,
      "outputs": [
        {
          "output_type": "execute_result",
          "data": {
            "text/html": [
              "<div>\n",
              "<style scoped>\n",
              "    .dataframe tbody tr th:only-of-type {\n",
              "        vertical-align: middle;\n",
              "    }\n",
              "\n",
              "    .dataframe tbody tr th {\n",
              "        vertical-align: top;\n",
              "    }\n",
              "\n",
              "    .dataframe thead th {\n",
              "        text-align: right;\n",
              "    }\n",
              "</style>\n",
              "<table border=\"1\" class=\"dataframe\">\n",
              "  <thead>\n",
              "    <tr style=\"text-align: right;\">\n",
              "      <th></th>\n",
              "      <th>INCIDENT_ID</th>\n",
              "      <th>DATE</th>\n",
              "      <th>X_1</th>\n",
              "      <th>X_2</th>\n",
              "      <th>X_3</th>\n",
              "      <th>X_4</th>\n",
              "      <th>X_5</th>\n",
              "      <th>X_6</th>\n",
              "      <th>X_7</th>\n",
              "      <th>X_8</th>\n",
              "      <th>X_9</th>\n",
              "      <th>X_10</th>\n",
              "      <th>X_11</th>\n",
              "      <th>X_12</th>\n",
              "      <th>X_13</th>\n",
              "      <th>X_14</th>\n",
              "      <th>X_15</th>\n",
              "      <th>MULTIPLE_OFFENSE</th>\n",
              "    </tr>\n",
              "  </thead>\n",
              "  <tbody>\n",
              "    <tr>\n",
              "      <th>0</th>\n",
              "      <td>CR_102659</td>\n",
              "      <td>04-JUL-04</td>\n",
              "      <td>0</td>\n",
              "      <td>36</td>\n",
              "      <td>34</td>\n",
              "      <td>2</td>\n",
              "      <td>1</td>\n",
              "      <td>5</td>\n",
              "      <td>6</td>\n",
              "      <td>1</td>\n",
              "      <td>6</td>\n",
              "      <td>1</td>\n",
              "      <td>174</td>\n",
              "      <td>1.0</td>\n",
              "      <td>92</td>\n",
              "      <td>29</td>\n",
              "      <td>36</td>\n",
              "      <td>0.0</td>\n",
              "    </tr>\n",
              "    <tr>\n",
              "      <th>1</th>\n",
              "      <td>CR_189752</td>\n",
              "      <td>18-JUL-17</td>\n",
              "      <td>1</td>\n",
              "      <td>37</td>\n",
              "      <td>37</td>\n",
              "      <td>0</td>\n",
              "      <td>0</td>\n",
              "      <td>11</td>\n",
              "      <td>17</td>\n",
              "      <td>1</td>\n",
              "      <td>6</td>\n",
              "      <td>1</td>\n",
              "      <td>236</td>\n",
              "      <td>1.0</td>\n",
              "      <td>103</td>\n",
              "      <td>142</td>\n",
              "      <td>34</td>\n",
              "      <td>1.0</td>\n",
              "    </tr>\n",
              "    <tr>\n",
              "      <th>2</th>\n",
              "      <td>CR_184637</td>\n",
              "      <td>15-MAR-17</td>\n",
              "      <td>0</td>\n",
              "      <td>3</td>\n",
              "      <td>2</td>\n",
              "      <td>3</td>\n",
              "      <td>5</td>\n",
              "      <td>1</td>\n",
              "      <td>0</td>\n",
              "      <td>2</td>\n",
              "      <td>3</td>\n",
              "      <td>1</td>\n",
              "      <td>174</td>\n",
              "      <td>1.0</td>\n",
              "      <td>110</td>\n",
              "      <td>93</td>\n",
              "      <td>34</td>\n",
              "      <td>1.0</td>\n",
              "    </tr>\n",
              "    <tr>\n",
              "      <th>3</th>\n",
              "      <td>CR_139071</td>\n",
              "      <td>13-FEB-09</td>\n",
              "      <td>0</td>\n",
              "      <td>33</td>\n",
              "      <td>32</td>\n",
              "      <td>2</td>\n",
              "      <td>1</td>\n",
              "      <td>7</td>\n",
              "      <td>1</td>\n",
              "      <td>1</td>\n",
              "      <td>6</td>\n",
              "      <td>1</td>\n",
              "      <td>249</td>\n",
              "      <td>1.0</td>\n",
              "      <td>72</td>\n",
              "      <td>29</td>\n",
              "      <td>34</td>\n",
              "      <td>1.0</td>\n",
              "    </tr>\n",
              "    <tr>\n",
              "      <th>4</th>\n",
              "      <td>CR_109335</td>\n",
              "      <td>13-APR-05</td>\n",
              "      <td>0</td>\n",
              "      <td>33</td>\n",
              "      <td>32</td>\n",
              "      <td>2</td>\n",
              "      <td>1</td>\n",
              "      <td>8</td>\n",
              "      <td>3</td>\n",
              "      <td>0</td>\n",
              "      <td>5</td>\n",
              "      <td>1</td>\n",
              "      <td>174</td>\n",
              "      <td>0.0</td>\n",
              "      <td>112</td>\n",
              "      <td>29</td>\n",
              "      <td>43</td>\n",
              "      <td>1.0</td>\n",
              "    </tr>\n",
              "  </tbody>\n",
              "</table>\n",
              "</div>"
            ],
            "text/plain": [
              "  INCIDENT_ID       DATE  X_1  X_2  ...  X_13  X_14  X_15  MULTIPLE_OFFENSE\n",
              "0   CR_102659  04-JUL-04    0   36  ...    92    29    36               0.0\n",
              "1   CR_189752  18-JUL-17    1   37  ...   103   142    34               1.0\n",
              "2   CR_184637  15-MAR-17    0    3  ...   110    93    34               1.0\n",
              "3   CR_139071  13-FEB-09    0   33  ...    72    29    34               1.0\n",
              "4   CR_109335  13-APR-05    0   33  ...   112    29    43               1.0\n",
              "\n",
              "[5 rows x 18 columns]"
            ]
          },
          "metadata": {
            "tags": []
          },
          "execution_count": 45
        }
      ]
    },
    {
      "cell_type": "code",
      "metadata": {
        "id": "L4NuXgNttqlh",
        "colab_type": "code",
        "colab": {
          "base_uri": "https://localhost:8080/",
          "height": 34
        },
        "outputId": "41a22fb3-ca61-47c9-e645-9a5dca79e58b"
      },
      "source": [
        "data.shape"
      ],
      "execution_count": null,
      "outputs": [
        {
          "output_type": "execute_result",
          "data": {
            "text/plain": [
              "(39759, 18)"
            ]
          },
          "metadata": {
            "tags": []
          },
          "execution_count": 47
        }
      ]
    },
    {
      "cell_type": "markdown",
      "metadata": {
        "id": "UeU5yARxz3lf",
        "colab_type": "text"
      },
      "source": [
        "Imputing Missnig Values"
      ]
    },
    {
      "cell_type": "code",
      "metadata": {
        "id": "Hw4SSOOCtqcx",
        "colab_type": "code",
        "colab": {
          "base_uri": "https://localhost:8080/",
          "height": 347
        },
        "outputId": "2126a1aa-cc62-4a21-d6a8-a2ff55dadcb4"
      },
      "source": [
        "data.isnull().sum()month \t"
      ],
      "execution_count": null,
      "outputs": [
        {
          "output_type": "execute_result",
          "data": {
            "text/plain": [
              "INCIDENT_ID             0\n",
              "DATE                    0\n",
              "X_1                     0\n",
              "X_2                     0\n",
              "X_3                     0\n",
              "X_4                     0\n",
              "X_5                     0\n",
              "X_6                     0\n",
              "X_7                     0\n",
              "X_8                     0\n",
              "X_9                     0\n",
              "X_10                    0\n",
              "X_11                    0\n",
              "X_12                  309\n",
              "X_13                    0\n",
              "X_14                    0\n",
              "X_15                    0\n",
              "MULTIPLE_OFFENSE    15903\n",
              "dtype: int64"
            ]
          },
          "metadata": {
            "tags": []
          },
          "execution_count": 51
        }
      ]
    },
    {
      "cell_type": "code",
      "metadata": {
        "id": "Bm8SJoEIzsNm",
        "colab_type": "code",
        "colab": {
          "base_uri": "https://localhost:8080/",
          "height": 69
        },
        "outputId": "4be782fc-8884-4b07-e674-171055075055"
      },
      "source": [
        "#missing value counts in each of these columns\n",
        "miss = data.isnull().sum()/len(train)\n",
        "miss = miss[miss > 0]\n",
        "miss.sort_values(inplace=True)\n",
        "miss"
      ],
      "execution_count": null,
      "outputs": [
        {
          "output_type": "execute_result",
          "data": {
            "text/plain": [
              "X_12                0.012953\n",
              "MULTIPLE_OFFENSE    0.666625\n",
              "dtype: float64"
            ]
          },
          "metadata": {
            "tags": []
          },
          "execution_count": 52
        }
      ]
    },
    {
      "cell_type": "markdown",
      "metadata": {
        "id": "WTT19YWN1DXT",
        "colab_type": "text"
      },
      "source": [
        "# 0.0129is the missing value percentage so we can remove missing values"
      ]
    },
    {
      "cell_type": "code",
      "metadata": {
        "id": "cM8WxmJ70-T6",
        "colab_type": "code",
        "colab": {}
      },
      "source": [
        "data.dropna(subset=['X_12'],  inplace=True)"
      ],
      "execution_count": 46,
      "outputs": []
    },
    {
      "cell_type": "code",
      "metadata": {
        "id": "Dsn1l2TC9Vtj",
        "colab_type": "code",
        "colab": {}
      },
      "source": [
        "train.dropna(subset=['X_12'],  inplace=True)\n",
        "test.dropna(subset=['X_12'],  inplace=True)"
      ],
      "execution_count": 54,
      "outputs": []
    },
    {
      "cell_type": "code",
      "metadata": {
        "id": "lZhwR0U3zsZH",
        "colab_type": "code",
        "colab": {
          "base_uri": "https://localhost:8080/",
          "height": 34
        },
        "outputId": "07cbea6b-cee4-455c-8a93-50cf43b71e68"
      },
      "source": [
        "data.shape"
      ],
      "execution_count": 10,
      "outputs": [
        {
          "output_type": "execute_result",
          "data": {
            "text/plain": [
              "(39450, 18)"
            ]
          },
          "metadata": {
            "tags": []
          },
          "execution_count": 10
        }
      ]
    },
    {
      "cell_type": "markdown",
      "metadata": {
        "id": "iWvskeec27Go",
        "colab_type": "text"
      },
      "source": [
        "#Outlier Detection & deletion"
      ]
    },
    {
      "cell_type": "code",
      "metadata": {
        "id": "Nb_nJF2rzseU",
        "colab_type": "code",
        "colab": {
          "base_uri": "https://localhost:8080/",
          "height": 297
        },
        "outputId": "2141d012-bd0e-44b5-9e84-6c88dd416549"
      },
      "source": [
        "sns.distplot(data['X_6'])"
      ],
      "execution_count": null,
      "outputs": [
        {
          "output_type": "execute_result",
          "data": {
            "text/plain": [
              "<matplotlib.axes._subplots.AxesSubplot at 0x7f5932bddc88>"
            ]
          },
          "metadata": {
            "tags": []
          },
          "execution_count": 55
        },
        {
          "output_type": "display_data",
          "data": {
            "image/png": "[encoded data removed]",
            "text/plain": [
              "<Figure size 432x288 with 1 Axes>"
            ]
          },
          "metadata": {
            "tags": [],
            "needs_background": "light"
          }
        }
      ]
    },
    {
      "cell_type": "code",
      "metadata": {
        "id": "8M1lDDcBzsir",
        "colab_type": "code",
        "colab": {
          "base_uri": "https://localhost:8080/",
          "height": 297
        },
        "outputId": "0c0c0c96-7792-4a05-964e-db53a1ae0b96"
      },
      "source": [
        "sns.distplot(data['X_12'])"
      ],
      "execution_count": null,
      "outputs": [
        {
          "output_type": "execute_result",
          "data": {
            "text/plain": [
              "<matplotlib.axes._subplots.AxesSubplot at 0x7f5932c06550>"
            ]
          },
          "metadata": {
            "tags": []
          },
          "execution_count": 56
        },
        {
          "output_type": "display_data",
          "data": {
            "image/png": "[encoded data removed]",
            "text/plain": [
              "<Figure size 432x288 with 1 Axes>"
            ]
          },
          "metadata": {
            "tags": [],
            "needs_background": "light"
          }
        }
      ]
    },
    {
      "cell_type": "code",
      "metadata": {
        "id": "v-mA-yLi3a5-",
        "colab_type": "code",
        "colab": {
          "base_uri": "https://localhost:8080/",
          "height": 297
        },
        "outputId": "ae1c2097-679e-448a-90ef-aa33fccea141"
      },
      "source": [
        "import seaborn as sns\n",
        "sns.boxplot(data['X_12'])"
      ],
      "execution_count": null,
      "outputs": [
        {
          "output_type": "execute_result",
          "data": {
            "text/plain": [
              "<matplotlib.axes._subplots.AxesSubplot at 0x7f5930ff3dd8>"
            ]
          },
          "metadata": {
            "tags": []
          },
          "execution_count": 58
        },
        {
          "output_type": "display_data",
          "data": {
            "image/png": "[encoded data removed]",
            "text/plain": [
              "<Figure size 432x288 with 1 Axes>"
            ]
          },
          "metadata": {
            "tags": [],
            "needs_background": "light"
          }
        }
      ]
    },
    {
      "cell_type": "code",
      "metadata": {
        "id": "JV2cCySOzsp4",
        "colab_type": "code",
        "colab": {
          "base_uri": "https://localhost:8080/",
          "height": 297
        },
        "outputId": "c983f667-0f4e-4c44-fc8c-8d1afbc0e960"
      },
      "source": [
        "sns.distplot(data['X_10'])"
      ],
      "execution_count": null,
      "outputs": [
        {
          "output_type": "execute_result",
          "data": {
            "text/plain": [
              "<matplotlib.axes._subplots.AxesSubplot at 0x7f593108be48>"
            ]
          },
          "metadata": {
            "tags": []
          },
          "execution_count": 57
        },
        {
          "output_type": "display_data",
          "data": {
            "image/png": "[encoded data removed]",
            "text/plain": [
              "<Figure size 432x288 with 1 Axes>"
            ]
          },
          "metadata": {
            "tags": [],
            "needs_background": "light"
          }
        }
      ]
    },
    {
      "cell_type": "code",
      "metadata": {
        "id": "CM-WiVOvzs0U",
        "colab_type": "code",
        "colab": {
          "base_uri": "https://localhost:8080/",
          "height": 301
        },
        "outputId": "95eca995-221a-40bd-b663-3a015bbd8562"
      },
      "source": [
        "sns.distplot(data['X_1'])"
      ],
      "execution_count": null,
      "outputs": [
        {
          "output_type": "execute_result",
          "data": {
            "text/plain": [
              "<matplotlib.axes._subplots.AxesSubplot at 0x7f5930f45400>"
            ]
          },
          "metadata": {
            "tags": []
          },
          "execution_count": 62
        },
        {
          "output_type": "display_data",
          "data": {
            "image/png": "[encoded data removed]",
            "text/plain": [
              "<Figure size 432x288 with 1 Axes>"
            ]
          },
          "metadata": {
            "tags": [],
            "needs_background": "light"
          }
        }
      ]
    },
    {
      "cell_type": "code",
      "metadata": {
        "id": "Cegh855uzs8H",
        "colab_type": "code",
        "colab": {
          "base_uri": "https://localhost:8080/",
          "height": 297
        },
        "outputId": "1a927a73-b461-45c8-9e3e-74ba78eca7c1"
      },
      "source": [
        "sns.distplot(data['X_15'])"
      ],
      "execution_count": null,
      "outputs": [
        {
          "output_type": "execute_result",
          "data": {
            "text/plain": [
              "<matplotlib.axes._subplots.AxesSubplot at 0x7f5930af0c18>"
            ]
          },
          "metadata": {
            "tags": []
          },
          "execution_count": 64
        },
        {
          "output_type": "display_data",
          "data": {
            "image/png": "[encoded data removed]",
            "text/plain": [
              "<Figure size 432x288 with 1 Axes>"
            ]
          },
          "metadata": {
            "tags": [],
            "needs_background": "light"
          }
        }
      ]
    },
    {
      "cell_type": "code",
      "metadata": {
        "id": "xmFSdEEOztBW",
        "colab_type": "code",
        "colab": {
          "base_uri": "https://localhost:8080/",
          "height": 297
        },
        "outputId": "5352cc3c-04f9-4e32-da4b-00a89b16a4ea"
      },
      "source": [
        "sns.distplot(data['X_13'])"
      ],
      "execution_count": null,
      "outputs": [
        {
          "output_type": "execute_result",
          "data": {
            "text/plain": [
              "<matplotlib.axes._subplots.AxesSubplot at 0x7f59309df400>"
            ]
          },
          "metadata": {
            "tags": []
          },
          "execution_count": 65
        },
        {
          "output_type": "display_data",
          "data": {
            "image/png": "[encoded data removed]",
            "text/plain": [
              "<Figure size 432x288 with 1 Axes>"
            ]
          },
          "metadata": {
            "tags": [],
            "needs_background": "light"
          }
        }
      ]
    },
    {
      "cell_type": "code",
      "metadata": {
        "id": "nVaQ1D7H5Rye",
        "colab_type": "code",
        "colab": {
          "base_uri": "https://localhost:8080/",
          "height": 320
        },
        "outputId": "a009115a-8756-4b83-dd20-0cc66eed0539"
      },
      "source": [
        "data.describe()"
      ],
      "execution_count": null,
      "outputs": [
        {
          "output_type": "execute_result",
          "data": {
            "text/html": [
              "<div>\n",
              "<style scoped>\n",
              "    .dataframe tbody tr th:only-of-type {\n",
              "        vertical-align: middle;\n",
              "    }\n",
              "\n",
              "    .dataframe tbody tr th {\n",
              "        vertical-align: top;\n",
              "    }\n",
              "\n",
              "    .dataframe thead th {\n",
              "        text-align: right;\n",
              "    }\n",
              "</style>\n",
              "<table border=\"1\" class=\"dataframe\">\n",
              "  <thead>\n",
              "    <tr style=\"text-align: right;\">\n",
              "      <th></th>\n",
              "      <th>X_1</th>\n",
              "      <th>X_2</th>\n",
              "      <th>X_3</th>\n",
              "      <th>X_4</th>\n",
              "      <th>X_5</th>\n",
              "      <th>X_6</th>\n",
              "      <th>X_7</th>\n",
              "      <th>X_8</th>\n",
              "      <th>X_9</th>\n",
              "      <th>X_10</th>\n",
              "      <th>X_11</th>\n",
              "      <th>X_12</th>\n",
              "      <th>X_13</th>\n",
              "      <th>X_14</th>\n",
              "      <th>X_15</th>\n",
              "      <th>MULTIPLE_OFFENSE</th>\n",
              "    </tr>\n",
              "  </thead>\n",
              "  <tbody>\n",
              "    <tr>\n",
              "      <th>count</th>\n",
              "      <td>39450.000000</td>\n",
              "      <td>39450.000000</td>\n",
              "      <td>39450.000000</td>\n",
              "      <td>39450.000000</td>\n",
              "      <td>39450.000000</td>\n",
              "      <td>39450.000000</td>\n",
              "      <td>39450.000000</td>\n",
              "      <td>39450.000000</td>\n",
              "      <td>39450.000000</td>\n",
              "      <td>39450.000000</td>\n",
              "      <td>39450.000000</td>\n",
              "      <td>39450.000000</td>\n",
              "      <td>39450.000000</td>\n",
              "      <td>39450.000000</td>\n",
              "      <td>39450.000000</td>\n",
              "      <td>23674.000000</td>\n",
              "    </tr>\n",
              "    <tr>\n",
              "      <th>mean</th>\n",
              "      <td>0.474094</td>\n",
              "      <td>24.762003</td>\n",
              "      <td>24.616020</td>\n",
              "      <td>4.283752</td>\n",
              "      <td>2.455311</td>\n",
              "      <td>6.132852</td>\n",
              "      <td>4.876933</td>\n",
              "      <td>0.980659</td>\n",
              "      <td>4.918099</td>\n",
              "      <td>1.245120</td>\n",
              "      <td>207.190418</td>\n",
              "      <td>0.973333</td>\n",
              "      <td>85.243676</td>\n",
              "      <td>72.421774</td>\n",
              "      <td>33.455387</td>\n",
              "      <td>0.954887</td>\n",
              "    </tr>\n",
              "    <tr>\n",
              "      <th>std</th>\n",
              "      <td>1.422506</td>\n",
              "      <td>15.246067</td>\n",
              "      <td>15.146607</td>\n",
              "      <td>2.960117</td>\n",
              "      <td>1.964782</td>\n",
              "      <td>4.461912</td>\n",
              "      <td>3.870189</td>\n",
              "      <td>1.464808</td>\n",
              "      <td>1.371170</td>\n",
              "      <td>1.021055</td>\n",
              "      <td>93.360658</td>\n",
              "      <td>1.060945</td>\n",
              "      <td>27.511135</td>\n",
              "      <td>43.408878</td>\n",
              "      <td>8.250311</td>\n",
              "      <td>0.207556</td>\n",
              "    </tr>\n",
              "    <tr>\n",
              "      <th>min</th>\n",
              "      <td>0.000000</td>\n",
              "      <td>0.000000</td>\n",
              "      <td>0.000000</td>\n",
              "      <td>0.000000</td>\n",
              "      <td>0.000000</td>\n",
              "      <td>1.000000</td>\n",
              "      <td>0.000000</td>\n",
              "      <td>0.000000</td>\n",
              "      <td>0.000000</td>\n",
              "      <td>1.000000</td>\n",
              "      <td>0.000000</td>\n",
              "      <td>0.000000</td>\n",
              "      <td>0.000000</td>\n",
              "      <td>0.000000</td>\n",
              "      <td>0.000000</td>\n",
              "      <td>0.000000</td>\n",
              "    </tr>\n",
              "    <tr>\n",
              "      <th>25%</th>\n",
              "      <td>0.000000</td>\n",
              "      <td>7.000000</td>\n",
              "      <td>8.000000</td>\n",
              "      <td>2.000000</td>\n",
              "      <td>1.000000</td>\n",
              "      <td>3.000000</td>\n",
              "      <td>2.000000</td>\n",
              "      <td>0.000000</td>\n",
              "      <td>5.000000</td>\n",
              "      <td>1.000000</td>\n",
              "      <td>174.000000</td>\n",
              "      <td>1.000000</td>\n",
              "      <td>72.000000</td>\n",
              "      <td>29.000000</td>\n",
              "      <td>34.000000</td>\n",
              "      <td>1.000000</td>\n",
              "    </tr>\n",
              "    <tr>\n",
              "      <th>50%</th>\n",
              "      <td>0.000000</td>\n",
              "      <td>24.000000</td>\n",
              "      <td>24.000000</td>\n",
              "      <td>4.000000</td>\n",
              "      <td>3.000000</td>\n",
              "      <td>5.000000</td>\n",
              "      <td>4.000000</td>\n",
              "      <td>1.000000</td>\n",
              "      <td>5.000000</td>\n",
              "      <td>1.000000</td>\n",
              "      <td>249.000000</td>\n",
              "      <td>1.000000</td>\n",
              "      <td>98.000000</td>\n",
              "      <td>62.000000</td>\n",
              "      <td>34.000000</td>\n",
              "      <td>1.000000</td>\n",
              "    </tr>\n",
              "    <tr>\n",
              "      <th>75%</th>\n",
              "      <td>0.000000</td>\n",
              "      <td>36.000000</td>\n",
              "      <td>35.000000</td>\n",
              "      <td>6.000000</td>\n",
              "      <td>5.000000</td>\n",
              "      <td>8.000000</td>\n",
              "      <td>7.000000</td>\n",
              "      <td>1.000000</td>\n",
              "      <td>6.000000</td>\n",
              "      <td>1.000000</td>\n",
              "      <td>249.000000</td>\n",
              "      <td>1.000000</td>\n",
              "      <td>103.000000</td>\n",
              "      <td>107.000000</td>\n",
              "      <td>34.000000</td>\n",
              "      <td>1.000000</td>\n",
              "    </tr>\n",
              "    <tr>\n",
              "      <th>max</th>\n",
              "      <td>7.000000</td>\n",
              "      <td>52.000000</td>\n",
              "      <td>52.000000</td>\n",
              "      <td>10.000000</td>\n",
              "      <td>5.000000</td>\n",
              "      <td>19.000000</td>\n",
              "      <td>18.000000</td>\n",
              "      <td>99.000000</td>\n",
              "      <td>6.000000</td>\n",
              "      <td>90.000000</td>\n",
              "      <td>332.000000</td>\n",
              "      <td>90.000000</td>\n",
              "      <td>117.000000</td>\n",
              "      <td>142.000000</td>\n",
              "      <td>50.000000</td>\n",
              "      <td>1.000000</td>\n",
              "    </tr>\n",
              "  </tbody>\n",
              "</table>\n",
              "</div>"
            ],
            "text/plain": [
              "                X_1           X_2  ...          X_15  MULTIPLE_OFFENSE\n",
              "count  39450.000000  39450.000000  ...  39450.000000      23674.000000\n",
              "mean       0.474094     24.762003  ...     33.455387          0.954887\n",
              "std        1.422506     15.246067  ...      8.250311          0.207556\n",
              "min        0.000000      0.000000  ...      0.000000          0.000000\n",
              "25%        0.000000      7.000000  ...     34.000000          1.000000\n",
              "50%        0.000000     24.000000  ...     34.000000          1.000000\n",
              "75%        0.000000     36.000000  ...     34.000000          1.000000\n",
              "max        7.000000     52.000000  ...     50.000000          1.000000\n",
              "\n",
              "[8 rows x 16 columns]"
            ]
          },
          "metadata": {
            "tags": []
          },
          "execution_count": 66
        }
      ]
    },
    {
      "cell_type": "markdown",
      "metadata": {
        "id": "gFaAKAL_5LAf",
        "colab_type": "text"
      },
      "source": [
        "From the above plots & describe Function we can observe that outliers are there ,but based univariate analysis we can remove data means we have to remove so many data points so beacuse of that I'm not performing any deletion\n",
        "\n",
        "\n",
        "\n"
      ]
    },
    {
      "cell_type": "markdown",
      "metadata": {
        "id": "qp65hV0-5ygl",
        "colab_type": "text"
      },
      "source": [
        "Date Column"
      ]
    },
    {
      "cell_type": "code",
      "metadata": {
        "id": "6UeYiqhzztIu",
        "colab_type": "code",
        "colab": {
          "base_uri": "https://localhost:8080/",
          "height": 206
        },
        "outputId": "558709ca-0e97-4aad-a440-5d9b98673136"
      },
      "source": [
        "data.head()"
      ],
      "execution_count": null,
      "outputs": [
        {
          "output_type": "execute_result",
          "data": {
            "text/html": [
              "<div>\n",
              "<style scoped>\n",
              "    .dataframe tbody tr th:only-of-type {\n",
              "        vertical-align: middle;\n",
              "    }\n",
              "\n",
              "    .dataframe tbody tr th {\n",
              "        vertical-align: top;\n",
              "    }\n",
              "\n",
              "    .dataframe thead th {\n",
              "        text-align: right;\n",
              "    }\n",
              "</style>\n",
              "<table border=\"1\" class=\"dataframe\">\n",
              "  <thead>\n",
              "    <tr style=\"text-align: right;\">\n",
              "      <th></th>\n",
              "      <th>INCIDENT_ID</th>\n",
              "      <th>DATE</th>\n",
              "      <th>X_1</th>\n",
              "      <th>X_2</th>\n",
              "      <th>X_3</th>\n",
              "      <th>X_4</th>\n",
              "      <th>X_5</th>\n",
              "      <th>X_6</th>\n",
              "      <th>X_7</th>\n",
              "      <th>X_8</th>\n",
              "      <th>X_9</th>\n",
              "      <th>X_10</th>\n",
              "      <th>X_11</th>\n",
              "      <th>X_12</th>\n",
              "      <th>X_13</th>\n",
              "      <th>X_14</th>\n",
              "      <th>X_15</th>\n",
              "      <th>MULTIPLE_OFFENSE</th>\n",
              "    </tr>\n",
              "  </thead>\n",
              "  <tbody>\n",
              "    <tr>\n",
              "      <th>0</th>\n",
              "      <td>CR_102659</td>\n",
              "      <td>04-JUL-04</td>\n",
              "      <td>0</td>\n",
              "      <td>36</td>\n",
              "      <td>34</td>\n",
              "      <td>2</td>\n",
              "      <td>1</td>\n",
              "      <td>5</td>\n",
              "      <td>6</td>\n",
              "      <td>1</td>\n",
              "      <td>6</td>\n",
              "      <td>1</td>\n",
              "      <td>174</td>\n",
              "      <td>1.0</td>\n",
              "      <td>92</td>\n",
              "      <td>29</td>\n",
              "      <td>36</td>\n",
              "      <td>0.0</td>\n",
              "    </tr>\n",
              "    <tr>\n",
              "      <th>1</th>\n",
              "      <td>CR_189752</td>\n",
              "      <td>18-JUL-17</td>\n",
              "      <td>1</td>\n",
              "      <td>37</td>\n",
              "      <td>37</td>\n",
              "      <td>0</td>\n",
              "      <td>0</td>\n",
              "      <td>11</td>\n",
              "      <td>17</td>\n",
              "      <td>1</td>\n",
              "      <td>6</td>\n",
              "      <td>1</td>\n",
              "      <td>236</td>\n",
              "      <td>1.0</td>\n",
              "      <td>103</td>\n",
              "      <td>142</td>\n",
              "      <td>34</td>\n",
              "      <td>1.0</td>\n",
              "    </tr>\n",
              "    <tr>\n",
              "      <th>2</th>\n",
              "      <td>CR_184637</td>\n",
              "      <td>15-MAR-17</td>\n",
              "      <td>0</td>\n",
              "      <td>3</td>\n",
              "      <td>2</td>\n",
              "      <td>3</td>\n",
              "      <td>5</td>\n",
              "      <td>1</td>\n",
              "      <td>0</td>\n",
              "      <td>2</td>\n",
              "      <td>3</td>\n",
              "      <td>1</td>\n",
              "      <td>174</td>\n",
              "      <td>1.0</td>\n",
              "      <td>110</td>\n",
              "      <td>93</td>\n",
              "      <td>34</td>\n",
              "      <td>1.0</td>\n",
              "    </tr>\n",
              "    <tr>\n",
              "      <th>3</th>\n",
              "      <td>CR_139071</td>\n",
              "      <td>13-FEB-09</td>\n",
              "      <td>0</td>\n",
              "      <td>33</td>\n",
              "      <td>32</td>\n",
              "      <td>2</td>\n",
              "      <td>1</td>\n",
              "      <td>7</td>\n",
              "      <td>1</td>\n",
              "      <td>1</td>\n",
              "      <td>6</td>\n",
              "      <td>1</td>\n",
              "      <td>249</td>\n",
              "      <td>1.0</td>\n",
              "      <td>72</td>\n",
              "      <td>29</td>\n",
              "      <td>34</td>\n",
              "      <td>1.0</td>\n",
              "    </tr>\n",
              "    <tr>\n",
              "      <th>4</th>\n",
              "      <td>CR_109335</td>\n",
              "      <td>13-APR-05</td>\n",
              "      <td>0</td>\n",
              "      <td>33</td>\n",
              "      <td>32</td>\n",
              "      <td>2</td>\n",
              "      <td>1</td>\n",
              "      <td>8</td>\n",
              "      <td>3</td>\n",
              "      <td>0</td>\n",
              "      <td>5</td>\n",
              "      <td>1</td>\n",
              "      <td>174</td>\n",
              "      <td>0.0</td>\n",
              "      <td>112</td>\n",
              "      <td>29</td>\n",
              "      <td>43</td>\n",
              "      <td>1.0</td>\n",
              "    </tr>\n",
              "  </tbody>\n",
              "</table>\n",
              "</div>"
            ],
            "text/plain": [
              "  INCIDENT_ID       DATE  X_1  X_2  ...  X_13  X_14  X_15  MULTIPLE_OFFENSE\n",
              "0   CR_102659  04-JUL-04    0   36  ...    92    29    36               0.0\n",
              "1   CR_189752  18-JUL-17    1   37  ...   103   142    34               1.0\n",
              "2   CR_184637  15-MAR-17    0    3  ...   110    93    34               1.0\n",
              "3   CR_139071  13-FEB-09    0   33  ...    72    29    34               1.0\n",
              "4   CR_109335  13-APR-05    0   33  ...   112    29    43               1.0\n",
              "\n",
              "[5 rows x 18 columns]"
            ]
          },
          "metadata": {
            "tags": []
          },
          "execution_count": 67
        }
      ]
    },
    {
      "cell_type": "code",
      "metadata": {
        "id": "AXt6aZPK6eNw",
        "colab_type": "code",
        "colab": {
          "base_uri": "https://localhost:8080/",
          "height": 347
        },
        "outputId": "59a16371-8ed5-4c0d-8703-649491f5a65e"
      },
      "source": [
        "data.dtypes"
      ],
      "execution_count": null,
      "outputs": [
        {
          "output_type": "execute_result",
          "data": {
            "text/plain": [
              "INCIDENT_ID          object\n",
              "DATE                 object\n",
              "X_1                   int64\n",
              "X_2                   int64\n",
              "X_3                   int64\n",
              "X_4                   int64\n",
              "X_5                   int64\n",
              "X_6                   int64\n",
              "X_7                   int64\n",
              "X_8                   int64\n",
              "X_9                   int64\n",
              "X_10                  int64\n",
              "X_11                  int64\n",
              "X_12                float64\n",
              "X_13                  int64\n",
              "X_14                  int64\n",
              "X_15                  int64\n",
              "MULTIPLE_OFFENSE    float64\n",
              "dtype: object"
            ]
          },
          "metadata": {
            "tags": []
          },
          "execution_count": 70
        }
      ]
    },
    {
      "cell_type": "code",
      "metadata": {
        "id": "I2lpyJWh65ho",
        "colab_type": "code",
        "colab": {}
      },
      "source": [
        "#data['DATE']=pd.to_datetime(data['DATE'])\n",
        "train['DATE']=pd.to_datetime(train['DATE'])\n",
        "test['DATE']=pd.to_datetime(test['DATE'])"
      ],
      "execution_count": 56,
      "outputs": []
    },
    {
      "cell_type": "code",
      "metadata": {
        "id": "AKdqcCBQFX7v",
        "colab_type": "code",
        "colab": {}
      },
      "source": [
        "test['DATE'] = pd.to_datetime(test.DATE,format='%d-%m-%y')"
      ],
      "execution_count": 118,
      "outputs": []
    },
    {
      "cell_type": "code",
      "metadata": {
        "id": "Dgy8WAbc9JrJ",
        "colab_type": "code",
        "colab": {
          "base_uri": "https://localhost:8080/",
          "height": 206
        },
        "outputId": "ea81d0e7-7132-4a82-b104-0156aaef5983"
      },
      "source": [
        "train.head()"
      ],
      "execution_count": 58,
      "outputs": [
        {
          "output_type": "execute_result",
          "data": {
            "text/html": [
              "<div>\n",
              "<style scoped>\n",
              "    .dataframe tbody tr th:only-of-type {\n",
              "        vertical-align: middle;\n",
              "    }\n",
              "\n",
              "    .dataframe tbody tr th {\n",
              "        vertical-align: top;\n",
              "    }\n",
              "\n",
              "    .dataframe thead th {\n",
              "        text-align: right;\n",
              "    }\n",
              "</style>\n",
              "<table border=\"1\" class=\"dataframe\">\n",
              "  <thead>\n",
              "    <tr style=\"text-align: right;\">\n",
              "      <th></th>\n",
              "      <th>INCIDENT_ID</th>\n",
              "      <th>DATE</th>\n",
              "      <th>X_1</th>\n",
              "      <th>X_2</th>\n",
              "      <th>X_3</th>\n",
              "      <th>X_4</th>\n",
              "      <th>X_5</th>\n",
              "      <th>X_6</th>\n",
              "      <th>X_7</th>\n",
              "      <th>X_8</th>\n",
              "      <th>X_9</th>\n",
              "      <th>X_10</th>\n",
              "      <th>X_11</th>\n",
              "      <th>X_12</th>\n",
              "      <th>X_13</th>\n",
              "      <th>X_14</th>\n",
              "      <th>X_15</th>\n",
              "      <th>MULTIPLE_OFFENSE</th>\n",
              "    </tr>\n",
              "  </thead>\n",
              "  <tbody>\n",
              "    <tr>\n",
              "      <th>0</th>\n",
              "      <td>CR_102659</td>\n",
              "      <td>2004-07-04</td>\n",
              "      <td>0</td>\n",
              "      <td>36</td>\n",
              "      <td>34</td>\n",
              "      <td>2</td>\n",
              "      <td>1</td>\n",
              "      <td>5</td>\n",
              "      <td>6</td>\n",
              "      <td>1</td>\n",
              "      <td>6</td>\n",
              "      <td>1</td>\n",
              "      <td>174</td>\n",
              "      <td>1.0</td>\n",
              "      <td>92</td>\n",
              "      <td>29</td>\n",
              "      <td>36</td>\n",
              "      <td>0</td>\n",
              "    </tr>\n",
              "    <tr>\n",
              "      <th>1</th>\n",
              "      <td>CR_189752</td>\n",
              "      <td>2017-07-18</td>\n",
              "      <td>1</td>\n",
              "      <td>37</td>\n",
              "      <td>37</td>\n",
              "      <td>0</td>\n",
              "      <td>0</td>\n",
              "      <td>11</td>\n",
              "      <td>17</td>\n",
              "      <td>1</td>\n",
              "      <td>6</td>\n",
              "      <td>1</td>\n",
              "      <td>236</td>\n",
              "      <td>1.0</td>\n",
              "      <td>103</td>\n",
              "      <td>142</td>\n",
              "      <td>34</td>\n",
              "      <td>1</td>\n",
              "    </tr>\n",
              "    <tr>\n",
              "      <th>2</th>\n",
              "      <td>CR_184637</td>\n",
              "      <td>2017-03-15</td>\n",
              "      <td>0</td>\n",
              "      <td>3</td>\n",
              "      <td>2</td>\n",
              "      <td>3</td>\n",
              "      <td>5</td>\n",
              "      <td>1</td>\n",
              "      <td>0</td>\n",
              "      <td>2</td>\n",
              "      <td>3</td>\n",
              "      <td>1</td>\n",
              "      <td>174</td>\n",
              "      <td>1.0</td>\n",
              "      <td>110</td>\n",
              "      <td>93</td>\n",
              "      <td>34</td>\n",
              "      <td>1</td>\n",
              "    </tr>\n",
              "    <tr>\n",
              "      <th>3</th>\n",
              "      <td>CR_139071</td>\n",
              "      <td>2009-02-13</td>\n",
              "      <td>0</td>\n",
              "      <td>33</td>\n",
              "      <td>32</td>\n",
              "      <td>2</td>\n",
              "      <td>1</td>\n",
              "      <td>7</td>\n",
              "      <td>1</td>\n",
              "      <td>1</td>\n",
              "      <td>6</td>\n",
              "      <td>1</td>\n",
              "      <td>249</td>\n",
              "      <td>1.0</td>\n",
              "      <td>72</td>\n",
              "      <td>29</td>\n",
              "      <td>34</td>\n",
              "      <td>1</td>\n",
              "    </tr>\n",
              "    <tr>\n",
              "      <th>4</th>\n",
              "      <td>CR_109335</td>\n",
              "      <td>2005-04-13</td>\n",
              "      <td>0</td>\n",
              "      <td>33</td>\n",
              "      <td>32</td>\n",
              "      <td>2</td>\n",
              "      <td>1</td>\n",
              "      <td>8</td>\n",
              "      <td>3</td>\n",
              "      <td>0</td>\n",
              "      <td>5</td>\n",
              "      <td>1</td>\n",
              "      <td>174</td>\n",
              "      <td>0.0</td>\n",
              "      <td>112</td>\n",
              "      <td>29</td>\n",
              "      <td>43</td>\n",
              "      <td>1</td>\n",
              "    </tr>\n",
              "  </tbody>\n",
              "</table>\n",
              "</div>"
            ],
            "text/plain": [
              "  INCIDENT_ID       DATE  X_1  X_2  ...  X_13  X_14  X_15  MULTIPLE_OFFENSE\n",
              "0   CR_102659 2004-07-04    0   36  ...    92    29    36                 0\n",
              "1   CR_189752 2017-07-18    1   37  ...   103   142    34                 1\n",
              "2   CR_184637 2017-03-15    0    3  ...   110    93    34                 1\n",
              "3   CR_139071 2009-02-13    0   33  ...    72    29    34                 1\n",
              "4   CR_109335 2005-04-13    0   33  ...   112    29    43                 1\n",
              "\n",
              "[5 rows x 18 columns]"
            ]
          },
          "metadata": {
            "tags": []
          },
          "execution_count": 58
        }
      ]
    },
    {
      "cell_type": "code",
      "metadata": {
        "id": "t4Vhmf2Z8p8w",
        "colab_type": "code",
        "colab": {}
      },
      "source": [
        "train =train.sort_values(by='DATE')\n",
        "#test =test.sort_values(by='DATE')"
      ],
      "execution_count": 59,
      "outputs": []
    },
    {
      "cell_type": "code",
      "metadata": {
        "id": "EhJRDKUu9rJT",
        "colab_type": "code",
        "colab": {
          "base_uri": "https://localhost:8080/",
          "height": 206
        },
        "outputId": "3da0d202-a000-4e6f-cca0-06622d931e2d"
      },
      "source": [
        "train.head()"
      ],
      "execution_count": 60,
      "outputs": [
        {
          "output_type": "execute_result",
          "data": {
            "text/html": [
              "<div>\n",
              "<style scoped>\n",
              "    .dataframe tbody tr th:only-of-type {\n",
              "        vertical-align: middle;\n",
              "    }\n",
              "\n",
              "    .dataframe tbody tr th {\n",
              "        vertical-align: top;\n",
              "    }\n",
              "\n",
              "    .dataframe thead th {\n",
              "        text-align: right;\n",
              "    }\n",
              "</style>\n",
              "<table border=\"1\" class=\"dataframe\">\n",
              "  <thead>\n",
              "    <tr style=\"text-align: right;\">\n",
              "      <th></th>\n",
              "      <th>INCIDENT_ID</th>\n",
              "      <th>DATE</th>\n",
              "      <th>X_1</th>\n",
              "      <th>X_2</th>\n",
              "      <th>X_3</th>\n",
              "      <th>X_4</th>\n",
              "      <th>X_5</th>\n",
              "      <th>X_6</th>\n",
              "      <th>X_7</th>\n",
              "      <th>X_8</th>\n",
              "      <th>X_9</th>\n",
              "      <th>X_10</th>\n",
              "      <th>X_11</th>\n",
              "      <th>X_12</th>\n",
              "      <th>X_13</th>\n",
              "      <th>X_14</th>\n",
              "      <th>X_15</th>\n",
              "      <th>MULTIPLE_OFFENSE</th>\n",
              "    </tr>\n",
              "  </thead>\n",
              "  <tbody>\n",
              "    <tr>\n",
              "      <th>19022</th>\n",
              "      <td>CR_1141</td>\n",
              "      <td>1991-01-01</td>\n",
              "      <td>0</td>\n",
              "      <td>22</td>\n",
              "      <td>22</td>\n",
              "      <td>7</td>\n",
              "      <td>3</td>\n",
              "      <td>8</td>\n",
              "      <td>3</td>\n",
              "      <td>7</td>\n",
              "      <td>2</td>\n",
              "      <td>2</td>\n",
              "      <td>0</td>\n",
              "      <td>2.0</td>\n",
              "      <td>72</td>\n",
              "      <td>142</td>\n",
              "      <td>34</td>\n",
              "      <td>1</td>\n",
              "    </tr>\n",
              "    <tr>\n",
              "      <th>13104</th>\n",
              "      <td>CR_2248</td>\n",
              "      <td>1991-01-02</td>\n",
              "      <td>0</td>\n",
              "      <td>33</td>\n",
              "      <td>32</td>\n",
              "      <td>2</td>\n",
              "      <td>1</td>\n",
              "      <td>7</td>\n",
              "      <td>1</td>\n",
              "      <td>1</td>\n",
              "      <td>6</td>\n",
              "      <td>1</td>\n",
              "      <td>249</td>\n",
              "      <td>1.0</td>\n",
              "      <td>72</td>\n",
              "      <td>142</td>\n",
              "      <td>34</td>\n",
              "      <td>1</td>\n",
              "    </tr>\n",
              "    <tr>\n",
              "      <th>1617</th>\n",
              "      <td>CR_3131</td>\n",
              "      <td>1991-01-03</td>\n",
              "      <td>1</td>\n",
              "      <td>36</td>\n",
              "      <td>34</td>\n",
              "      <td>2</td>\n",
              "      <td>1</td>\n",
              "      <td>15</td>\n",
              "      <td>10</td>\n",
              "      <td>0</td>\n",
              "      <td>5</td>\n",
              "      <td>1</td>\n",
              "      <td>174</td>\n",
              "      <td>0.0</td>\n",
              "      <td>92</td>\n",
              "      <td>93</td>\n",
              "      <td>0</td>\n",
              "      <td>1</td>\n",
              "    </tr>\n",
              "    <tr>\n",
              "      <th>6187</th>\n",
              "      <td>CR_3546</td>\n",
              "      <td>1991-01-04</td>\n",
              "      <td>0</td>\n",
              "      <td>39</td>\n",
              "      <td>39</td>\n",
              "      <td>6</td>\n",
              "      <td>5</td>\n",
              "      <td>8</td>\n",
              "      <td>3</td>\n",
              "      <td>1</td>\n",
              "      <td>6</td>\n",
              "      <td>1</td>\n",
              "      <td>0</td>\n",
              "      <td>1.0</td>\n",
              "      <td>72</td>\n",
              "      <td>62</td>\n",
              "      <td>34</td>\n",
              "      <td>1</td>\n",
              "    </tr>\n",
              "    <tr>\n",
              "      <th>1761</th>\n",
              "      <td>CR_821</td>\n",
              "      <td>1991-01-05</td>\n",
              "      <td>1</td>\n",
              "      <td>22</td>\n",
              "      <td>22</td>\n",
              "      <td>7</td>\n",
              "      <td>3</td>\n",
              "      <td>15</td>\n",
              "      <td>10</td>\n",
              "      <td>0</td>\n",
              "      <td>5</td>\n",
              "      <td>1</td>\n",
              "      <td>174</td>\n",
              "      <td>0.0</td>\n",
              "      <td>103</td>\n",
              "      <td>93</td>\n",
              "      <td>48</td>\n",
              "      <td>1</td>\n",
              "    </tr>\n",
              "  </tbody>\n",
              "</table>\n",
              "</div>"
            ],
            "text/plain": [
              "      INCIDENT_ID       DATE  X_1  X_2  ...  X_13  X_14  X_15  MULTIPLE_OFFENSE\n",
              "19022     CR_1141 1991-01-01    0   22  ...    72   142    34                 1\n",
              "13104     CR_2248 1991-01-02    0   33  ...    72   142    34                 1\n",
              "1617      CR_3131 1991-01-03    1   36  ...    92    93     0                 1\n",
              "6187      CR_3546 1991-01-04    0   39  ...    72    62    34                 1\n",
              "1761       CR_821 1991-01-05    1   22  ...   103    93    48                 1\n",
              "\n",
              "[5 rows x 18 columns]"
            ]
          },
          "metadata": {
            "tags": []
          },
          "execution_count": 60
        }
      ]
    },
    {
      "cell_type": "code",
      "metadata": {
        "id": "LxGvirAw7euQ",
        "colab_type": "code",
        "colab": {}
      },
      "source": [
        ""
      ],
      "execution_count": 37,
      "outputs": []
    },
    {
      "cell_type": "code",
      "metadata": {
        "id": "nme5BnsKztX0",
        "colab_type": "code",
        "colab": {
          "base_uri": "https://localhost:8080/",
          "height": 500
        },
        "outputId": "fba7c98e-a94a-4947-ef24-6be1fe25e809"
      },
      "source": [
        "import matplotlib.pyplot as plt\n",
        "%matplotlib inline\n",
        "train.index = train['DATE']\n",
        "plt.figure(figsize=(12,8))\n",
        "plt.plot(train['X_12'])df.reset_index(drop=True, inplace=True)"
      ],
      "execution_count": 61,
      "outputs": [
        {
          "output_type": "execute_result",
          "data": {
            "text/plain": [
              "[<matplotlib.lines.Line2D at 0x7efd4597e518>]"
            ]
          },
          "metadata": {
            "tags": []
          },
          "execution_count": 61
        },
        {
          "output_type": "display_data",
          "data": {
            "image/png": "[encoded data removed]",
            "text/plain": [
              "<Figure size 864x576 with 1 Axes>"
            ]
          },
          "metadata": {
            "tags": [],
            "needs_background": "light"
          }
        }
      ]
    },
    {
      "cell_type": "code",
      "metadata": {
        "id": "caIau9av9qc-",
        "colab_type": "code",
        "colab": {
          "base_uri": "https://localhost:8080/",
          "height": 500
        },
        "outputId": "42d61091-432d-4483-8dcc-2b377bfe6eb6"
      },
      "source": [
        "plt.figure(figsize=(12,8))\n",
        "plt.plot(train['X_10'])"
      ],
      "execution_count": 63,
      "outputs": [
        {
          "output_type": "execute_result",
          "data": {
            "text/plain": [
              "[<matplotlib.lines.Line2D at 0x7efd45901588>]"
            ]
          },
          "metadata": {
            "tags": []
          },
          "execution_count": 63
        },
        {
          "output_type": "display_data",
          "data": {
            "image/png": "[encoded data removed]",
            "text/plain": [
              "<Figure size 864x576 with 1 Axes>"
            ]
          },
          "metadata": {
            "tags": [],
            "needs_background": "light"
          }
        }
      ]
    },
    {
      "cell_type": "code",
      "metadata": {
        "id": "6yLa0YCaztdl",
        "colab_type": "code",
        "colab": {
          "base_uri": "https://localhost:8080/",
          "height": 500
        },
        "outputId": "f2264707-07f4-4fd1-e7ac-ac3da3731dcd"
      },
      "source": [
        "plt.figure(figsize=(12,8))\n",
        "plt.plot(train['X_8'])"
      ],
      "execution_count": 64,
      "outputs": [
        {
          "output_type": "execute_result",
          "data": {
            "text/plain": [
              "[<matplotlib.lines.Line2D at 0x7efd458c5898>]"
            ]
          },
          "metadata": {
            "tags": []
          },
          "execution_count": 64
        },
        {
          "output_type": "display_data",
          "data": {
            "image/png": "[encoded data removed]",
            "text/plain": [
              "<Figure size 864x576 with 1 Axes>"
            ]
          },
          "metadata": {
            "tags": [],
            "needs_background": "light"
          }
        }
      ]
    },
    {
      "cell_type": "markdown",
      "metadata": {
        "id": "IBSoUfNf-khU",
        "colab_type": "text"
      },
      "source": [
        "#Except above three features ,remaining features don't have any pattern  with respect to time"
      ]
    },
    {
      "cell_type": "code",
      "metadata": {
        "id": "-pspGDpTCKy7",
        "colab_type": "code",
        "colab": {}
      },
      "source": [
        "df_1 = train"
      ],
      "execution_count": 65,
      "outputs": []
    },
    {
      "cell_type": "markdown",
      "metadata": {
        "id": "Y33cOxzwCZFD",
        "colab_type": "text"
      },
      "source": [
        " # break apart the date and get the year, month, week of year, day of month"
      ]
    },
    {
      "cell_type": "code",
      "metadata": {
        "id": "k4vB_OP9zuVQ",
        "colab_type": "code",
        "colab": {}
      },
      "source": [
        "\n",
        "df_1['dayofweek'] = df_1['DATE'].dt.dayofweek\n",
        "df_1['quarter'] = df_1['DATE'].dt.quarter\n",
        "df_1['month'] = df_1['DATE'].dt.month\n",
        "df_1['year'] = df_1['DATE'].dt.year\n",
        "df_1['dayofyear'] = df_1['DATE'].dt.dayofyear\n",
        "df_1['dayofmonth'] = df_1['DATE'].dt.day\n",
        "df_1['week'] = df_1['DATE'].dt.week\n",
        "df_1['is_month_start']=df_1['DATE'].dt.is_month_start\n",
        "df_1['is_month_end']=df_1['DATE'].dt.is_month_end\n",
        "df_1['is_quarter_start']=df_1['DATE'].dt.is_quarter_start\n",
        "df_1['is_quarter_end']=df_1['DATE'].dt.is_quarter_end\n",
        "df_1['is_year_start']=df_1['DATE'].dt.is_year_start\n",
        "df_1['is_year_end']=df_1['DATE'].dt.is_year_end\n",
        "df_1['Semester'] = np.where(df_1['quarter'].isin([1,2]),1,2)"
      ],
      "execution_count": 66,
      "outputs": []
    },
    {
      "cell_type": "code",
      "metadata": {
        "id": "eOIPE5F0BZto",
        "colab_type": "code",
        "colab": {
          "base_uri": "https://localhost:8080/",
          "height": 34
        },
        "outputId": "05d0168e-3032-4cf5-bcc8-9e801663a511"
      },
      "source": [
        "df_1.shape"
      ],
      "execution_count": 68,
      "outputs": [
        {
          "output_type": "execute_result",
          "data": {
            "text/plain": [
              "(23674, 32)"
            ]
          },
          "metadata": {
            "tags": []
          },
          "execution_count": 68
        }
      ]
    },
    {
      "cell_type": "code",
      "metadata": {
        "id": "ibv9U8m9BZ-U",
        "colab_type": "code",
        "colab": {
          "base_uri": "https://localhost:8080/",
          "height": 139
        },
        "outputId": "a3fbc979-4968-4817-9a9f-6d7819ad815c"
      },
      "source": [
        "df_1.columns"
      ],
      "execution_count": 69,
      "outputs": [
        {
          "output_type": "execute_result",
          "data": {
            "text/plain": [
              "Index(['INCIDENT_ID', 'DATE', 'X_1', 'X_2', 'X_3', 'X_4', 'X_5', 'X_6', 'X_7',\n",
              "       'X_8', 'X_9', 'X_10', 'X_11', 'X_12', 'X_13', 'X_14', 'X_15',\n",
              "       'MULTIPLE_OFFENSE', 'dayofweek', 'quarter', 'month', 'year',\n",
              "       'dayofyear', 'dayofmonth', 'week', 'is_month_start', 'is_month_end',\n",
              "       'is_quarter_start', 'is_quarter_end', 'is_year_start', 'is_year_end',\n",
              "       'Semester'],\n",
              "      dtype='object')"
            ]
          },
          "metadata": {
            "tags": []
          },
          "execution_count": 69
        }
      ]
    },
    {
      "cell_type": "code",
      "metadata": {
        "id": "PJFJupKgBZ8F",
        "colab_type": "code",
        "colab": {
          "base_uri": "https://localhost:8080/",
          "height": 475
        },
        "outputId": "68ca7b7e-a924-40bf-ae9b-c1195c4e0bb8"
      },
      "source": [
        "df_1[[  'dayofweek', 'quarter', 'month', 'year',\n",
        "       'dayofyear', 'dayofmonth', 'week', 'is_month_start', 'is_month_end',\n",
        "       'is_quarter_start', 'is_quarter_end', 'is_year_start', 'is_year_end',\n",
        "       'Semester']]"
      ],
      "execution_count": 70,
      "outputs": [
        {
          "output_type": "execute_result",
          "data": {
            "text/html": [
              "<div>\n",
              "<style scoped>\n",
              "    .dataframe tbody tr th:only-of-type {\n",
              "        vertical-align: middle;\n",
              "    }\n",
              "\n",
              "    .dataframe tbody tr th {\n",
              "        vertical-align: top;\n",
              "    }\n",
              "\n",
              "    .dataframe thead th {\n",
              "        text-align: right;\n",
              "    }\n",
              "</style>\n",
              "<table border=\"1\" class=\"dataframe\">\n",
              "  <thead>\n",
              "    <tr style=\"text-align: right;\">\n",
              "      <th></th>\n",
              "      <th>dayofweek</th>\n",
              "      <th>quarter</th>\n",
              "      <th>month</th>\n",
              "      <th>year</th>\n",
              "      <th>dayofyear</th>\n",
              "      <th>dayofmonth</th>\n",
              "      <th>week</th>\n",
              "      <th>is_month_start</th>\n",
              "      <th>is_month_end</th>\n",
              "      <th>is_quarter_start</th>\n",
              "      <th>is_quarter_end</th>\n",
              "      <th>is_year_start</th>\n",
              "      <th>is_year_end</th>\n",
              "      <th>Semester</th>\n",
              "    </tr>\n",
              "    <tr>\n",
              "      <th>DATE</th>\n",
              "      <th></th>\n",
              "      <th></th>\n",
              "      <th></th>\n",
              "      <th></th>\n",
              "      <th></th>\n",
              "      <th></th>\n",
              "      <th></th>\n",
              "      <th></th>\n",
              "      <th></th>\n",
              "      <th></th>\n",
              "      <th></th>\n",
              "      <th></th>\n",
              "      <th></th>\n",
              "      <th></th>\n",
              "    </tr>\n",
              "  </thead>\n",
              "  <tbody>\n",
              "    <tr>\n",
              "      <th>1991-01-01</th>\n",
              "      <td>1</td>\n",
              "      <td>1</td>\n",
              "      <td>1</td>\n",
              "      <td>1991</td>\n",
              "      <td>1</td>\n",
              "      <td>1</td>\n",
              "      <td>1</td>\n",
              "      <td>True</td>\n",
              "      <td>False</td>\n",
              "      <td>True</td>\n",
              "      <td>False</td>\n",
              "      <td>True</td>\n",
              "      <td>False</td>\n",
              "      <td>1</td>\n",
              "    </tr>\n",
              "    <tr>\n",
              "      <th>1991-01-02</th>\n",
              "      <td>2</td>\n",
              "      <td>1</td>\n",
              "      <td>1</td>\n",
              "      <td>1991</td>\n",
              "      <td>2</td>\n",
              "      <td>2</td>\n",
              "      <td>1</td>\n",
              "      <td>False</td>\n",
              "      <td>False</td>\n",
              "      <td>False</td>\n",
              "      <td>False</td>\n",
              "      <td>False</td>\n",
              "      <td>False</td>\n",
              "      <td>1</td>\n",
              "    </tr>\n",
              "    <tr>\n",
              "      <th>1991-01-03</th>\n",
              "      <td>3</td>\n",
              "      <td>1</td>\n",
              "      <td>1</td>\n",
              "      <td>1991</td>\n",
              "      <td>3</td>\n",
              "      <td>3</td>\n",
              "      <td>1</td>\n",
              "      <td>False</td>\n",
              "      <td>False</td>\n",
              "      <td>False</td>\n",
              "      <td>False</td>\n",
              "      <td>False</td>\n",
              "      <td>False</td>\n",
              "      <td>1</td>\n",
              "    </tr>\n",
              "    <tr>\n",
              "      <th>1991-01-04</th>\n",
              "      <td>4</td>\n",
              "      <td>1</td>\n",
              "      <td>1</td>\n",
              "      <td>1991</td>\n",
              "      <td>4</td>\n",
              "      <td>4</td>\n",
              "      <td>1</td>\n",
              "      <td>False</td>\n",
              "      <td>False</td>\n",
              "      <td>False</td>\n",
              "      <td>False</td>\n",
              "      <td>False</td>\n",
              "      <td>False</td>\n",
              "      <td>1</td>\n",
              "    </tr>\n",
              "    <tr>\n",
              "      <th>1991-01-05</th>\n",
              "      <td>5</td>\n",
              "      <td>1</td>\n",
              "      <td>1</td>\n",
              "      <td>1991</td>\n",
              "      <td>5</td>\n",
              "      <td>5</td>\n",
              "      <td>1</td>\n",
              "      <td>False</td>\n",
              "      <td>False</td>\n",
              "      <td>False</td>\n",
              "      <td>False</td>\n",
              "      <td>False</td>\n",
              "      <td>False</td>\n",
              "      <td>1</td>\n",
              "    </tr>\n",
              "    <tr>\n",
              "      <th>...</th>\n",
              "      <td>...</td>\n",
              "      <td>...</td>\n",
              "      <td>...</td>\n",
              "      <td>...</td>\n",
              "      <td>...</td>\n",
              "      <td>...</td>\n",
              "      <td>...</td>\n",
              "      <td>...</td>\n",
              "      <td>...</td>\n",
              "      <td>...</td>\n",
              "      <td>...</td>\n",
              "      <td>...</td>\n",
              "      <td>...</td>\n",
              "      <td>...</td>\n",
              "    </tr>\n",
              "    <tr>\n",
              "      <th>2018-12-28</th>\n",
              "      <td>4</td>\n",
              "      <td>4</td>\n",
              "      <td>12</td>\n",
              "      <td>2018</td>\n",
              "      <td>362</td>\n",
              "      <td>28</td>\n",
              "      <td>52</td>\n",
              "      <td>False</td>\n",
              "      <td>False</td>\n",
              "      <td>False</td>\n",
              "      <td>False</td>\n",
              "      <td>False</td>\n",
              "      <td>False</td>\n",
              "      <td>2</td>\n",
              "    </tr>\n",
              "    <tr>\n",
              "      <th>2018-12-29</th>\n",
              "      <td>5</td>\n",
              "      <td>4</td>\n",
              "      <td>12</td>\n",
              "      <td>2018</td>\n",
              "      <td>363</td>\n",
              "      <td>29</td>\n",
              "      <td>52</td>\n",
              "      <td>False</td>\n",
              "      <td>False</td>\n",
              "      <td>False</td>\n",
              "      <td>False</td>\n",
              "      <td>False</td>\n",
              "      <td>False</td>\n",
              "      <td>2</td>\n",
              "    </tr>\n",
              "    <tr>\n",
              "      <th>2018-12-29</th>\n",
              "      <td>5</td>\n",
              "      <td>4</td>\n",
              "      <td>12</td>\n",
              "      <td>2018</td>\n",
              "      <td>363</td>\n",
              "      <td>29</td>\n",
              "      <td>52</td>\n",
              "      <td>False</td>\n",
              "      <td>False</td>\n",
              "      <td>False</td>\n",
              "      <td>False</td>\n",
              "      <td>False</td>\n",
              "      <td>False</td>\n",
              "      <td>2</td>\n",
              "    </tr>\n",
              "    <tr>\n",
              "      <th>2018-12-30</th>\n",
              "      <td>6</td>\n",
              "      <td>4</td>\n",
              "      <td>12</td>\n",
              "      <td>2018</td>\n",
              "      <td>364</td>\n",
              "      <td>30</td>\n",
              "      <td>52</td>\n",
              "      <td>False</td>\n",
              "      <td>False</td>\n",
              "      <td>False</td>\n",
              "      <td>False</td>\n",
              "      <td>False</td>\n",
              "      <td>False</td>\n",
              "      <td>2</td>\n",
              "    </tr>\n",
              "    <tr>\n",
              "      <th>2018-12-31</th>\n",
              "      <td>0</td>\n",
              "      <td>4</td>\n",
              "      <td>12</td>\n",
              "      <td>2018</td>\n",
              "      <td>365</td>\n",
              "      <td>31</td>\n",
              "      <td>1</td>\n",
              "      <td>False</td>\n",
              "      <td>True</td>\n",
              "      <td>False</td>\n",
              "      <td>True</td>\n",
              "      <td>False</td>\n",
              "      <td>True</td>\n",
              "      <td>2</td>\n",
              "    </tr>\n",
              "  </tbody>\n",
              "</table>\n",
              "<p>23674 rows × 14 columns</p>\n",
              "</div>"
            ],
            "text/plain": [
              "            dayofweek  quarter  month  ...  is_year_start  is_year_end  Semester\n",
              "DATE                                   ...                                      \n",
              "1991-01-01          1        1      1  ...           True        False         1\n",
              "1991-01-02          2        1      1  ...          False        False         1\n",
              "1991-01-03          3        1      1  ...          False        False         1\n",
              "1991-01-04          4        1      1  ...          False        False         1\n",
              "1991-01-05          5        1      1  ...          False        False         1\n",
              "...               ...      ...    ...  ...            ...          ...       ...\n",
              "2018-12-28          4        4     12  ...          False        False         2\n",
              "2018-12-29          5        4     12  ...          False        False         2\n",
              "2018-12-29          5        4     12  ...          False        False         2\n",
              "2018-12-30          6        4     12  ...          False        False         2\n",
              "2018-12-31          0        4     12  ...          False         True         2\n",
              "\n",
              "[23674 rows x 14 columns]"
            ]
          },
          "metadata": {
            "tags": []
          },
          "execution_count": 70
        }
      ]
    },
    {
      "cell_type": "code",
      "metadata": {
        "id": "4FI16iyZBZ55",
        "colab_type": "code",
        "colab": {
          "base_uri": "https://localhost:8080/",
          "height": 260
        },
        "outputId": "9c856403-741d-4348-e9f9-5403789b7bbe"
      },
      "source": [
        "df_1.groupby('month').size()\n"
      ],
      "execution_count": 71,
      "outputs": [
        {
          "output_type": "execute_result",
          "data": {
            "text/plain": [
              "month\n",
              "1     1721\n",
              "2     1700\n",
              "3     1979\n",
              "4     2102\n",
              "5     2128\n",
              "6     2099\n",
              "7     2144\n",
              "8     2091\n",
              "9     2270\n",
              "10    2124\n",
              "11    1838\n",
              "12    1478\n",
              "dtype: int64"
            ]
          },
          "metadata": {
            "tags": []
          },
          "execution_count": 71
        }
      ]
    },
    {
      "cell_type": "code",
      "metadata": {
        "id": "GpNYpx7vBZ4G",
        "colab_type": "code",
        "colab": {
          "base_uri": "https://localhost:8080/",
          "height": 173
        },
        "outputId": "82bfb523-a6aa-4eb9-825a-6b3932e30c3e"
      },
      "source": [
        "df_1.groupby('dayofweek').size()"
      ],
      "execution_count": 21,
      "outputs": [
        {
          "output_type": "execute_result",
          "data": {
            "text/plain": [
              "dayofweek\n",
              "0    5792\n",
              "1    5604\n",
              "2    5495\n",
              "3    5584\n",
              "4    5990\n",
              "5    5622\n",
              "6    5363\n",
              "dtype: int64"
            ]
          },
          "metadata": {
            "tags": []
          },
          "execution_count": 21
        }
      ]
    },
    {
      "cell_type": "code",
      "metadata": {
        "id": "3Y-NC9pfEZGI",
        "colab_type": "code",
        "colab": {}
      },
      "source": [
        "def calc_prevalence(y):\n",
        " return (sum(y)/len(y))"
      ],
      "execution_count": 22,
      "outputs": []
    },
    {
      "cell_type": "code",
      "metadata": {
        "id": "14iY-Y5CzumY",
        "colab_type": "code",
        "colab": {
          "base_uri": "https://localhost:8080/",
          "height": 538
        },
        "outputId": "43acc7f8-37a9-4328-ae89-7f10d9bdbfb3"
      },
      "source": [
        "df_1.groupby('year').apply(lambda g:calc_prevalence(g.MULTIPLE_OFFENSE.values))"
      ],
      "execution_count": 72,
      "outputs": [
        {
          "output_type": "execute_result",
          "data": {
            "text/plain": [
              "year\n",
              "1991    0.970703\n",
              "1992    0.973485\n",
              "1993    0.968815\n",
              "1994    0.964088\n",
              "1995    0.940334\n",
              "1996    0.936538\n",
              "1997    0.940126\n",
              "1998    0.941922\n",
              "1999    0.960694\n",
              "2000    0.958661\n",
              "2001    0.959528\n",
              "2002    0.964455\n",
              "2003    0.962921\n",
              "2004    0.962096\n",
              "2005    0.957617\n",
              "2006    0.946411\n",
              "2007    0.941307\n",
              "2008    0.953241\n",
              "2009    0.944588\n",
              "2010    0.955300\n",
              "2011    0.951252\n",
              "2012    0.952612\n",
              "2013    0.970128\n",
              "2014    0.970501\n",
              "2015    0.961111\n",
              "2016    0.944818\n",
              "2017    0.953905\n",
              "2018    0.945726\n",
              "dtype: float64"
            ]
          },
          "metadata": {
            "tags": []
          },
          "execution_count": 72
        }
      ]
    },
    {
      "cell_type": "code",
      "metadata": {
        "id": "rW8ErlPOzurI",
        "colab_type": "code",
        "colab": {
          "base_uri": "https://localhost:8080/",
          "height": 260
        },
        "outputId": "5e03f409-5f73-4470-fa7c-cadb73c903e3"
      },
      "source": [
        "df_1.groupby('month').apply(lambda g:calc_prevalence(g.MULTIPLE_OFFENSE.values))"
      ],
      "execution_count": 73,
      "outputs": [
        {
          "output_type": "execute_result",
          "data": {
            "text/plain": [
              "month\n",
              "1     0.947124\n",
              "2     0.959412\n",
              "3     0.957049\n",
              "4     0.952426\n",
              "5     0.945959\n",
              "6     0.953788\n",
              "7     0.957090\n",
              "8     0.956002\n",
              "9     0.965639\n",
              "10    0.954802\n",
              "11    0.958107\n",
              "12    0.948579\n",
              "dtype: float64"
            ]
          },
          "metadata": {
            "tags": []
          },
          "execution_count": 73
        }
      ]
    },
    {
      "cell_type": "code",
      "metadata": {
        "id": "xds7mXyBzuqC",
        "colab_type": "code",
        "colab": {
          "base_uri": "https://localhost:8080/",
          "height": 173
        },
        "outputId": "e65ba81c-0ee3-4c02-84fd-363fe21d1597"
      },
      "source": [
        "df_1.groupby('dayofweek').apply(lambda g:calc_prevalence(g.MULTIPLE_OFFENSE.values))"
      ],
      "execution_count": 74,
      "outputs": [
        {
          "output_type": "execute_result",
          "data": {
            "text/plain": [
              "dayofweek\n",
              "0    0.953622\n",
              "1    0.958433\n",
              "2    0.957323\n",
              "3    0.957660\n",
              "4    0.962625\n",
              "5    0.950726\n",
              "6    0.942927\n",
              "dtype: float64"
            ]
          },
          "metadata": {
            "tags": []
          },
          "execution_count": 74
        }
      ]
    },
    {
      "cell_type": "markdown",
      "metadata": {
        "id": "EJ5uVVeN-hn_",
        "colab_type": "text"
      },
      "source": [
        "From the above three values we can say that the y values equally distributed among year & month & day.that means the dependent value  does not effected by Time."
      ]
    },
    {
      "cell_type": "code",
      "metadata": {
        "id": "TSW4AUuU_OqL",
        "colab_type": "code",
        "colab": {
          "base_uri": "https://localhost:8080/",
          "height": 258
        },
        "outputId": "32a07e42-ca01-43dd-a3b3-12bf3626f3e3"
      },
      "source": [
        "df_1.head()"
      ],
      "execution_count": 77,
      "outputs": [
        {
          "output_type": "execute_result",
          "data": {
            "text/html": [
              "<div>\n",
              "<style scoped>\n",
              "    .dataframe tbody tr th:only-of-type {\n",
              "        vertical-align: middle;\n",
              "    }\n",
              "\n",
              "    .dataframe tbody tr th {\n",
              "        vertical-align: top;\n",
              "    }\n",
              "\n",
              "    .dataframe thead th {\n",
              "        text-align: right;\n",
              "    }\n",
              "</style>\n",
              "<table border=\"1\" class=\"dataframe\">\n",
              "  <thead>\n",
              "    <tr style=\"text-align: right;\">\n",
              "      <th></th>\n",
              "      <th>INCIDENT_ID</th>\n",
              "      <th>DATE</th>\n",
              "      <th>X_1</th>\n",
              "      <th>X_2</th>\n",
              "      <th>X_3</th>\n",
              "      <th>X_4</th>\n",
              "      <th>X_5</th>\n",
              "      <th>X_6</th>\n",
              "      <th>X_7</th>\n",
              "      <th>X_8</th>\n",
              "      <th>X_9</th>\n",
              "      <th>X_10</th>\n",
              "      <th>X_11</th>\n",
              "      <th>X_12</th>\n",
              "      <th>X_13</th>\n",
              "      <th>X_14</th>\n",
              "      <th>X_15</th>\n",
              "      <th>MULTIPLE_OFFENSE</th>\n",
              "      <th>dayofweek</th>\n",
              "      <th>quarter</th>\n",
              "      <th>month</th>\n",
              "      <th>year</th>\n",
              "      <th>dayofyear</th>\n",
              "      <th>dayofmonth</th>\n",
              "      <th>week</th>\n",
              "      <th>is_month_start</th>\n",
              "      <th>is_month_end</th>\n",
              "      <th>is_quarter_start</th>\n",
              "      <th>is_quarter_end</th>\n",
              "      <th>is_year_start</th>\n",
              "      <th>is_year_end</th>\n",
              "      <th>Semester</th>\n",
              "    </tr>\n",
              "    <tr>\n",
              "      <th>DATE</th>\n",
              "      <th></th>\n",
              "      <th></th>\n",
              "      <th></th>\n",
              "      <th></th>\n",
              "      <th></th>\n",
              "      <th></th>\n",
              "      <th></th>\n",
              "      <th></th>\n",
              "      <th></th>\n",
              "      <th></th>\n",
              "      <th></th>\n",
              "      <th></th>\n",
              "      <th></th>\n",
              "      <th></th>\n",
              "      <th></th>\n",
              "      <th></th>\n",
              "      <th></th>\n",
              "      <th></th>\n",
              "      <th></th>\n",
              "      <th></th>\n",
              "      <th></th>\n",
              "      <th></th>\n",
              "      <th></th>\n",
              "      <th></th>\n",
              "      <th></th>\n",
              "      <th></th>\n",
              "      <th></th>\n",
              "      <th></th>\n",
              "      <th></th>\n",
              "      <th></th>\n",
              "      <th></th>\n",
              "      <th></th>\n",
              "    </tr>\n",
              "  </thead>\n",
              "  <tbody>\n",
              "    <tr>\n",
              "      <th>1991-01-01</th>\n",
              "      <td>CR_1141</td>\n",
              "      <td>1991-01-01</td>\n",
              "      <td>0</td>\n",
              "      <td>22</td>\n",
              "      <td>22</td>\n",
              "      <td>7</td>\n",
              "      <td>3</td>\n",
              "      <td>8</td>\n",
              "      <td>3</td>\n",
              "      <td>7</td>\n",
              "      <td>2</td>\n",
              "      <td>2</td>\n",
              "      <td>0</td>\n",
              "      <td>2.0</td>\n",
              "      <td>72</td>\n",
              "      <td>142</td>\n",
              "      <td>34</td>\n",
              "      <td>1</td>\n",
              "      <td>1</td>\n",
              "      <td>1</td>\n",
              "      <td>1</td>\n",
              "      <td>1991</td>\n",
              "      <td>1</td>\n",
              "      <td>1</td>\n",
              "      <td>1</td>\n",
              "      <td>True</td>\n",
              "      <td>False</td>\n",
              "      <td>True</td>\n",
              "      <td>False</td>\n",
              "      <td>True</td>\n",
              "      <td>False</td>\n",
              "      <td>1</td>\n",
              "    </tr>\n",
              "    <tr>\n",
              "      <th>1991-01-02</th>\n",
              "      <td>CR_2248</td>\n",
              "      <td>1991-01-02</td>\n",
              "      <td>0</td>\n",
              "      <td>33</td>\n",
              "      <td>32</td>\n",
              "      <td>2</td>\n",
              "      <td>1</td>\n",
              "      <td>7</td>\n",
              "      <td>1</td>\n",
              "      <td>1</td>\n",
              "      <td>6</td>\n",
              "      <td>1</td>\n",
              "      <td>249</td>\n",
              "      <td>1.0</td>\n",
              "      <td>72</td>\n",
              "      <td>142</td>\n",
              "      <td>34</td>\n",
              "      <td>1</td>\n",
              "      <td>2</td>\n",
              "      <td>1</td>\n",
              "      <td>1</td>\n",
              "      <td>1991</td>\n",
              "      <td>2</td>\n",
              "      <td>2</td>\n",
              "      <td>1</td>\n",
              "      <td>False</td>\n",
              "      <td>False</td>\n",
              "      <td>False</td>\n",
              "      <td>False</td>\n",
              "      <td>False</td>\n",
              "      <td>False</td>\n",
              "      <td>1</td>\n",
              "    </tr>\n",
              "    <tr>\n",
              "      <th>1991-01-03</th>\n",
              "      <td>CR_3131</td>\n",
              "      <td>1991-01-03</td>\n",
              "      <td>1</td>\n",
              "      <td>36</td>\n",
              "      <td>34</td>\n",
              "      <td>2</td>\n",
              "      <td>1</td>\n",
              "      <td>15</td>\n",
              "      <td>10</td>\n",
              "      <td>0</td>\n",
              "      <td>5</td>\n",
              "      <td>1</td>\n",
              "      <td>174</td>\n",
              "      <td>0.0</td>\n",
              "      <td>92</td>\n",
              "      <td>93</td>\n",
              "      <td>0</td>\n",
              "      <td>1</td>\n",
              "      <td>3</td>\n",
              "      <td>1</td>\n",
              "      <td>1</td>\n",
              "      <td>1991</td>\n",
              "      <td>3</td>\n",
              "      <td>3</td>\n",
              "      <td>1</td>\n",
              "      <td>False</td>\n",
              "      <td>False</td>\n",
              "      <td>False</td>\n",
              "      <td>False</td>\n",
              "      <td>False</td>\n",
              "      <td>False</td>\n",
              "      <td>1</td>\n",
              "    </tr>\n",
              "    <tr>\n",
              "      <th>1991-01-04</th>\n",
              "      <td>CR_3546</td>\n",
              "      <td>1991-01-04</td>\n",
              "      <td>0</td>\n",
              "      <td>39</td>\n",
              "      <td>39</td>\n",
              "      <td>6</td>\n",
              "      <td>5</td>\n",
              "      <td>8</td>\n",
              "      <td>3</td>\n",
              "      <td>1</td>\n",
              "      <td>6</td>\n",
              "      <td>1</td>\n",
              "      <td>0</td>\n",
              "      <td>1.0</td>\n",
              "      <td>72</td>\n",
              "      <td>62</td>\n",
              "      <td>34</td>\n",
              "      <td>1</td>\n",
              "      <td>4</td>\n",
              "      <td>1</td>\n",
              "      <td>1</td>\n",
              "      <td>1991</td>\n",
              "      <td>4</td>\n",
              "      <td>4</td>\n",
              "      <td>1</td>\n",
              "      <td>False</td>\n",
              "      <td>False</td>\n",
              "      <td>False</td>\n",
              "      <td>False</td>\n",
              "      <td>False</td>\n",
              "      <td>False</td>\n",
              "      <td>1</td>\n",
              "    </tr>\n",
              "    <tr>\n",
              "      <th>1991-01-05</th>\n",
              "      <td>CR_821</td>\n",
              "      <td>1991-01-05</td>\n",
              "      <td>1</td>\n",
              "      <td>22</td>\n",
              "      <td>22</td>\n",
              "      <td>7</td>\n",
              "      <td>3</td>\n",
              "      <td>15</td>\n",
              "      <td>10</td>\n",
              "      <td>0</td>\n",
              "      <td>5</td>\n",
              "      <td>1</td>\n",
              "      <td>174</td>\n",
              "      <td>0.0</td>\n",
              "      <td>103</td>\n",
              "      <td>93</td>\n",
              "      <td>48</td>\n",
              "      <td>1</td>\n",
              "      <td>5</td>\n",
              "      <td>1</td>\n",
              "      <td>1</td>\n",
              "      <td>1991</td>\n",
              "      <td>5</td>\n",
              "      <td>5</td>\n",
              "      <td>1</td>\n",
              "      <td>False</td>\n",
              "      <td>False</td>\n",
              "      <td>False</td>\n",
              "      <td>False</td>\n",
              "      <td>False</td>\n",
              "      <td>False</td>\n",
              "      <td>1</td>\n",
              "    </tr>\n",
              "  </tbody>\n",
              "</table>\n",
              "</div>"
            ],
            "text/plain": [
              "           INCIDENT_ID       DATE  X_1  ...  is_year_start  is_year_end  Semester\n",
              "DATE                                    ...                                      \n",
              "1991-01-01     CR_1141 1991-01-01    0  ...           True        False         1\n",
              "1991-01-02     CR_2248 1991-01-02    0  ...          False        False         1\n",
              "1991-01-03     CR_3131 1991-01-03    1  ...          False        False         1\n",
              "1991-01-04     CR_3546 1991-01-04    0  ...          False        False         1\n",
              "1991-01-05      CR_821 1991-01-05    1  ...          False        False         1\n",
              "\n",
              "[5 rows x 32 columns]"
            ]
          },
          "metadata": {
            "tags": []
          },
          "execution_count": 77
        }
      ]
    },
    {
      "cell_type": "code",
      "metadata": {
        "id": "y0IXVFkKzujk",
        "colab_type": "code",
        "colab": {
          "base_uri": "https://localhost:8080/",
          "height": 590
        },
        "outputId": "4c58e9ef-9c01-49ec-e31b-6120e777e177"
      },
      "source": [
        "df_1.dtypes"
      ],
      "execution_count": 75,
      "outputs": [
        {
          "output_type": "execute_result",
          "data": {
            "text/plain": [
              "INCIDENT_ID                 object\n",
              "DATE                datetime64[ns]\n",
              "X_1                          int64\n",
              "X_2                          int64\n",
              "X_3                          int64\n",
              "X_4                          int64\n",
              "X_5                          int64\n",
              "X_6                          int64\n",
              "X_7                          int64\n",
              "X_8                          int64\n",
              "X_9                          int64\n",
              "X_10                         int64\n",
              "X_11                         int64\n",
              "X_12                       float64\n",
              "X_13                         int64\n",
              "X_14                         int64\n",
              "X_15                         int64\n",
              "MULTIPLE_OFFENSE             int64\n",
              "dayofweek                    int64\n",
              "quarter                      int64\n",
              "month                        int64\n",
              "year                         int64\n",
              "dayofyear                    int64\n",
              "dayofmonth                   int64\n",
              "week                         int64\n",
              "is_month_start                bool\n",
              "is_month_end                  bool\n",
              "is_quarter_start              bool\n",
              "is_quarter_end                bool\n",
              "is_year_start                 bool\n",
              "is_year_end                   bool\n",
              "Semester                     int64\n",
              "dtype: object"
            ]
          },
          "metadata": {
            "tags": []
          },
          "execution_count": 75
        }
      ]
    },
    {
      "cell_type": "code",
      "metadata": {
        "id": "Wci_cVbUzuf_",
        "colab_type": "code",
        "colab": {}
      },
      "source": [
        "df_2 = pd.get_dummies(df_1, columns=['is_month_start','is_month_end','is_quarter_start','is_quarter_end','is_year_start','is_year_end','Semester'])"
      ],
      "execution_count": 80,
      "outputs": []
    },
    {
      "cell_type": "code",
      "metadata": {
        "id": "zbmXVF0Fzua5",
        "colab_type": "code",
        "colab": {
          "base_uri": "https://localhost:8080/",
          "height": 258
        },
        "outputId": "064ce137-14ce-43ec-f219-338c9dd84784"
      },
      "source": [
        "df_2.head()"
      ],
      "execution_count": 82,
      "outputs": [
        {
          "output_type": "execute_result",
          "data": {
            "text/html": [
              "<div>\n",
              "<style scoped>\n",
              "    .dataframe tbody tr th:only-of-type {\n",
              "        vertical-align: middle;\n",
              "    }\n",
              "\n",
              "    .dataframe tbody tr th {\n",
              "        vertical-align: top;\n",
              "    }\n",
              "\n",
              "    .dataframe thead th {\n",
              "        text-align: right;\n",
              "    }\n",
              "</style>\n",
              "<table border=\"1\" class=\"dataframe\">\n",
              "  <thead>\n",
              "    <tr style=\"text-align: right;\">\n",
              "      <th></th>\n",
              "      <th>INCIDENT_ID</th>\n",
              "      <th>DATE</th>\n",
              "      <th>X_1</th>\n",
              "      <th>X_2</th>\n",
              "      <th>X_3</th>\n",
              "      <th>X_4</th>\n",
              "      <th>X_5</th>\n",
              "      <th>X_6</th>\n",
              "      <th>X_7</th>\n",
              "      <th>X_8</th>\n",
              "      <th>X_9</th>\n",
              "      <th>X_10</th>\n",
              "      <th>X_11</th>\n",
              "      <th>X_12</th>\n",
              "      <th>X_13</th>\n",
              "      <th>X_14</th>\n",
              "      <th>X_15</th>\n",
              "      <th>MULTIPLE_OFFENSE</th>\n",
              "      <th>dayofweek</th>\n",
              "      <th>quarter</th>\n",
              "      <th>month</th>\n",
              "      <th>year</th>\n",
              "      <th>dayofyear</th>\n",
              "      <th>dayofmonth</th>\n",
              "      <th>week</th>\n",
              "      <th>is_month_start_False</th>\n",
              "      <th>is_month_start_True</th>\n",
              "      <th>is_month_end_False</th>\n",
              "      <th>is_month_end_True</th>\n",
              "      <th>is_quarter_start_False</th>\n",
              "      <th>is_quarter_start_True</th>\n",
              "      <th>is_quarter_end_False</th>\n",
              "      <th>is_quarter_end_True</th>\n",
              "      <th>is_year_start_False</th>\n",
              "      <th>is_year_start_True</th>\n",
              "      <th>is_year_end_False</th>\n",
              "      <th>is_year_end_True</th>\n",
              "      <th>Semester_1</th>\n",
              "      <th>Semester_2</th>\n",
              "    </tr>\n",
              "    <tr>\n",
              "      <th>DATE</th>\n",
              "      <th></th>\n",
              "      <th></th>\n",
              "      <th></th>\n",
              "      <th></th>\n",
              "      <th></th>\n",
              "      <th></th>\n",
              "      <th></th>\n",
              "      <th></th>\n",
              "      <th></th>\n",
              "      <th></th>\n",
              "      <th></th>\n",
              "      <th></th>\n",
              "      <th></th>\n",
              "      <th></th>\n",
              "      <th></th>\n",
              "      <th></th>\n",
              "      <th></th>\n",
              "      <th></th>\n",
              "      <th></th>\n",
              "      <th></th>\n",
              "      <th></th>\n",
              "      <th></th>\n",
              "      <th></th>\n",
              "      <th></th>\n",
              "      <th></th>\n",
              "      <th></th>\n",
              "      <th></th>\n",
              "      <th></th>\n",
              "      <th></th>\n",
              "      <th></th>\n",
              "      <th></th>\n",
              "      <th></th>\n",
              "      <th></th>\n",
              "      <th></th>\n",
              "      <th></th>\n",
              "      <th></th>\n",
              "      <th></th>\n",
              "      <th></th>\n",
              "      <th></th>\n",
              "    </tr>\n",
              "  </thead>\n",
              "  <tbody>\n",
              "    <tr>\n",
              "      <th>1991-01-01</th>\n",
              "      <td>CR_1141</td>\n",
              "      <td>1991-01-01</td>\n",
              "      <td>0</td>\n",
              "      <td>22</td>\n",
              "      <td>22</td>\n",
              "      <td>7</td>\n",
              "      <td>3</td>\n",
              "      <td>8</td>\n",
              "      <td>3</td>\n",
              "      <td>7</td>\n",
              "      <td>2</td>\n",
              "      <td>2</td>\n",
              "      <td>0</td>\n",
              "      <td>2.0</td>\n",
              "      <td>72</td>\n",
              "      <td>142</td>\n",
              "      <td>34</td>\n",
              "      <td>1</td>\n",
              "      <td>1</td>\n",
              "      <td>1</td>\n",
              "      <td>1</td>\n",
              "      <td>1991</td>\n",
              "      <td>1</td>\n",
              "      <td>1</td>\n",
              "      <td>1</td>\n",
              "      <td>0</td>\n",
              "      <td>1</td>\n",
              "      <td>1</td>\n",
              "      <td>0</td>\n",
              "      <td>0</td>\n",
              "      <td>1</td>\n",
              "      <td>1</td>\n",
              "      <td>0</td>\n",
              "      <td>0</td>\n",
              "      <td>1</td>\n",
              "      <td>1</td>\n",
              "      <td>0</td>\n",
              "      <td>1</td>\n",
              "      <td>0</td>\n",
              "    </tr>\n",
              "    <tr>\n",
              "      <th>1991-01-02</th>\n",
              "      <td>CR_2248</td>\n",
              "      <td>1991-01-02</td>\n",
              "      <td>0</td>\n",
              "      <td>33</td>\n",
              "      <td>32</td>\n",
              "      <td>2</td>\n",
              "      <td>1</td>\n",
              "      <td>7</td>\n",
              "      <td>1</td>\n",
              "      <td>1</td>\n",
              "      <td>6</td>\n",
              "      <td>1</td>\n",
              "      <td>249</td>\n",
              "      <td>1.0</td>\n",
              "      <td>72</td>\n",
              "      <td>142</td>\n",
              "      <td>34</td>\n",
              "      <td>1</td>\n",
              "      <td>2</td>\n",
              "      <td>1</td>\n",
              "      <td>1</td>\n",
              "      <td>1991</td>\n",
              "      <td>2</td>\n",
              "      <td>2</td>\n",
              "      <td>1</td>\n",
              "      <td>1</td>\n",
              "      <td>0</td>\n",
              "      <td>1</td>\n",
              "      <td>0</td>\n",
              "      <td>1</td>\n",
              "      <td>0</td>\n",
              "      <td>1</td>\n",
              "      <td>0</td>\n",
              "      <td>1</td>\n",
              "      <td>0</td>\n",
              "      <td>1</td>\n",
              "      <td>0</td>\n",
              "      <td>1</td>\n",
              "      <td>0</td>\n",
              "    </tr>\n",
              "    <tr>\n",
              "      <th>1991-01-03</th>\n",
              "      <td>CR_3131</td>\n",
              "      <td>1991-01-03</td>\n",
              "      <td>1</td>\n",
              "      <td>36</td>\n",
              "      <td>34</td>\n",
              "      <td>2</td>\n",
              "      <td>1</td>\n",
              "      <td>15</td>\n",
              "      <td>10</td>\n",
              "      <td>0</td>\n",
              "      <td>5</td>\n",
              "      <td>1</td>\n",
              "      <td>174</td>\n",
              "      <td>0.0</td>\n",
              "      <td>92</td>\n",
              "      <td>93</td>\n",
              "      <td>0</td>\n",
              "      <td>1</td>\n",
              "      <td>3</td>\n",
              "      <td>1</td>\n",
              "      <td>1</td>\n",
              "      <td>1991</td>\n",
              "      <td>3</td>\n",
              "      <td>3</td>\n",
              "      <td>1</td>\n",
              "      <td>1</td>\n",
              "      <td>0</td>\n",
              "      <td>1</td>\n",
              "      <td>0</td>\n",
              "      <td>1</td>\n",
              "      <td>0</td>\n",
              "      <td>1</td>\n",
              "      <td>0</td>\n",
              "      <td>1</td>\n",
              "      <td>0</td>\n",
              "      <td>1</td>\n",
              "      <td>0</td>\n",
              "      <td>1</td>\n",
              "      <td>0</td>\n",
              "    </tr>\n",
              "    <tr>\n",
              "      <th>1991-01-04</th>\n",
              "      <td>CR_3546</td>\n",
              "      <td>1991-01-04</td>\n",
              "      <td>0</td>\n",
              "      <td>39</td>\n",
              "      <td>39</td>\n",
              "      <td>6</td>\n",
              "      <td>5</td>\n",
              "      <td>8</td>\n",
              "      <td>3</td>\n",
              "      <td>1</td>\n",
              "      <td>6</td>\n",
              "      <td>1</td>\n",
              "      <td>0</td>\n",
              "      <td>1.0</td>\n",
              "      <td>72</td>\n",
              "      <td>62</td>\n",
              "      <td>34</td>\n",
              "      <td>1</td>\n",
              "      <td>4</td>\n",
              "      <td>1</td>\n",
              "      <td>1</td>\n",
              "      <td>1991</td>\n",
              "      <td>4</td>\n",
              "      <td>4</td>\n",
              "      <td>1</td>\n",
              "      <td>1</td>\n",
              "      <td>0</td>\n",
              "      <td>1</td>\n",
              "      <td>0</td>\n",
              "      <td>1</td>\n",
              "      <td>0</td>\n",
              "      <td>1</td>\n",
              "      <td>0</td>\n",
              "      <td>1</td>\n",
              "      <td>0</td>\n",
              "      <td>1</td>\n",
              "      <td>0</td>\n",
              "      <td>1</td>\n",
              "      <td>0</td>\n",
              "    </tr>\n",
              "    <tr>\n",
              "      <th>1991-01-05</th>\n",
              "      <td>CR_821</td>\n",
              "      <td>1991-01-05</td>\n",
              "      <td>1</td>\n",
              "      <td>22</td>\n",
              "      <td>22</td>\n",
              "      <td>7</td>\n",
              "      <td>3</td>\n",
              "      <td>15</td>\n",
              "      <td>10</td>\n",
              "      <td>0</td>\n",
              "      <td>5</td>\n",
              "      <td>1</td>\n",
              "      <td>174</td>\n",
              "      <td>0.0</td>\n",
              "      <td>103</td>\n",
              "      <td>93</td>\n",
              "      <td>48</td>\n",
              "      <td>1</td>\n",
              "      <td>5</td>\n",
              "      <td>1</td>\n",
              "      <td>1</td>\n",
              "      <td>1991</td>\n",
              "      <td>5</td>\n",
              "      <td>5</td>\n",
              "      <td>1</td>\n",
              "      <td>1</td>\n",
              "      <td>0</td>\n",
              "      <td>1</td>\n",
              "      <td>0</td>\n",
              "      <td>1</td>\n",
              "      <td>0</td>\n",
              "      <td>1</td>\n",
              "      <td>0</td>\n",
              "      <td>1</td>\n",
              "      <td>0</td>\n",
              "      <td>1</td>\n",
              "      <td>0</td>\n",
              "      <td>1</td>\n",
              "      <td>0</td>\n",
              "    </tr>\n",
              "  </tbody>\n",
              "</table>\n",
              "</div>"
            ],
            "text/plain": [
              "           INCIDENT_ID       DATE  ...  Semester_1  Semester_2\n",
              "DATE                               ...                        \n",
              "1991-01-01     CR_1141 1991-01-01  ...           1           0\n",
              "1991-01-02     CR_2248 1991-01-02  ...           1           0\n",
              "1991-01-03     CR_3131 1991-01-03  ...           1           0\n",
              "1991-01-04     CR_3546 1991-01-04  ...           1           0\n",
              "1991-01-05      CR_821 1991-01-05  ...           1           0\n",
              "\n",
              "[5 rows x 39 columns]"
            ]
          },
          "metadata": {
            "tags": []
          },
          "execution_count": 82
        }
      ]
    },
    {
      "cell_type": "code",
      "metadata": {
        "id": "8647a5OfzuYn",
        "colab_type": "code",
        "colab": {
          "base_uri": "https://localhost:8080/",
          "height": 712
        },
        "outputId": "7444dc64-1b54-4d3e-8bfb-56d0ecbb282e"
      },
      "source": [
        "df_2.dtypes"
      ],
      "execution_count": 83,
      "outputs": [
        {
          "output_type": "execute_result",
          "data": {
            "text/plain": [
              "INCIDENT_ID                       object\n",
              "DATE                      datetime64[ns]\n",
              "X_1                                int64\n",
              "X_2                                int64\n",
              "X_3                                int64\n",
              "X_4                                int64\n",
              "X_5                                int64\n",
              "X_6                                int64\n",
              "X_7                                int64\n",
              "X_8                                int64\n",
              "X_9                                int64\n",
              "X_10                               int64\n",
              "X_11                               int64\n",
              "X_12                             float64\n",
              "X_13                               int64\n",
              "X_14                               int64\n",
              "X_15                               int64\n",
              "MULTIPLE_OFFENSE                   int64\n",
              "dayofweek                          int64\n",
              "quarter                            int64\n",
              "month                              int64\n",
              "year                               int64\n",
              "dayofyear                          int64\n",
              "dayofmonth                         int64\n",
              "week                               int64\n",
              "is_month_start_False               uint8\n",
              "is_month_start_True                uint8\n",
              "is_month_end_False                 uint8\n",
              "is_month_end_True                  uint8\n",
              "is_quarter_start_False             uint8\n",
              "is_quarter_start_True              uint8\n",
              "is_quarter_end_False               uint8\n",
              "is_quarter_end_True                uint8\n",
              "is_year_start_False                uint8\n",
              "is_year_start_True                 uint8\n",
              "is_year_end_False                  uint8\n",
              "is_year_end_True                   uint8\n",
              "Semester_1                         uint8\n",
              "Semester_2                         uint8\n",
              "dtype: object"
            ]
          },
          "metadata": {
            "tags": []
          },
          "execution_count": 83
        }
      ]
    },
    {
      "cell_type": "code",
      "metadata": {
        "id": "81fLMAYUzuSl",
        "colab_type": "code",
        "colab": {
          "base_uri": "https://localhost:8080/",
          "height": 34
        },
        "outputId": "91cc311f-85bb-418a-cf94-7a785acc2fe8"
      },
      "source": [
        "numeric_data = df_2.select_dtypes(include=[np.number])\n",
        "cat_data = df_2.select_dtypes(exclude=[np.number])\n",
        "print (\"There are {} numeric and {} categorical columns in train data\".format(numeric_data.shape[1],cat_data.shape[1]))"
      ],
      "execution_count": 84,
      "outputs": [
        {
          "output_type": "stream",
          "text": [
            "There are 37 numeric and 2 categorical columns in train data\n"
          ],
          "name": "stdout"
        }
      ]
    },
    {
      "cell_type": "code",
      "metadata": {
        "id": "xh2u_UFxzuQc",
        "colab_type": "code",
        "colab": {
          "base_uri": "https://localhost:8080/",
          "height": 436
        },
        "outputId": "1eefd3f0-4501-4997-c9d4-4714d9cda671"
      },
      "source": [
        "#correlation plot\n",
        "import seaborn as sns\n",
        "corr = numeric_data.corr()\n",
        "sns.heatmap(corr)"
      ],
      "execution_count": 85,
      "outputs": [
        {
          "output_type": "stream",
          "text": [
            "/usr/local/lib/python3.6/dist-packages/statsmodels/tools/_testing.py:19: FutureWarning: pandas.util.testing is deprecated. Use the functions in the public API at pandas.testing instead.\n",
            "  import pandas.util.testing as tm\n"
          ],
          "name": "stderr"
        },
        {
          "output_type": "execute_result",
          "data": {
            "text/plain": [
              "<matplotlib.axes._subplots.AxesSubplot at 0x7efd45b46ac8>"
            ]
          },
          "metadata": {
            "tags": []
          },
          "execution_count": 85
        },
        {
          "output_type": "display_data",
          "data": {
            "image/png": "[encoded data removed]",
            "text/plain": [
              "<Figure size 432x288 with 2 Axes>"
            ]
          },
          "metadata": {
            "tags": [],
            "needs_background": "light"
          }
        }
      ]
    },
    {
      "cell_type": "code",
      "metadata": {
        "id": "1XN5h6FYzuOB",
        "colab_type": "code",
        "colab": {
          "base_uri": "https://localhost:8080/",
          "height": 434
        },
        "outputId": "6d49f8de-cf31-43fd-c7a5-b9de796eacca"
      },
      "source": [
        "print (corr['month'].sort_values(ascending=False)[:15], '\\n') #top 15 values\n",
        "print ('----------------------')\n",
        "print (corr['X_12'].sort_values(ascending=False)[-5:]) #last 5 values"
      ],
      "execution_count": 135,
      "outputs": [
        {
          "output_type": "stream",
          "text": [
            "month                     1.000000\n",
            "dayofyear                 0.996173\n",
            "week                      0.972959\n",
            "quarter                   0.968610\n",
            "Semester_2                0.863007\n",
            "is_year_start_False       0.093684\n",
            "is_year_end_True          0.054247\n",
            "is_quarter_start_False    0.040794\n",
            "X_3                       0.020237\n",
            "X_2                       0.019845\n",
            "year                      0.016137\n",
            "is_quarter_end_True       0.015687\n",
            "X_1                       0.012833\n",
            "X_7                       0.009841\n",
            "is_month_start_False      0.009121\n",
            "Name: month, dtype: float64 \n",
            "\n",
            "----------------------\n",
            "X_1                -0.034835\n",
            "X_14               -0.042033\n",
            "X_3                -0.064872\n",
            "X_2                -0.067720\n",
            "MULTIPLE_OFFENSE   -0.113061\n",
            "Name: X_12, dtype: float64\n"
          ],
          "name": "stdout"
        }
      ]
    },
    {
      "cell_type": "markdown",
      "metadata": {
        "id": "peu-MqhIAgcJ",
        "colab_type": "text"
      },
      "source": [
        "#From the values we can conclude that time features don't have any correlation with Y "
      ]
    },
    {
      "cell_type": "markdown",
      "metadata": {
        "id": "VgqGU4KkAxRq",
        "colab_type": "text"
      },
      "source": [
        "Simply we tune a model with time features"
      ]
    },
    {
      "cell_type": "code",
      "metadata": {
        "id": "QyPD_Sg-A8lS",
        "colab_type": "code",
        "colab": {
          "base_uri": "https://localhost:8080/",
          "height": 258
        },
        "outputId": "c55de167-c351-4883-9784-dbf142b86cd9"
      },
      "source": [
        "df_2.head()"
      ],
      "execution_count": 87,
      "outputs": [
        {
          "output_type": "execute_result",
          "data": {
            "text/html": [
              "<div>\n",
              "<style scoped>\n",
              "    .dataframe tbody tr th:only-of-type {\n",
              "        vertical-align: middle;\n",
              "    }\n",
              "\n",
              "    .dataframe tbody tr th {\n",
              "        vertical-align: top;\n",
              "    }\n",
              "\n",
              "    .dataframe thead th {\n",
              "        text-align: right;\n",
              "    }\n",
              "</style>\n",
              "<table border=\"1\" class=\"dataframe\">\n",
              "  <thead>\n",
              "    <tr style=\"text-align: right;\">\n",
              "      <th></th>\n",
              "      <th>INCIDENT_ID</th>\n",
              "      <th>DATE</th>\n",
              "      <th>X_1</th>\n",
              "      <th>X_2</th>\n",
              "      <th>X_3</th>\n",
              "      <th>X_4</th>\n",
              "      <th>X_5</th>\n",
              "      <th>X_6</th>\n",
              "      <th>X_7</th>\n",
              "      <th>X_8</th>\n",
              "      <th>X_9</th>\n",
              "      <th>X_10</th>\n",
              "      <th>X_11</th>\n",
              "      <th>X_12</th>\n",
              "      <th>X_13</th>\n",
              "      <th>X_14</th>\n",
              "      <th>X_15</th>\n",
              "      <th>MULTIPLE_OFFENSE</th>\n",
              "      <th>dayofweek</th>\n",
              "      <th>quarter</th>\n",
              "      <th>month</th>\n",
              "      <th>year</th>\n",
              "      <th>dayofyear</th>\n",
              "      <th>dayofmonth</th>\n",
              "      <th>week</th>\n",
              "      <th>is_month_start_False</th>\n",
              "      <th>is_month_start_True</th>\n",
              "      <th>is_month_end_False</th>\n",
              "      <th>is_month_end_True</th>\n",
              "      <th>is_quarter_start_False</th>\n",
              "      <th>is_quarter_start_True</th>\n",
              "      <th>is_quarter_end_False</th>\n",
              "      <th>is_quarter_end_True</th>\n",
              "      <th>is_year_start_False</th>\n",
              "      <th>is_year_start_True</th>\n",
              "      <th>is_year_end_False</th>\n",
              "      <th>is_year_end_True</th>\n",
              "      <th>Semester_1</th>\n",
              "      <th>Semester_2</th>\n",
              "    </tr>\n",
              "    <tr>\n",
              "      <th>DATE</th>\n",
              "      <th></th>\n",
              "      <th></th>\n",
              "      <th></th>\n",
              "      <th></th>\n",
              "      <th></th>\n",
              "      <th></th>\n",
              "      <th></th>\n",
              "      <th></th>\n",
              "      <th></th>\n",
              "      <th></th>\n",
              "      <th></th>\n",
              "      <th></th>\n",
              "      <th></th>\n",
              "      <th></th>\n",
              "      <th></th>\n",
              "      <th></th>\n",
              "      <th></th>\n",
              "      <th></th>\n",
              "      <th></th>\n",
              "      <th></th>\n",
              "      <th></th>\n",
              "      <th></th>\n",
              "      <th></th>\n",
              "      <th></th>\n",
              "      <th></th>\n",
              "      <th></th>\n",
              "      <th></th>\n",
              "      <th></th>\n",
              "      <th></th>\n",
              "      <th></th>\n",
              "      <th></th>\n",
              "      <th></th>\n",
              "      <th></th>\n",
              "      <th></th>\n",
              "      <th></th>\n",
              "      <th></th>\n",
              "      <th></th>\n",
              "      <th></th>\n",
              "      <th></th>\n",
              "    </tr>\n",
              "  </thead>\n",
              "  <tbody>\n",
              "    <tr>\n",
              "      <th>1991-01-01</th>\n",
              "      <td>CR_1141</td>\n",
              "      <td>1991-01-01</td>\n",
              "      <td>0</td>\n",
              "      <td>22</td>\n",
              "      <td>22</td>\n",
              "      <td>7</td>\n",
              "      <td>3</td>\n",
              "      <td>8</td>\n",
              "      <td>3</td>\n",
              "      <td>7</td>\n",
              "      <td>2</td>\n",
              "      <td>2</td>\n",
              "      <td>0</td>\n",
              "      <td>2.0</td>\n",
              "      <td>72</td>\n",
              "      <td>142</td>\n",
              "      <td>34</td>\n",
              "      <td>1</td>\n",
              "      <td>1</td>\n",
              "      <td>1</td>\n",
              "      <td>1</td>\n",
              "      <td>1991</td>\n",
              "      <td>1</td>\n",
              "      <td>1</td>\n",
              "      <td>1</td>\n",
              "      <td>0</td>\n",
              "      <td>1</td>\n",
              "      <td>1</td>\n",
              "      <td>0</td>\n",
              "      <td>0</td>\n",
              "      <td>1</td>\n",
              "      <td>1</td>\n",
              "      <td>0</td>\n",
              "      <td>0</td>\n",
              "      <td>1</td>\n",
              "      <td>1</td>\n",
              "      <td>0</td>\n",
              "      <td>1</td>\n",
              "      <td>0</td>\n",
              "    </tr>\n",
              "    <tr>\n",
              "      <th>1991-01-02</th>\n",
              "      <td>CR_2248</td>\n",
              "      <td>1991-01-02</td>\n",
              "      <td>0</td>\n",
              "      <td>33</td>\n",
              "      <td>32</td>\n",
              "      <td>2</td>\n",
              "      <td>1</td>\n",
              "      <td>7</td>\n",
              "      <td>1</td>\n",
              "      <td>1</td>\n",
              "      <td>6</td>\n",
              "      <td>1</td>\n",
              "      <td>249</td>\n",
              "      <td>1.0</td>\n",
              "      <td>72</td>\n",
              "      <td>142</td>\n",
              "      <td>34</td>\n",
              "      <td>1</td>\n",
              "      <td>2</td>\n",
              "      <td>1</td>\n",
              "      <td>1</td>\n",
              "      <td>1991</td>\n",
              "      <td>2</td>\n",
              "      <td>2</td>\n",
              "      <td>1</td>\n",
              "      <td>1</td>\n",
              "      <td>0</td>\n",
              "      <td>1</td>\n",
              "      <td>0</td>\n",
              "      <td>1</td>\n",
              "      <td>0</td>\n",
              "      <td>1</td>\n",
              "      <td>0</td>\n",
              "      <td>1</td>\n",
              "      <td>0</td>\n",
              "      <td>1</td>\n",
              "      <td>0</td>\n",
              "      <td>1</td>\n",
              "      <td>0</td>\n",
              "    </tr>\n",
              "    <tr>\n",
              "      <th>1991-01-03</th>\n",
              "      <td>CR_3131</td>\n",
              "      <td>1991-01-03</td>\n",
              "      <td>1</td>\n",
              "      <td>36</td>\n",
              "      <td>34</td>\n",
              "      <td>2</td>\n",
              "      <td>1</td>\n",
              "      <td>15</td>\n",
              "      <td>10</td>\n",
              "      <td>0</td>\n",
              "      <td>5</td>\n",
              "      <td>1</td>\n",
              "      <td>174</td>\n",
              "      <td>0.0</td>\n",
              "      <td>92</td>\n",
              "      <td>93</td>\n",
              "      <td>0</td>\n",
              "      <td>1</td>\n",
              "      <td>3</td>\n",
              "      <td>1</td>\n",
              "      <td>1</td>\n",
              "      <td>1991</td>\n",
              "      <td>3</td>\n",
              "      <td>3</td>\n",
              "      <td>1</td>\n",
              "      <td>1</td>\n",
              "      <td>0</td>\n",
              "      <td>1</td>\n",
              "      <td>0</td>\n",
              "      <td>1</td>\n",
              "      <td>0</td>\n",
              "      <td>1</td>\n",
              "      <td>0</td>\n",
              "      <td>1</td>\n",
              "      <td>0</td>\n",
              "      <td>1</td>\n",
              "      <td>0</td>\n",
              "      <td>1</td>\n",
              "      <td>0</td>\n",
              "    </tr>\n",
              "    <tr>\n",
              "      <th>1991-01-04</th>\n",
              "      <td>CR_3546</td>\n",
              "      <td>1991-01-04</td>\n",
              "      <td>0</td>\n",
              "      <td>39</td>\n",
              "      <td>39</td>\n",
              "      <td>6</td>\n",
              "      <td>5</td>\n",
              "      <td>8</td>\n",
              "      <td>3</td>\n",
              "      <td>1</td>\n",
              "      <td>6</td>\n",
              "      <td>1</td>\n",
              "      <td>0</td>\n",
              "      <td>1.0</td>\n",
              "      <td>72</td>\n",
              "      <td>62</td>\n",
              "      <td>34</td>\n",
              "      <td>1</td>\n",
              "      <td>4</td>\n",
              "      <td>1</td>\n",
              "      <td>1</td>\n",
              "      <td>1991</td>\n",
              "      <td>4</td>\n",
              "      <td>4</td>\n",
              "      <td>1</td>\n",
              "      <td>1</td>\n",
              "      <td>0</td>\n",
              "      <td>1</td>\n",
              "      <td>0</td>\n",
              "      <td>1</td>\n",
              "      <td>0</td>\n",
              "      <td>1</td>\n",
              "      <td>0</td>\n",
              "      <td>1</td>\n",
              "      <td>0</td>\n",
              "      <td>1</td>\n",
              "      <td>0</td>\n",
              "      <td>1</td>\n",
              "      <td>0</td>\n",
              "    </tr>\n",
              "    <tr>\n",
              "      <th>1991-01-05</th>\n",
              "      <td>CR_821</td>\n",
              "      <td>1991-01-05</td>\n",
              "      <td>1</td>\n",
              "      <td>22</td>\n",
              "      <td>22</td>\n",
              "      <td>7</td>\n",
              "      <td>3</td>\n",
              "      <td>15</td>\n",
              "      <td>10</td>\n",
              "      <td>0</td>\n",
              "      <td>5</td>\n",
              "      <td>1</td>\n",
              "      <td>174</td>\n",
              "      <td>0.0</td>\n",
              "      <td>103</td>\n",
              "      <td>93</td>\n",
              "      <td>48</td>\n",
              "      <td>1</td>\n",
              "      <td>5</td>\n",
              "      <td>1</td>\n",
              "      <td>1</td>\n",
              "      <td>1991</td>\n",
              "      <td>5</td>\n",
              "      <td>5</td>\n",
              "      <td>1</td>\n",
              "      <td>1</td>\n",
              "      <td>0</td>\n",
              "      <td>1</td>\n",
              "      <td>0</td>\n",
              "      <td>1</td>\n",
              "      <td>0</td>\n",
              "      <td>1</td>\n",
              "      <td>0</td>\n",
              "      <td>1</td>\n",
              "      <td>0</td>\n",
              "      <td>1</td>\n",
              "      <td>0</td>\n",
              "      <td>1</td>\n",
              "      <td>0</td>\n",
              "    </tr>\n",
              "  </tbody>\n",
              "</table>\n",
              "</div>"
            ],
            "text/plain": [
              "           INCIDENT_ID       DATE  ...  Semester_1  Semester_2\n",
              "DATE                               ...                        \n",
              "1991-01-01     CR_1141 1991-01-01  ...           1           0\n",
              "1991-01-02     CR_2248 1991-01-02  ...           1           0\n",
              "1991-01-03     CR_3131 1991-01-03  ...           1           0\n",
              "1991-01-04     CR_3546 1991-01-04  ...           1           0\n",
              "1991-01-05      CR_821 1991-01-05  ...           1           0\n",
              "\n",
              "[5 rows x 39 columns]"
            ]
          },
          "metadata": {
            "tags": []
          },
          "execution_count": 87
        }
      ]
    },
    {
      "cell_type": "code",
      "metadata": {
        "id": "449M9IAYA-pe",
        "colab_type": "code",
        "colab": {}
      },
      "source": [
        "df_3 = df_2"
      ],
      "execution_count": 89,
      "outputs": []
    },
    {
      "cell_type": "code",
      "metadata": {
        "id": "MllNWNFzB9d3",
        "colab_type": "code",
        "colab": {
          "base_uri": "https://localhost:8080/",
          "height": 258
        },
        "outputId": "9ff5f51b-c693-4598-a685-9f87ad47750c"
      },
      "source": [
        "df_2.head()"
      ],
      "execution_count": 96,
      "outputs": [
        {
          "output_type": "execute_result",
          "data": {
            "text/html": [
              "<div>\n",
              "<style scoped>\n",
              "    .dataframe tbody tr th:only-of-type {\n",
              "        vertical-align: middle;\n",
              "    }\n",
              "\n",
              "    .dataframe tbody tr th {\n",
              "        vertical-align: top;\n",
              "    }\n",
              "\n",
              "    .dataframe thead th {\n",
              "        text-align: right;\n",
              "    }\n",
              "</style>\n",
              "<table border=\"1\" class=\"dataframe\">\n",
              "  <thead>\n",
              "    <tr style=\"text-align: right;\">\n",
              "      <th></th>\n",
              "      <th>INCIDENT_ID</th>\n",
              "      <th>DATE</th>\n",
              "      <th>X_1</th>\n",
              "      <th>X_2</th>\n",
              "      <th>X_3</th>\n",
              "      <th>X_4</th>\n",
              "      <th>X_5</th>\n",
              "      <th>X_6</th>\n",
              "      <th>X_7</th>\n",
              "      <th>X_8</th>\n",
              "      <th>X_9</th>\n",
              "      <th>X_10</th>\n",
              "      <th>X_11</th>\n",
              "      <th>X_12</th>\n",
              "      <th>X_13</th>\n",
              "      <th>X_14</th>\n",
              "      <th>X_15</th>\n",
              "      <th>MULTIPLE_OFFENSE</th>\n",
              "      <th>dayofweek</th>\n",
              "      <th>quarter</th>\n",
              "      <th>month</th>\n",
              "      <th>year</th>\n",
              "      <th>dayofyear</th>\n",
              "      <th>dayofmonth</th>\n",
              "      <th>week</th>\n",
              "      <th>is_month_start_False</th>\n",
              "      <th>is_month_start_True</th>\n",
              "      <th>is_month_end_False</th>\n",
              "      <th>is_month_end_True</th>\n",
              "      <th>is_quarter_start_False</th>\n",
              "      <th>is_quarter_start_True</th>\n",
              "      <th>is_quarter_end_False</th>\n",
              "      <th>is_quarter_end_True</th>\n",
              "      <th>is_year_start_False</th>\n",
              "      <th>is_year_start_True</th>\n",
              "      <th>is_year_end_False</th>\n",
              "      <th>is_year_end_True</th>\n",
              "      <th>Semester_1</th>\n",
              "      <th>Semester_2</th>\n",
              "    </tr>\n",
              "    <tr>\n",
              "      <th>DATE</th>\n",
              "      <th></th>\n",
              "      <th></th>\n",
              "      <th></th>\n",
              "      <th></th>\n",
              "      <th></th>\n",
              "      <th></th>\n",
              "      <th></th>\n",
              "      <th></th>\n",
              "      <th></th>\n",
              "      <th></th>\n",
              "      <th></th>\n",
              "      <th></th>\n",
              "      <th></th>\n",
              "      <th></th>\n",
              "      <th></th>\n",
              "      <th></th>\n",
              "      <th></th>\n",
              "      <th></th>\n",
              "      <th></th>\n",
              "      <th></th>\n",
              "      <th></th>\n",
              "      <th></th>\n",
              "      <th></th>\n",
              "      <th></th>\n",
              "      <th></th>\n",
              "      <th></th>\n",
              "      <th></th>\n",
              "      <th></th>\n",
              "      <th></th>\n",
              "      <th></th>\n",
              "      <th></th>\n",
              "      <th></th>\n",
              "      <th></th>\n",
              "      <th></th>\n",
              "      <th></th>\n",
              "      <th></th>\n",
              "      <th></th>\n",
              "      <th></th>\n",
              "      <th></th>\n",
              "    </tr>\n",
              "  </thead>\n",
              "  <tbody>\n",
              "    <tr>\n",
              "      <th>1991-01-01</th>\n",
              "      <td>CR_1141</td>\n",
              "      <td>1991-01-01</td>\n",
              "      <td>0</td>\n",
              "      <td>22</td>\n",
              "      <td>22</td>\n",
              "      <td>7</td>\n",
              "      <td>3</td>\n",
              "      <td>8</td>\n",
              "      <td>3</td>\n",
              "      <td>7</td>\n",
              "      <td>2</td>\n",
              "      <td>2</td>\n",
              "      <td>0</td>\n",
              "      <td>2.0</td>\n",
              "      <td>72</td>\n",
              "      <td>142</td>\n",
              "      <td>34</td>\n",
              "      <td>1</td>\n",
              "      <td>1</td>\n",
              "      <td>1</td>\n",
              "      <td>1</td>\n",
              "      <td>1991</td>\n",
              "      <td>1</td>\n",
              "      <td>1</td>\n",
              "      <td>1</td>\n",
              "      <td>0</td>\n",
              "      <td>1</td>\n",
              "      <td>1</td>\n",
              "      <td>0</td>\n",
              "      <td>0</td>\n",
              "      <td>1</td>\n",
              "      <td>1</td>\n",
              "      <td>0</td>\n",
              "      <td>0</td>\n",
              "      <td>1</td>\n",
              "      <td>1</td>\n",
              "      <td>0</td>\n",
              "      <td>1</td>\n",
              "      <td>0</td>\n",
              "    </tr>\n",
              "    <tr>\n",
              "      <th>1991-01-02</th>\n",
              "      <td>CR_2248</td>\n",
              "      <td>1991-01-02</td>\n",
              "      <td>0</td>\n",
              "      <td>33</td>\n",
              "      <td>32</td>\n",
              "      <td>2</td>\n",
              "      <td>1</td>\n",
              "      <td>7</td>\n",
              "      <td>1</td>\n",
              "      <td>1</td>\n",
              "      <td>6</td>\n",
              "      <td>1</td>\n",
              "      <td>249</td>\n",
              "      <td>1.0</td>\n",
              "      <td>72</td>\n",
              "      <td>142</td>\n",
              "      <td>34</td>\n",
              "      <td>1</td>\n",
              "      <td>2</td>\n",
              "      <td>1</td>\n",
              "      <td>1</td>\n",
              "      <td>1991</td>\n",
              "      <td>2</td>\n",
              "      <td>2</td>\n",
              "      <td>1</td>\n",
              "      <td>1</td>\n",
              "      <td>0</td>\n",
              "      <td>1</td>\n",
              "      <td>0</td>\n",
              "      <td>1</td>\n",
              "      <td>0</td>\n",
              "      <td>1</td>\n",
              "      <td>0</td>\n",
              "      <td>1</td>\n",
              "      <td>0</td>\n",
              "      <td>1</td>\n",
              "      <td>0</td>\n",
              "      <td>1</td>\n",
              "      <td>0</td>\n",
              "    </tr>\n",
              "    <tr>\n",
              "      <th>1991-01-03</th>\n",
              "      <td>CR_3131</td>\n",
              "      <td>1991-01-03</td>\n",
              "      <td>1</td>\n",
              "      <td>36</td>\n",
              "      <td>34</td>\n",
              "      <td>2</td>\n",
              "      <td>1</td>\n",
              "      <td>15</td>\n",
              "      <td>10</td>\n",
              "      <td>0</td>\n",
              "      <td>5</td>\n",
              "      <td>1</td>\n",
              "      <td>174</td>\n",
              "      <td>0.0</td>\n",
              "      <td>92</td>\n",
              "      <td>93</td>\n",
              "      <td>0</td>\n",
              "      <td>1</td>\n",
              "      <td>3</td>\n",
              "      <td>1</td>\n",
              "      <td>1</td>\n",
              "      <td>1991</td>\n",
              "      <td>3</td>\n",
              "      <td>3</td>\n",
              "      <td>1</td>\n",
              "      <td>1</td>\n",
              "      <td>0</td>\n",
              "      <td>1</td>\n",
              "      <td>0</td>\n",
              "      <td>1</td>\n",
              "      <td>0</td>\n",
              "      <td>1</td>\n",
              "      <td>0</td>\n",
              "      <td>1</td>\n",
              "      <td>0</td>\n",
              "      <td>1</td>\n",
              "      <td>0</td>\n",
              "      <td>1</td>\n",
              "      <td>0</td>\n",
              "    </tr>\n",
              "    <tr>\n",
              "      <th>1991-01-04</th>\n",
              "      <td>CR_3546</td>\n",
              "      <td>1991-01-04</td>\n",
              "      <td>0</td>\n",
              "      <td>39</td>\n",
              "      <td>39</td>\n",
              "      <td>6</td>\n",
              "      <td>5</td>\n",
              "      <td>8</td>\n",
              "      <td>3</td>\n",
              "      <td>1</td>\n",
              "      <td>6</td>\n",
              "      <td>1</td>\n",
              "      <td>0</td>\n",
              "      <td>1.0</td>\n",
              "      <td>72</td>\n",
              "      <td>62</td>\n",
              "      <td>34</td>\n",
              "      <td>1</td>\n",
              "      <td>4</td>\n",
              "      <td>1</td>\n",
              "      <td>1</td>\n",
              "      <td>1991</td>\n",
              "      <td>4</td>\n",
              "      <td>4</td>\n",
              "      <td>1</td>\n",
              "      <td>1</td>\n",
              "      <td>0</td>\n",
              "      <td>1</td>\n",
              "      <td>0</td>\n",
              "      <td>1</td>\n",
              "      <td>0</td>\n",
              "      <td>1</td>\n",
              "      <td>0</td>\n",
              "      <td>1</td>\n",
              "      <td>0</td>\n",
              "      <td>1</td>\n",
              "      <td>0</td>\n",
              "      <td>1</td>\n",
              "      <td>0</td>\n",
              "    </tr>\n",
              "    <tr>\n",
              "      <th>1991-01-05</th>\n",
              "      <td>CR_821</td>\n",
              "      <td>1991-01-05</td>\n",
              "      <td>1</td>\n",
              "      <td>22</td>\n",
              "      <td>22</td>\n",
              "      <td>7</td>\n",
              "      <td>3</td>\n",
              "      <td>15</td>\n",
              "      <td>10</td>\n",
              "      <td>0</td>\n",
              "      <td>5</td>\n",
              "      <td>1</td>\n",
              "      <td>174</td>\n",
              "      <td>0.0</td>\n",
              "      <td>103</td>\n",
              "      <td>93</td>\n",
              "      <td>48</td>\n",
              "      <td>1</td>\n",
              "      <td>5</td>\n",
              "      <td>1</td>\n",
              "      <td>1</td>\n",
              "      <td>1991</td>\n",
              "      <td>5</td>\n",
              "      <td>5</td>\n",
              "      <td>1</td>\n",
              "      <td>1</td>\n",
              "      <td>0</td>\n",
              "      <td>1</td>\n",
              "      <td>0</td>\n",
              "      <td>1</td>\n",
              "      <td>0</td>\n",
              "      <td>1</td>\n",
              "      <td>0</td>\n",
              "      <td>1</td>\n",
              "      <td>0</td>\n",
              "      <td>1</td>\n",
              "      <td>0</td>\n",
              "      <td>1</td>\n",
              "      <td>0</td>\n",
              "    </tr>\n",
              "  </tbody>\n",
              "</table>\n",
              "</div>"
            ],
            "text/plain": [
              "           INCIDENT_ID       DATE  ...  Semester_1  Semester_2\n",
              "DATE                               ...                        \n",
              "1991-01-01     CR_1141 1991-01-01  ...           1           0\n",
              "1991-01-02     CR_2248 1991-01-02  ...           1           0\n",
              "1991-01-03     CR_3131 1991-01-03  ...           1           0\n",
              "1991-01-04     CR_3546 1991-01-04  ...           1           0\n",
              "1991-01-05      CR_821 1991-01-05  ...           1           0\n",
              "\n",
              "[5 rows x 39 columns]"
            ]
          },
          "metadata": {
            "tags": []
          },
          "execution_count": 96
        }
      ]
    },
    {
      "cell_type": "code",
      "metadata": {
        "id": "_-dnIunYBY-K",
        "colab_type": "code",
        "colab": {}
      },
      "source": [
        "df_3 =df_3.drop(['INCIDENT_ID','DATE','MULTIPLE_OFFENSE',], axis = 1) "
      ],
      "execution_count": 90,
      "outputs": []
    },
    {
      "cell_type": "code",
      "metadata": {
        "id": "mpdDYHwaBs5r",
        "colab_type": "code",
        "colab": {}
      },
      "source": [
        "df_3.reset_index(drop=True, inplace=True)"
      ],
      "execution_count": 94,
      "outputs": []
    },
    {
      "cell_type": "code",
      "metadata": {
        "id": "KSCdtPFKBqgc",
        "colab_type": "code",
        "colab": {
          "base_uri": "https://localhost:8080/",
          "height": 226
        },
        "outputId": "e6be605f-524a-40ea-872a-a001dbfb8e96"
      },
      "source": [
        "df_3.head()"
      ],
      "execution_count": 95,
      "outputs": [
        {
          "output_type": "execute_result",
          "data": {
            "text/html": [
              "<div>\n",
              "<style scoped>\n",
              "    .dataframe tbody tr th:only-of-type {\n",
              "        vertical-align: middle;\n",
              "    }\n",
              "\n",
              "    .dataframe tbody tr th {\n",
              "        vertical-align: top;\n",
              "    }\n",
              "\n",
              "    .dataframe thead th {\n",
              "        text-align: right;\n",
              "    }\n",
              "</style>\n",
              "<table border=\"1\" class=\"dataframe\">\n",
              "  <thead>\n",
              "    <tr style=\"text-align: right;\">\n",
              "      <th></th>\n",
              "      <th>X_1</th>\n",
              "      <th>X_2</th>\n",
              "      <th>X_3</th>\n",
              "      <th>X_4</th>\n",
              "      <th>X_5</th>\n",
              "      <th>X_6</th>\n",
              "      <th>X_7</th>\n",
              "      <th>X_8</th>\n",
              "      <th>X_9</th>\n",
              "      <th>X_10</th>\n",
              "      <th>X_11</th>\n",
              "      <th>X_12</th>\n",
              "      <th>X_13</th>\n",
              "      <th>X_14</th>\n",
              "      <th>X_15</th>\n",
              "      <th>dayofweek</th>\n",
              "      <th>quarter</th>\n",
              "      <th>month</th>\n",
              "      <th>year</th>\n",
              "      <th>dayofyear</th>\n",
              "      <th>dayofmonth</th>\n",
              "      <th>week</th>\n",
              "      <th>is_month_start_False</th>\n",
              "      <th>is_month_start_True</th>\n",
              "      <th>is_month_end_False</th>\n",
              "      <th>is_month_end_True</th>\n",
              "      <th>is_quarter_start_False</th>\n",
              "      <th>is_quarter_start_True</th>\n",
              "      <th>is_quarter_end_False</th>\n",
              "      <th>is_quarter_end_True</th>\n",
              "      <th>is_year_start_False</th>\n",
              "      <th>is_year_start_True</th>\n",
              "      <th>is_year_end_False</th>\n",
              "      <th>is_year_end_True</th>\n",
              "      <th>Semester_1</th>\n",
              "      <th>Semester_2</th>\n",
              "    </tr>\n",
              "  </thead>\n",
              "  <tbody>\n",
              "    <tr>\n",
              "      <th>0</th>\n",
              "      <td>0</td>\n",
              "      <td>22</td>\n",
              "      <td>22</td>\n",
              "      <td>7</td>\n",
              "      <td>3</td>\n",
              "      <td>8</td>\n",
              "      <td>3</td>\n",
              "      <td>7</td>\n",
              "      <td>2</td>\n",
              "      <td>2</td>\n",
              "      <td>0</td>\n",
              "      <td>2.0</td>\n",
              "      <td>72</td>\n",
              "      <td>142</td>\n",
              "      <td>34</td>\n",
              "      <td>1</td>\n",
              "      <td>1</td>\n",
              "      <td>1</td>\n",
              "      <td>1991</td>\n",
              "      <td>1</td>\n",
              "      <td>1</td>\n",
              "      <td>1</td>\n",
              "      <td>0</td>\n",
              "      <td>1</td>\n",
              "      <td>1</td>\n",
              "      <td>0</td>\n",
              "      <td>0</td>\n",
              "      <td>1</td>\n",
              "      <td>1</td>\n",
              "      <td>0</td>\n",
              "      <td>0</td>\n",
              "      <td>1</td>\n",
              "      <td>1</td>\n",
              "      <td>0</td>\n",
              "      <td>1</td>\n",
              "      <td>0</td>\n",
              "    </tr>\n",
              "    <tr>\n",
              "      <th>1</th>\n",
              "      <td>0</td>\n",
              "      <td>33</td>\n",
              "      <td>32</td>\n",
              "      <td>2</td>\n",
              "      <td>1</td>\n",
              "      <td>7</td>\n",
              "      <td>1</td>\n",
              "      <td>1</td>\n",
              "      <td>6</td>\n",
              "      <td>1</td>\n",
              "      <td>249</td>\n",
              "      <td>1.0</td>\n",
              "      <td>72</td>\n",
              "      <td>142</td>\n",
              "      <td>34</td>\n",
              "      <td>2</td>\n",
              "      <td>1</td>\n",
              "      <td>1</td>\n",
              "      <td>1991</td>\n",
              "      <td>2</td>\n",
              "      <td>2</td>\n",
              "      <td>1</td>\n",
              "      <td>1</td>\n",
              "      <td>0</td>\n",
              "      <td>1</td>\n",
              "      <td>0</td>\n",
              "      <td>1</td>\n",
              "      <td>0</td>\n",
              "      <td>1</td>\n",
              "      <td>0</td>\n",
              "      <td>1</td>\n",
              "      <td>0</td>\n",
              "      <td>1</td>\n",
              "      <td>0</td>\n",
              "      <td>1</td>\n",
              "      <td>0</td>\n",
              "    </tr>\n",
              "    <tr>\n",
              "      <th>2</th>\n",
              "      <td>1</td>\n",
              "      <td>36</td>\n",
              "      <td>34</td>\n",
              "      <td>2</td>\n",
              "      <td>1</td>\n",
              "      <td>15</td>\n",
              "      <td>10</td>\n",
              "      <td>0</td>\n",
              "      <td>5</td>\n",
              "      <td>1</td>\n",
              "      <td>174</td>\n",
              "      <td>0.0</td>\n",
              "      <td>92</td>\n",
              "      <td>93</td>\n",
              "      <td>0</td>\n",
              "      <td>3</td>\n",
              "      <td>1</td>\n",
              "      <td>1</td>\n",
              "      <td>1991</td>\n",
              "      <td>3</td>\n",
              "      <td>3</td>\n",
              "      <td>1</td>\n",
              "      <td>1</td>\n",
              "      <td>0</td>\n",
              "      <td>1</td>\n",
              "      <td>0</td>\n",
              "      <td>1</td>\n",
              "      <td>0</td>\n",
              "      <td>1</td>\n",
              "      <td>0</td>\n",
              "      <td>1</td>\n",
              "      <td>0</td>\n",
              "      <td>1</td>\n",
              "      <td>0</td>\n",
              "      <td>1</td>\n",
              "      <td>0</td>\n",
              "    </tr>\n",
              "    <tr>\n",
              "      <th>3</th>\n",
              "      <td>0</td>\n",
              "      <td>39</td>\n",
              "      <td>39</td>\n",
              "      <td>6</td>\n",
              "      <td>5</td>\n",
              "      <td>8</td>\n",
              "      <td>3</td>\n",
              "      <td>1</td>\n",
              "      <td>6</td>\n",
              "      <td>1</td>\n",
              "      <td>0</td>\n",
              "      <td>1.0</td>\n",
              "      <td>72</td>\n",
              "      <td>62</td>\n",
              "      <td>34</td>\n",
              "      <td>4</td>\n",
              "      <td>1</td>\n",
              "      <td>1</td>\n",
              "      <td>1991</td>\n",
              "      <td>4</td>\n",
              "      <td>4</td>\n",
              "      <td>1</td>\n",
              "      <td>1</td>\n",
              "      <td>0</td>\n",
              "      <td>1</td>\n",
              "      <td>0</td>\n",
              "      <td>1</td>\n",
              "      <td>0</td>\n",
              "      <td>1</td>\n",
              "      <td>0</td>\n",
              "      <td>1</td>\n",
              "      <td>0</td>\n",
              "      <td>1</td>\n",
              "      <td>0</td>\n",
              "      <td>1</td>\n",
              "      <td>0</td>\n",
              "    </tr>\n",
              "    <tr>\n",
              "      <th>4</th>\n",
              "      <td>1</td>\n",
              "      <td>22</td>\n",
              "      <td>22</td>\n",
              "      <td>7</td>\n",
              "      <td>3</td>\n",
              "      <td>15</td>\n",
              "      <td>10</td>\n",
              "      <td>0</td>\n",
              "      <td>5</td>\n",
              "      <td>1</td>\n",
              "      <td>174</td>\n",
              "      <td>0.0</td>\n",
              "      <td>103</td>\n",
              "      <td>93</td>\n",
              "      <td>48</td>\n",
              "      <td>5</td>\n",
              "      <td>1</td>\n",
              "      <td>1</td>\n",
              "      <td>1991</td>\n",
              "      <td>5</td>\n",
              "      <td>5</td>\n",
              "      <td>1</td>\n",
              "      <td>1</td>\n",
              "      <td>0</td>\n",
              "      <td>1</td>\n",
              "      <td>0</td>\n",
              "      <td>1</td>\n",
              "      <td>0</td>\n",
              "      <td>1</td>\n",
              "      <td>0</td>\n",
              "      <td>1</td>\n",
              "      <td>0</td>\n",
              "      <td>1</td>\n",
              "      <td>0</td>\n",
              "      <td>1</td>\n",
              "      <td>0</td>\n",
              "    </tr>\n",
              "  </tbody>\n",
              "</table>\n",
              "</div>"
            ],
            "text/plain": [
              "   X_1  X_2  X_3  ...  is_year_end_True  Semester_1  Semester_2\n",
              "0    0   22   22  ...                 0           1           0\n",
              "1    0   33   32  ...                 0           1           0\n",
              "2    1   36   34  ...                 0           1           0\n",
              "3    0   39   39  ...                 0           1           0\n",
              "4    1   22   22  ...                 0           1           0\n",
              "\n",
              "[5 rows x 36 columns]"
            ]
          },
          "metadata": {
            "tags": []
          },
          "execution_count": 95
        }
      ]
    },
    {
      "cell_type": "code",
      "metadata": {
        "id": "H7EJ4GoKzuL3",
        "colab_type": "code",
        "colab": {}
      },
      "source": [
        "# splitting data into training and validation set(@[A-Za-z0-9]+)\n",
        "xtrain_bow, xvalid_bow, ytrain, yvalid = train_test_split(df_3,df_2['MULTIPLE_OFFENSE'],  \n",
        "                                                          random_state=42, \n",
        "                                                          test_size=0.3)"
      ],
      "execution_count": 98,
      "outputs": []
    },
    {
      "cell_type": "code",
      "metadata": {
        "id": "tw9J_ZbdzuJa",
        "colab_type": "code",
        "colab": {}
      },
      "source": [
        "xgb = XGBClassifier(learning_rate =0.1,\n",
        "                    n_estimators=1000,\n",
        "                    max_depth=1,\n",
        "                    min_child_weight=3,\n",
        "                    gamma=1.2,\n",
        "                    subsample=0.9,\n",
        "                    colsample_bytree=0.6,\n",
        "                  \n",
        "                    objective='binary:logistic',\n",
        "                    seed=27).fit(xtrain_bow, ytrain)"
      ],
      "execution_count": 99,
      "outputs": []
    },
    {
      "cell_type": "code",
      "metadata": {
        "id": "bB7Y79XgzuIE",
        "colab_type": "code",
        "colab": {
          "base_uri": "https://localhost:8080/",
          "height": 34
        },
        "outputId": "ddc18044-5ce1-49a6-e575-fe8355d03149"
      },
      "source": [
        "from sklearn.metrics import accuracy_score,recall_score,precision_score,f1_score\n",
        "prediction = xgb.predict(xvalid_bow)\n",
        "recall_score(yvalid, prediction, average='binary')"
      ],
      "execution_count": 101,
      "outputs": [
        {
          "output_type": "execute_result",
          "data": {
            "text/plain": [
              "0.9986758864204797"
            ]
          },
          "metadata": {
            "tags": []
          },
          "execution_count": 101
        }
      ]
    },
    {
      "cell_type": "markdown",
      "metadata": {
        "id": "zcrURrE5Cdat",
        "colab_type": "text"
      },
      "source": [
        "#using Time features also model gives best result on validation data,Let'us test on test data (unseen data)"
      ]
    },
    {
      "cell_type": "code",
      "metadata": {
        "id": "t-4oBSKTCn0B",
        "colab_type": "code",
        "colab": {
          "base_uri": "https://localhost:8080/",
          "height": 206
        },
        "outputId": "3f43a598-543f-46b8-8077-2e8a3a05ac68"
      },
      "source": [
        "test.head()"
      ],
      "execution_count": 102,
      "outputs": [
        {
          "output_type": "execute_result",
          "data": {
            "text/html": [
              "<div>\n",
              "<style scoped>\n",
              "    .dataframe tbody tr th:only-of-type {\n",
              "        vertical-align: middle;\n",
              "    }\n",
              "\n",
              "    .dataframe tbody tr th {\n",
              "        vertical-align: top;\n",
              "    }\n",
              "\n",
              "    .dataframe thead th {\n",
              "        text-align: right;\n",
              "    }\n",
              "</style>\n",
              "<table border=\"1\" class=\"dataframe\">\n",
              "  <thead>\n",
              "    <tr style=\"text-align: right;\">\n",
              "      <th></th>\n",
              "      <th>INCIDENT_ID</th>\n",
              "      <th>DATE</th>\n",
              "      <th>X_1</th>\n",
              "      <th>X_2</th>\n",
              "      <th>X_3</th>\n",
              "      <th>X_4</th>\n",
              "      <th>X_5</th>\n",
              "      <th>X_6</th>\n",
              "      <th>X_7</th>\n",
              "      <th>X_8</th>\n",
              "      <th>X_9</th>\n",
              "      <th>X_10</th>\n",
              "      <th>X_11</th>\n",
              "      <th>X_12</th>\n",
              "      <th>X_13</th>\n",
              "      <th>X_14</th>\n",
              "      <th>X_15</th>\n",
              "    </tr>\n",
              "  </thead>\n",
              "  <tbody>\n",
              "    <tr>\n",
              "      <th>3319</th>\n",
              "      <td>CR_3153</td>\n",
              "      <td>1991-01-02</td>\n",
              "      <td>1</td>\n",
              "      <td>36</td>\n",
              "      <td>34</td>\n",
              "      <td>2</td>\n",
              "      <td>1</td>\n",
              "      <td>15</td>\n",
              "      <td>10</td>\n",
              "      <td>1</td>\n",
              "      <td>6</td>\n",
              "      <td>1</td>\n",
              "      <td>249</td>\n",
              "      <td>1.0</td>\n",
              "      <td>92</td>\n",
              "      <td>93</td>\n",
              "      <td>34</td>\n",
              "    </tr>\n",
              "    <tr>\n",
              "      <th>6576</th>\n",
              "      <td>CR_1413</td>\n",
              "      <td>1991-01-03</td>\n",
              "      <td>0</td>\n",
              "      <td>25</td>\n",
              "      <td>25</td>\n",
              "      <td>9</td>\n",
              "      <td>0</td>\n",
              "      <td>3</td>\n",
              "      <td>5</td>\n",
              "      <td>0</td>\n",
              "      <td>5</td>\n",
              "      <td>1</td>\n",
              "      <td>316</td>\n",
              "      <td>1.0</td>\n",
              "      <td>18</td>\n",
              "      <td>142</td>\n",
              "      <td>34</td>\n",
              "    </tr>\n",
              "    <tr>\n",
              "      <th>3824</th>\n",
              "      <td>CR_3882</td>\n",
              "      <td>1991-01-04</td>\n",
              "      <td>5</td>\n",
              "      <td>40</td>\n",
              "      <td>40</td>\n",
              "      <td>2</td>\n",
              "      <td>1</td>\n",
              "      <td>16</td>\n",
              "      <td>12</td>\n",
              "      <td>1</td>\n",
              "      <td>5</td>\n",
              "      <td>1</td>\n",
              "      <td>249</td>\n",
              "      <td>1.0</td>\n",
              "      <td>92</td>\n",
              "      <td>29</td>\n",
              "      <td>34</td>\n",
              "    </tr>\n",
              "    <tr>\n",
              "      <th>4559</th>\n",
              "      <td>CR_2498</td>\n",
              "      <td>1991-01-05</td>\n",
              "      <td>1</td>\n",
              "      <td>36</td>\n",
              "      <td>34</td>\n",
              "      <td>2</td>\n",
              "      <td>1</td>\n",
              "      <td>15</td>\n",
              "      <td>10</td>\n",
              "      <td>0</td>\n",
              "      <td>5</td>\n",
              "      <td>1</td>\n",
              "      <td>249</td>\n",
              "      <td>1.0</td>\n",
              "      <td>92</td>\n",
              "      <td>93</td>\n",
              "      <td>34</td>\n",
              "    </tr>\n",
              "    <tr>\n",
              "      <th>518</th>\n",
              "      <td>CR_1083</td>\n",
              "      <td>1991-01-10</td>\n",
              "      <td>1</td>\n",
              "      <td>22</td>\n",
              "      <td>22</td>\n",
              "      <td>7</td>\n",
              "      <td>3</td>\n",
              "      <td>15</td>\n",
              "      <td>10</td>\n",
              "      <td>1</td>\n",
              "      <td>6</td>\n",
              "      <td>1</td>\n",
              "      <td>316</td>\n",
              "      <td>1.0</td>\n",
              "      <td>72</td>\n",
              "      <td>62</td>\n",
              "      <td>34</td>\n",
              "    </tr>\n",
              "  </tbody>\n",
              "</table>\n",
              "</div>"
            ],
            "text/plain": [
              "     INCIDENT_ID       DATE  X_1  X_2  X_3  ...  X_11  X_12  X_13  X_14  X_15\n",
              "3319     CR_3153 1991-01-02    1   36   34  ...   249   1.0    92    93    34\n",
              "6576     CR_1413 1991-01-03    0   25   25  ...   316   1.0    18   142    34\n",
              "3824     CR_3882 1991-01-04    5   40   40  ...   249   1.0    92    29    34\n",
              "4559     CR_2498 1991-01-05    1   36   34  ...   249   1.0    92    93    34\n",
              "518      CR_1083 1991-01-10    1   22   22  ...   316   1.0    72    62    34\n",
              "\n",
              "[5 rows x 17 columns]"
            ]
          },
          "metadata": {
            "tags": []
          },
          "execution_count": 102
        }
      ]
    },
    {
      "cell_type": "code",
      "metadata": {
        "id": "6TR3H2klCzO1",
        "colab_type": "code",
        "colab": {}
      },
      "source": [
        "df_test = test"
      ],
      "execution_count": 119,
      "outputs": []
    },
    {
      "cell_type": "code",
      "metadata": {
        "id": "xqfxfgwoCdB9",
        "colab_type": "code",
        "colab": {}
      },
      "source": [
        "df_test['dayofweek'] = df_test['DATE'].dt.dayofweek\n",
        "df_test['quarter'] = df_test['DATE'].dt.quarter\n",
        "df_test['month'] = df_test['DATE'].dt.month\n",
        "df_test['year'] = df_test['DATE'].dt.year\n",
        "df_test['dayofyear'] = df_test['DATE'].dt.dayofyear\n",
        "df_test['dayofmonth'] = df_test['DATE'].dt.day\n",
        "df_test['week'] = df_test['DATE'].dt.week\n",
        "df_test['is_month_start']=df_test['DATE'].dt.is_month_start\n",
        "df_test['is_month_end'] = df_test['DATE'].dt.is_month_end\n",
        "df_test['is_quarter_start']=df_test['DATE'].dt.is_quarter_start\n",
        "df_test['is_quarter_end']=df_test['DATE'].dt.is_quarter_end\n",
        "df_test['is_year_start']=df_test['DATE'].dt.is_year_start\n",
        "df_test['is_year_end']=df_test['DATE'].dt.is_yfetaures"
      ],
      "execution_count": 120,
      "outputs": []
    },
    {
      "cell_type": "code",
      "metadata": {
        "id": "xNGQRRxXzuFL",
        "colab_type": "code",
        "colab": {}
      },
      "source": [
        "df_test =df_test.drop(['INCIDENT_ID','DATE'], axis = 1) "
      ],
      "execution_count": 121,
      "outputs": []
    },
    {
      "cell_type": "code",
      "metadata": {
        "id": "_Y9Hlm4ezuDP",
        "colab_type": "code",
        "colab": {
          "base_uri": "https://localhost:8080/",
          "height": 226
        },
        "outputId": "bf976470-060e-4aa9-e5a3-ca928e069c17"
      },
      "source": [
        "df_test.head()"
      ],
      "execution_count": 122,
      "outputs": [
        {
          "output_type": "execute_result",
          "data": {
            "text/html": [
              "<div>\n",
              "<style scoped>\n",
              "    .dataframe tbody tr th:only-of-type {\n",
              "        vertical-align: middle;\n",
              "    }\n",
              "\n",
              "    .dataframe tbody tr th {\n",
              "        vertical-align: top;\n",
              "    }\n",
              "\n",
              "    .dataframe thead th {\n",
              "        text-align: right;\n",
              "    }\n",
              "</style>\n",
              "<table border=\"1\" class=\"dataframe\">\n",
              "  <thead>\n",
              "    <tr style=\"text-align: right;\">\n",
              "      <th></th>\n",
              "      <th>X_1</th>\n",
              "      <th>X_2</th>\n",
              "      <th>X_3</th>\n",
              "      <th>X_4</th>\n",
              "      <th>X_5</th>\n",
              "      <th>X_6</th>\n",
              "      <th>X_7</th>\n",
              "      <th>X_8</th>\n",
              "      <th>X_9</th>\n",
              "      <th>X_10</th>\n",
              "      <th>X_11</th>\n",
              "      <th>X_12</th>\n",
              "      <th>X_13</th>\n",
              "      <th>X_14</th>\n",
              "      <th>X_15</th>\n",
              "      <th>dayofweek</th>\n",
              "      <th>quarter</th>\n",
              "      <th>month</th>\n",
              "      <th>year</th>\n",
              "      <th>dayofyear</th>\n",
              "      <th>dayofmonth</th>\n",
              "      <th>week</th>\n",
              "      <th>is_month_start</th>\n",
              "      <th>is_month_end</th>\n",
              "      <th>is_quarter_start</th>\n",
              "      <th>is_quarter_end</th>\n",
              "      <th>is_year_start</th>\n",
              "      <th>is_year_end</th>\n",
              "      <th>Semester</th>\n",
              "    </tr>\n",
              "  </thead>\n",
              "  <tbody>\n",
              "    <tr>\n",
              "      <th>0</th>\n",
              "      <td>0</td>\n",
              "      <td>30</td>\n",
              "      <td>35</td>\n",
              "      <td>7</td>\n",
              "      <td>3</td>\n",
              "      <td>6</td>\n",
              "      <td>4</td>\n",
              "      <td>0</td>\n",
              "      <td>5</td>\n",
              "      <td>1</td>\n",
              "      <td>174</td>\n",
              "      <td>NaN</td>\n",
              "      <td>72</td>\n",
              "      <td>119</td>\n",
              "      <td>23</td>\n",
              "      <td>3</td>\n",
              "      <td>1</td>\n",
              "      <td>2</td>\n",
              "      <td>2018</td>\n",
              "      <td>32</td>\n",
              "      <td>1</td>\n",
              "      <td>5</td>\n",
              "      <td>True</td>\n",
              "      <td>False</td>\n",
              "      <td>False</td>\n",
              "      <td>False</td>\n",
              "      <td>False</td>\n",
              "      <td>False</td>\n",
              "      <td>1</td>\n",
              "    </tr>\n",
              "    <tr>\n",
              "      <th>1</th>\n",
              "      <td>0</td>\n",
              "      <td>44</td>\n",
              "      <td>44</td>\n",
              "      <td>1</td>\n",
              "      <td>3</td>\n",
              "      <td>7</td>\n",
              "      <td>1</td>\n",
              "      <td>4</td>\n",
              "      <td>6</td>\n",
              "      <td>1</td>\n",
              "      <td>316</td>\n",
              "      <td>0.0</td>\n",
              "      <td>12</td>\n",
              "      <td>29</td>\n",
              "      <td>34</td>\n",
              "      <td>4</td>\n",
              "      <td>1</td>\n",
              "      <td>3</td>\n",
              "      <td>2004</td>\n",
              "      <td>65</td>\n",
              "      <td>5</td>\n",
              "      <td>10</td>\n",
              "      <td>False</td>\n",
              "      <td>False</td>\n",
              "      <td>False</td>\n",
              "      <td>False</td>\n",
              "      <td>False</td>\n",
              "      <td>False</td>\n",
              "      <td>1</td>\n",
              "    </tr>\n",
              "    <tr>\n",
              "      <th>2</th>\n",
              "      <td>0</td>\n",
              "      <td>34</td>\n",
              "      <td>33</td>\n",
              "      <td>3</td>\n",
              "      <td>5</td>\n",
              "      <td>2</td>\n",
              "      <td>7</td>\n",
              "      <td>3</td>\n",
              "      <td>0</td>\n",
              "      <td>1</td>\n",
              "      <td>316</td>\n",
              "      <td>1.0</td>\n",
              "      <td>72</td>\n",
              "      <td>0</td>\n",
              "      <td>34</td>\n",
              "      <td>5</td>\n",
              "      <td>1</td>\n",
              "      <td>1</td>\n",
              "      <td>2018</td>\n",
              "      <td>27</td>\n",
              "      <td>27</td>\n",
              "      <td>4</td>\n",
              "      <td>False</td>\n",
              "      <td>False</td>\n",
              "      <td>False</td>\n",
              "      <td>False</td>\n",
              "      <td>False</td>\n",
              "      <td>False</td>\n",
              "      <td>1</td>\n",
              "    </tr>\n",
              "    <tr>\n",
              "      <th>3</th>\n",
              "      <td>7</td>\n",
              "      <td>3</td>\n",
              "      <td>2</td>\n",
              "      <td>3</td>\n",
              "      <td>5</td>\n",
              "      <td>9</td>\n",
              "      <td>8</td>\n",
              "      <td>0</td>\n",
              "      <td>5</td>\n",
              "      <td>1</td>\n",
              "      <td>174</td>\n",
              "      <td>1.0</td>\n",
              "      <td>112</td>\n",
              "      <td>87</td>\n",
              "      <td>34</td>\n",
              "      <td>4</td>\n",
              "      <td>3</td>\n",
              "      <td>8</td>\n",
              "      <td>2006</td>\n",
              "      <td>230</td>\n",
              "      <td>18</td>\n",
              "      <td>33</td>\n",
              "      <td>False</td>\n",
              "      <td>False</td>\n",
              "      <td>False</td>\n",
              "      <td>False</td>\n",
              "      <td>False</td>\n",
              "      <td>False</td>\n",
              "      <td>2</td>\n",
              "    </tr>\n",
              "    <tr>\n",
              "      <th>4</th>\n",
              "      <td>0</td>\n",
              "      <td>7</td>\n",
              "      <td>8</td>\n",
              "      <td>7</td>\n",
              "      <td>3</td>\n",
              "      <td>2</td>\n",
              "      <td>7</td>\n",
              "      <td>1</td>\n",
              "      <td>5</td>\n",
              "      <td>1</td>\n",
              "      <td>174</td>\n",
              "      <td>0.0</td>\n",
              "      <td>112</td>\n",
              "      <td>93</td>\n",
              "      <td>43</td>\n",
              "      <td>0</td>\n",
              "      <td>4</td>\n",
              "      <td>10</td>\n",
              "      <td>2011</td>\n",
              "      <td>304</td>\n",
              "      <td>31</td>\n",
              "      <td>44</td>\n",
              "      <td>False</td>\n",
              "      <td>True</td>\n",
              "      <td>False</td>\n",
              "      <td>False</td>\n",
              "      <td>False</td>\n",
              "      <td>False</td>\n",
              "      <td>2</td>\n",
              "    </tr>\n",
              "  </tbody>\n",
              "</table>\n",
              "</div>"
            ],
            "text/plain": [
              "   X_1  X_2  X_3  X_4  ...  is_quarter_end  is_year_start  is_year_end  Semester\n",
              "0    0   30   35    7  ...           False          False        False         1\n",
              "1    0   44   44    1  ...           False          False        False         1\n",
              "2    0   34   33    3  ...           False          False        False         1\n",
              "3    7    3    2    3  ...           False          False        False         2\n",
              "4    0    7    8    7  ...           False          False        False         2\n",
              "\n",
              "[5 rows x 29 columns]"
            ]
          },
          "metadata": {
            "tags": []
          },
          "execution_count": 122
        }
      ]
    },
    {
      "cell_type": "code",
      "metadata": {
        "id": "pmFX0scjzuCP",
        "colab_type": "code",
        "colab": {}
      },
      "source": [
        "df_test = pd.get_dummies(df_test, columns=['is_month_start','is_month_end','is_quarter_start','is_quarter_end','is_year_start','is_year_end','Semester'])"
      ],
      "execution_count": 123,
      "outputs": []
    },
    {
      "cell_type": "code",
      "metadata": {
        "id": "9TDF40NMzt-_",
        "colab_type": "code",
        "colab": {
          "base_uri": "https://localhost:8080/",
          "height": 660
        },
        "outputId": "289e7d5f-c5e4-4260-8767-0819e5369d0a"
      },
      "source": [
        "df_test.dtypes"
      ],
      "execution_count": 108,
      "outputs": [
        {
          "output_type": "execute_result",
          "data": {
            "text/plain": [
              "X_1                         int64\n",
              "X_2                         int64\n",
              "X_3                         int64\n",
              "X_4                         int64\n",
              "X_5                         int64\n",
              "X_6                         int64\n",
              "X_7                         int64\n",
              "X_8                         int64\n",
              "X_9                         int64\n",
              "X_10                        int64\n",
              "X_11                        int64\n",
              "X_12                      float64\n",
              "X_13                        int64\n",
              "X_14                        int64\n",
              "X_15                        int64\n",
              "dayofweek                   int64\n",
              "quarter                     int64\n",
              "month                       int64\n",
              "year                        int64\n",
              "dayofyear                   int64\n",
              "dayofmonth                  int64\n",
              "week                        int64\n",
              "is_month_start_False        uint8\n",
              "is_month_start_True         uint8\n",
              "is_month_end_False          uint8\n",
              "is_month_end_True           uint8\n",
              "is_quarter_start_False      uint8\n",
              "is_quarter_start_True       uint8\n",
              "is_quarter_end_False        uint8\n",
              "is_quarter_end_True         uint8\n",
              "is_year_start_False         uint8\n",
              "is_year_start_True          uint8\n",
              "is_year_end_False           uint8\n",
              "is_year_end_True            uint8\n",
              "Semester_1                  uint8\n",
              "Semester_2                  uint8\n",
              "dtype: object"
            ]
          },
          "metadata": {
            "tags": []
          },
          "execution_count": 108
        }
      ]
    },
    {
      "cell_type": "code",
      "metadata": {
        "id": "16oD9lHIzt41",
        "colab_type": "code",
        "colab": {}
      },
      "source": [
        "prediction_1 = xgb.predict(df_test)"
      ],
      "execution_count": 124,
      "outputs": []
    },
    {
      "cell_type": "code",
      "metadata": {
        "id": "MV1nJ5GVzt2m",
        "colab_type": "code",
        "colab": {}
      },
      "source": [
        "resul2 =pd.DataFrame()\n"
      ],
      "execution_count": 125,
      "outputs": []
    },
    {
      "cell_type": "code",
      "metadata": {
        "id": "DW2kVocmzt1R",
        "colab_type": "code",
        "colab": {}
      },
      "source": [
        "resul2['INCIDENT_ID']  = test['INCIDENT_ID']\n"
      ],
      "execution_count": 126,
      "outputs": []
    },
    {
      "cell_type": "code",
      "metadata": {
        "id": "54Z6Eu7Vztzd",
        "colab_type": "code",
        "colab": {}
      },
      "source": [
        "resul2['MULTIPLE_OFFENSE']  = prediction_1 \n"
      ],
      "execution_count": 127,
      "outputs": []
    },
    {
      "cell_type": "code",
      "metadata": {
        "id": "xMJfE-fCzttZ",
        "colab_type": "code",
        "colab": {}
      },
      "source": [
        "resul2.to_csv('sub_time.csv',index=False)"
      ],
      "execution_count": 128,
      "outputs": []
    },
    {
      "cell_type": "code",
      "metadata": {
        "id": "z40FGmj9ztrC",
        "colab_type": "code",
        "colab": {
          "base_uri": "https://localhost:8080/",
          "height": 69
        },
        "outputId": "1f5dedb3-8981-487d-e771-a42148b484b7"
      },
      "source": [
        "resul2['MULTIPLE_OFFENSE'].value_counts()"
      ],
      "execution_count": 129,
      "outputs": [
        {
          "output_type": "execute_result",
          "data": {
            "text/plain": [
              "1    15183\n",
              "0      720\n",
              "Name: MULTIPLE_OFFENSE, dtype: int64"
            ]
          },
          "metadata": {
            "tags": []
          },
          "execution_count": 129
        }
      ]
    },
    {
      "cell_type": "markdown",
      "metadata": {
        "id": "m6zk-_zVGE3G",
        "colab_type": "text"
      },
      "source": [
        "#Base model (With Time Fetures )performs pretty good on unseen Data ,got 98.0077 accuracy,compare to base model (normalfeatures) is less  98.47 > 98.007 "
      ]
    },
    {
      "cell_type": "code",
      "metadata": {
        "id": "QVRycU9aztpC",
        "colab_type": "code",
        "colab": {
          "base_uri": "https://localhost:8080/",
          "height": 265
        },
        "outputId": "9b1cbb37-96e0-482d-db5a-de043597ebb7"
      },
      "source": [
        "from matplotlib import pyplot\n",
        "pyplot.bar(range(len(xgb.feature_importances_)), xgb.feature_importances_)\n",
        "pyplot.show()"
      ],
      "execution_count": 130,
      "outputs": [
        {
          "output_type": "display_data",
          "data": {
            "image/png": "[encoded data removed]",
            "text/plain": [
              "<Figure size 432x288 with 1 Axes>"
            ]
          },
          "metadata": {
            "tags": [],
            "needs_background": "light"
          }
        }
      ]
    },
    {
      "cell_type": "markdown",
      "metadata": {
        "id": "9G83i71gH2hv",
        "colab_type": "text"
      },
      "source": [
        "#Based on Xgboost Feature Imporantce we can say that X_10 have more Imporatant feature among All others ,X_11& X_13 & X_15 also have Importance &Time features don't have any imporantce"
      ]
    },
    {
      "cell_type": "markdown",
      "metadata": {
        "id": "uDzVSRwkKrKQ",
        "colab_type": "text"
      },
      "source": [
        "# Based on Base Model Feature Importance fetures buil a model\n",
        " "
      ]
    },
    {
      "cell_type": "code",
      "metadata": {
        "id": "V6D3LvOKKu8x",
        "colab_type": "code",
        "colab": {}
      },
      "source": [
        "train_df =pd.read_csv('/content/Train.csv')\n",
        "test_df =pd.read_csv('/content/Test.csv')"
      ],
      "execution_count": 141,
      "outputs": []
    },
    {
      "cell_type": "code",
      "metadata": {
        "id": "DXsOmwdbMqjq",
        "colab_type": "code",
        "colab": {}
      },
      "source": [
        ""
      ],
      "execution_count": null,
      "outputs": []
    },
    {
      "cell_type": "code",
      "metadata": {
        "id": "6jx-rE9uzti9",
        "colab_type": "code",
        "colab": {}
      },
      "source": [
        "train_df_1 = train_df.drop(['INCIDENT_ID','DATE','MULTIPLE_OFFENSE','X_1','X_2','X_4','X_5','X_6','X_7','X_8','X_9','X_14'], axis = 1)"
      ],
      "execution_count": 142,
      "outputs": []
    },
    {
      "cell_type": "code",
      "metadata": {
        "id": "qs3y5V0Nzthg",
        "colab_type": "code",
        "colab": {}
      },
      "source": [
        "test_df_1 = test_df.drop(['INCIDENT_ID','DATE','X_1','X_2','X_4','X_5','X_6','X_7','X_8','X_9','X_14'], axis = 1)"
      ],
      "execution_count": 143,
      "outputs": []
    },
    {
      "cell_type": "code",
      "metadata": {
        "id": "Clc5paP_ztb8",
        "colab_type": "code",
        "colab": {}
      },
      "source": [
        ""
      ],
      "execution_count": null,
      "outputs": []
    },
    {
      "cell_type": "markdown",
      "metadata": {
        "id": "8ZfDJdXTMKm3",
        "colab_type": "text"
      },
      "source": [
        "#Imbalanced Data XGBoost Tunning"
      ]
    },
    {
      "cell_type": "code",
      "metadata": {
        "id": "4_SRhpmCNGyn",
        "colab_type": "code",
        "colab": {
          "base_uri": "https://localhost:8080/",
          "height": 69
        },
        "outputId": "cd071460-8376-447f-e41a-0f512dcccfed"
      },
      "source": [
        "train['MULTIPLE_OFFENSE'].value_counts()"
      ],
      "execution_count": 149,
      "outputs": [
        {
          "output_type": "execute_result",
          "data": {
            "text/plain": [
              "1    22606\n",
              "0     1068\n",
              "Name: MULTIPLE_OFFENSE, dtype: int64"
            ]
          },
          "metadata": {
            "tags": []
          },
          "execution_count": 149
        }
      ]
    },
    {
      "cell_type": "code",
      "metadata": {
        "id": "6fYcEsL6MspD",
        "colab_type": "code",
        "colab": {}
      },
      "source": [
        "#scale_pos_weight = sqrt(count(negative examples)/count(Positive examples)) \n"
      ],
      "execution_count": null,
      "outputs": []
    },
    {
      "cell_type": "code",
      "metadata": {
        "id": "J__oCN_aMK4h",
        "colab_type": "code",
        "colab": {}
      },
      "source": [
        "from math import sqrt\n",
        "\n",
        "scale_pos_weight=  sqrt(1068/22606)"
      ],
      "execution_count": 160,
      "outputs": []
    },
    {
      "cell_type": "code",
      "metadata": {
        "id": "dDP32iyaNdck",
        "colab_type": "code",
        "colab": {
          "base_uri": "https://localhost:8080/",
          "height": 34
        },
        "outputId": "873d01cd-55f7-416d-aec3-1264c942141b"
      },
      "source": [
        "(1068/22606)"
      ],
      "execution_count": 157,
      "outputs": [
        {
          "output_type": "execute_result",
          "data": {
            "text/plain": [
              "0.047244094488188976"
            ]
          },
          "metadata": {
            "tags": []
          },
          "execution_count": 157
        }
      ]
    },
    {
      "cell_type": "code",
      "metadata": {
        "id": "-uKr-hhSMQTQ",
        "colab_type": "code",
        "colab": {
          "base_uri": "https://localhost:8080/",
          "height": 34
        },
        "outputId": "c14e6106-fab8-492f-b595-100350c4454e"
      },
      "source": [
        "scale_pos_weight"
      ],
      "execution_count": 156,
      "outputs": [
        {
          "output_type": "execute_result",
          "data": {
            "text/plain": [
              "0.21735706680066552"
            ]
          },
          "metadata": {
            "tags": []
          },
          "execution_count": 156
        }
      ]
    },
    {
      "cell_type": "code",
      "metadata": {
        "id": "LMyKYEI9ztN6",
        "colab_type": "code",
        "colab": {}
      },
      "source": [
        "xtrain_bow, xvalid_bow, ytrain, yvalid = train_test_split(train_df_1,train_df['MULTIPLE_OFFENSE'],  \n",
        "                                                          random_state=42, \n",
        "                                                          test_size=0.3)"
      ],
      "execution_count": 144,
      "outputs": []
    },
    {
      "cell_type": "code",
      "metadata": {
        "id": "ghBTtTTWztGp",
        "colab_type": "code",
        "colab": {}
      },
      "source": [
        "xgb = XGBClassifier(learning_rate =0.1,\n",
        "                    n_estimators=1000,\n",
        "                    max_depth=1,\n",
        "                    min_child_weight=3,\n",
        "                    gamma=1.2,\n",
        "                    subsample=0.9,\n",
        "                    colsample_bytree=0.6,\n",
        "                  \n",
        "                    objective='binary:logistic',\n",
        "                    seed=27).fit(xtrain_bow, ytrain)"
      ],
      "execution_count": 164,
      "outputs": []
    },
    {
      "cell_type": "code",
      "metadata": {
        "id": "Wu4n4WsjztFV",
        "colab_type": "code",
        "colab": {
          "base_uri": "https://localhost:8080/",
          "height": 34
        },
        "outputId": "ac7b4dba-1b78-4ac9-f839-14e1717b32dd"
      },
      "source": [
        "from sklearn.metrics import accuracy_score,recall_score,precision_score,f1_score\n",
        "prediction = xgb.predict(xvalid_bow)\n",
        "recall_score(yvalid, prediction, average='binary')"
      ],
      "execution_count": 165,
      "outputs": [
        {
          "output_type": "execute_result",
          "data": {
            "text/plain": [
              "0.9982384028185555"
            ]
          },
          "metadata": {
            "tags": []
          },
          "execution_count": 165
        }
      ]
    },
    {
      "cell_type": "markdown",
      "metadata": {
        "id": "Mq0a0W1kL1Oh",
        "colab_type": "text"
      },
      "source": [
        "Same accuracy we are getting \n",
        "\n",
        "\n"
      ]
    },
    {
      "cell_type": "code",
      "metadata": {
        "id": "8qsWogTlLt6x",
        "colab_type": "code",
        "colab": {}
      },
      "source": [
        "prediction_3 = xgb.predict(test_df_1)"
      ],
      "execution_count": 166,
      "outputs": []
    },
    {
      "cell_type": "code",
      "metadata": {
        "id": "EGFK2E9tOAyI",
        "colab_type": "code",
        "colab": {}
      },
      "source": [
        "resul3 =pd.DataFrame()\n"
      ],
      "execution_count": 167,
      "outputs": []
    },
    {
      "cell_type": "code",
      "metadata": {
        "id": "EISqIs03OA2Y",
        "colab_type": "code",
        "colab": {}
      },
      "source": [
        "resul3['INCIDENT_ID']  = test_df['INCIDENT_ID']"
      ],
      "execution_count": 170,
      "outputs": []
    },
    {
      "cell_type": "code",
      "metadata": {
        "id": "IDjjYDOKOAvR",
        "colab_type": "code",
        "colab": {}
      },
      "source": [
        "resul3['MULTIPLE_OFFENSE']  = prediction_3"
      ],
      "execution_count": 171,
      "outputs": []
    },
    {
      "cell_type": "code",
      "metadata": {
        "id": "yB4PaEgczs_2",
        "colab_type": "code",
        "colab": {}
      },
      "source": [
        "resul3.to_csv('sub_imp.csv',index=False)"
      ],
      "execution_count": 172,
      "outputs": []
    },
    {
      "cell_type": "code",
      "metadata": {
        "id": "42OI2MVQObQQ",
        "colab_type": "code",
        "colab": {
          "base_uri": "https://localhost:8080/",
          "height": 69
        },
        "outputId": "1529e84e-c060-48e5-995f-c37273619e38"
      },
      "source": [
        "resul3['MULTIPLE_OFFENSE'] .value_counts()"
      ],
      "execution_count": 173,
      "outputs": [
        {
          "output_type": "execute_result",
          "data": {
            "text/plain": [
              "1    15173\n",
              "0      730\n",
              "Name: MULTIPLE_OFFENSE, dtype: int64"
            ]
          },
          "metadata": {
            "tags": []
          },
          "execution_count": 173
        }
      ]
    },
    {
      "cell_type": "markdown",
      "metadata": {
        "id": "BzjvfG9MO2Vl",
        "colab_type": "text"
      },
      "source": [
        "# Model with (Important Feature from base mode) gives the best accuracy on test data  98.54 "
      ]
    },
    {
      "cell_type": "markdown",
      "metadata": {
        "id": "syJNJAk7N24i",
        "colab_type": "text"
      },
      "source": [
        "#Imbalanced Data XGBoost Tunning"
      ]
    },
    {
      "cell_type": "code",
      "metadata": {
        "id": "3X4fZ_WUzs5l",
        "colab_type": "code",
        "colab": {}
      },
      "source": [
        ""
      ],
      "execution_count": null,
      "outputs": []
    },
    {
      "cell_type": "code",
      "metadata": {
        "id": "_xO-miw-zs3y",
        "colab_type": "code",
        "colab": {}
      },
      "source": [
        ""
      ],
      "execution_count": null,
      "outputs": []
    },
    {
      "cell_type": "code",
      "metadata": {
        "id": "FKU_YDEDzsxk",
        "colab_type": "code",
        "colab": {}
      },
      "source": [
        ""
      ],
      "execution_count": null,
      "outputs": []
    },
    {
      "cell_type": "code",
      "metadata": {
        "id": "lWv-dpqNzsva",
        "colab_type": "code",
        "colab": {}
      },
      "source": [
        ""
      ],
      "execution_count": null,
      "outputs": []
    },
    {
      "cell_type": "code",
      "metadata": {
        "id": "bTpOEH0azsts",
        "colab_type": "code",
        "colab": {}
      },
      "source": [
        ""
      ],
      "execution_count": null,
      "outputs": []
    },
    {
      "cell_type": "code",
      "metadata": {
        "id": "mChDt0m-zsnc",
        "colab_type": "code",
        "colab": {}
      },
      "source": [
        ""
      ],
      "execution_count": null,
      "outputs": []
    },
    {
      "cell_type": "code",
      "metadata": {
        "id": "XvM31akFzsly",
        "colab_type": "code",
        "colab": {}
      },
      "source": [
        ""
      ],
      "execution_count": null,
      "outputs": []
    },
    {
      "cell_type": "code",
      "metadata": {
        "id": "3yIZr8vuzsc2",
        "colab_type": "code",
        "colab": {}
      },
      "source": [
        ""
      ],
      "execution_count": null,
      "outputs": []
    },
    {
      "cell_type": "code",
      "metadata": {
        "id": "_mPG7X2_zsWv",
        "colab_type": "code",
        "colab": {}
      },
      "source": [
        ""
      ],
      "execution_count": null,
      "outputs": []
    },
    {
      "cell_type": "code",
      "metadata": {
        "id": "jOVDgJ5wzsUq",
        "colab_type": "code",
        "colab": {}
      },
      "source": [
        ""
      ],
      "execution_count": null,
      "outputs": []
    },
    {
      "cell_type": "code",
      "metadata": {
        "id": "Vrs_hSyWzsTB",
        "colab_type": "code",
        "colab": {}
      },
      "source": [
        ""
      ],
      "execution_count": null,
      "outputs": []
    },
    {
      "cell_type": "code",
      "metadata": {
        "id": "ZozrWgu_zsRF",
        "colab_type": "code",
        "colab": {}
      },
      "source": [
        ""
      ],
      "execution_count": null,
      "outputs": []
    },
    {
      "cell_type": "code",
      "metadata": {
        "id": "2-wNzthLzsLP",
        "colab_type": "code",
        "colab": {}
      },
      "source": [
        ""
      ],
      "execution_count": null,
      "outputs": []
    },
    {
      "cell_type": "code",
      "metadata": {
        "id": "v9I9NJYG547A",
        "colab_type": "code",
        "colab": {}
      },
      "source": [
        ""
      ],
      "execution_count": null,
      "outputs": []
    }
  ]
}