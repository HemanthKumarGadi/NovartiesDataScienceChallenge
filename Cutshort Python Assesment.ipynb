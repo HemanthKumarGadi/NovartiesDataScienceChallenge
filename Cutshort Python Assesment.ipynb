{
 "cells": [
  {
   "cell_type": "code",
   "execution_count": 114,
   "metadata": {},
   "outputs": [
    {
     "name": "stdout",
     "output_type": "stream",
     "text": [
      "2\n",
      "9\n",
      "3\n",
      "9\n",
      "4\n",
      "9\n",
      "5\n",
      "9\n",
      "6\n",
      "9\n",
      "7\n",
      "9\n",
      "8\n",
      "9\n",
      "9\n",
      "9\n"
     ]
    }
   ],
   "source": [
    "lo = 2\n",
    "hi= 10\n",
    "\n",
    "while(lo<hi):\n",
    "    print (lo)\n",
    "    lo = lo+1\n",
    "    print (hi-1)"
   ]
  },
  {
   "cell_type": "code",
   "execution_count": 77,
   "metadata": {},
   "outputs": [
    {
     "name": "stdout",
     "output_type": "stream",
     "text": [
      "eep\n",
      "eeling\n"
     ]
    }
   ],
   "source": [
    "import re\n",
    "\n",
    "def check(string) :\n",
    "    regex = re.compile(\"ee+\\w*\")\n",
    "\n",
    "    match_object = regex.findall(string)\n",
    "    if len(match_object) != 0 :\n",
    "        for word in match_object :\n",
    "            print(word)            \n",
    "    else :\n",
    "        print(\"No match\")    \n",
    "if __name__ == '__main__' :\n",
    "  \n",
    "    string = \"Welcome to deep deeling devotes\"\n",
    "    check(string)\n",
    "\n",
    "\n",
    "\n"
   ]
  },
  {
   "cell_type": "code",
   "execution_count": 11,
   "metadata": {},
   "outputs": [
    {
     "name": "stdout",
     "output_type": "stream",
     "text": [
      "[1, 2, 3, 4, 0, 0, 0, 45, 0]\n"
     ]
    }
   ],
   "source": [
    "x = [0 if i<0 else i for i in [1,2,3,4,-1,-10,-100,45,-9]]\n",
    "print (x)"
   ]
  },
  {
   "cell_type": "code",
   "execution_count": 13,
   "metadata": {},
   "outputs": [
    {
     "name": "stdout",
     "output_type": "stream",
     "text": [
      "0.6667\n"
     ]
    }
   ],
   "source": [
    "print ('{0:.4}'.format(2.0/3))"
   ]
  },
  {
   "cell_type": "code",
   "execution_count": 17,
   "metadata": {},
   "outputs": [
    {
     "name": "stdout",
     "output_type": "stream",
     "text": [
      "[10, 20, 30, [90]]\n",
      "[10, 20, 30, [40]]\n"
     ]
    }
   ],
   "source": [
    "import copy\n",
    "x1= [10,20,30,[40]]\n",
    "x2 = copy.deepcopy(x1)\n",
    "x1[3][0]=90\n",
    "print (x1)\n",
    "print (x2)"
   ]
  },
  {
   "cell_type": "code",
   "execution_count": 107,
   "metadata": {},
   "outputs": [
    {
     "name": "stdout",
     "output_type": "stream",
     "text": [
      "1\n"
     ]
    }
   ],
   "source": [
    "try:\n",
    "    if '1'!=1:\n",
    "        raise \"someerror\"\n",
    "    else:\n",
    "        print ('!1')\n",
    "except :\n",
    "    print ('1')"
   ]
  },
  {
   "cell_type": "code",
   "execution_count": 108,
   "metadata": {},
   "outputs": [
    {
     "name": "stdout",
     "output_type": "stream",
     "text": [
      "Hi\n",
      "jaya\n"
     ]
    }
   ],
   "source": [
    "def yrange(n):\n",
    "    i =0\n",
    "    while i<n:\n",
    "        yield i\n",
    "        i = i+1\n",
    "a  = lambda x:'hello' if x**x ==x else 'Hi'\n",
    "b  = lambda x:'jaya' if x**x ==1 else 'Hema'\n",
    "\n",
    "y = yrange(4)\n",
    "#print (a)\n",
    "print (a(int(next(y))))\n",
    "print (b(int(next(y))))"
   ]
  },
  {
   "cell_type": "code",
   "execution_count": 79,
   "metadata": {},
   "outputs": [
    {
     "name": "stdout",
     "output_type": "stream",
     "text": [
      "2 3\n"
     ]
    }
   ],
   "source": [
    "def my_func(n, i, j):\n",
    "    a, b = n.index(i), n.index(j)\n",
    "    return a, b\n",
    "\n",
    "\n",
    "n = [2, 4, 8, 10, 8, 12]\n",
    "i = 8\n",
    "j = 10\n",
    "\n",
    "if __name__ == \"__main__\": \n",
    "    a, b = my_func(n, i, j)\n",
    "    print(a, b)"
   ]
  },
  {
   "cell_type": "code",
   "execution_count": 30,
   "metadata": {},
   "outputs": [
    {
     "ename": "SyntaxError",
     "evalue": "invalid syntax (<ipython-input-30-d3f78fecebd2>, line 1)",
     "output_type": "error",
     "traceback": [
      "\u001b[1;36m  File \u001b[1;32m\"<ipython-input-30-d3f78fecebd2>\"\u001b[1;36m, line \u001b[1;32m1\u001b[0m\n\u001b[1;33m    print([ if i%2==0: i; else: i+1; for i in range(4)])\u001b[0m\n\u001b[1;37m             ^\u001b[0m\n\u001b[1;31mSyntaxError\u001b[0m\u001b[1;31m:\u001b[0m invalid syntax\n"
     ]
    }
   ],
   "source": [
    "print([ if  i%2==0: i; else: i+1; for i in range(4)])"
   ]
  },
  {
   "cell_type": "code",
   "execution_count": 31,
   "metadata": {},
   "outputs": [
    {
     "name": "stdout",
     "output_type": "stream",
     "text": [
      "300 -100\n"
     ]
    }
   ],
   "source": [
    "def f(x = 100, y = 100): \n",
    "    return(x+y, x-y) \n",
    "x, y = f(y = 200, x = 100) \n",
    "print(x, y)"
   ]
  },
  {
   "cell_type": "code",
   "execution_count": 102,
   "metadata": {},
   "outputs": [
    {
     "name": "stdout",
     "output_type": "stream",
     "text": [
      "40\n"
     ]
    }
   ],
   "source": [
    "x =10\n",
    "\n",
    "def func():\n",
    "    global x\n",
    "    x= x+30\n",
    "func()\n",
    "print (x)"
   ]
  },
  {
   "cell_type": "code",
   "execution_count": 40,
   "metadata": {},
   "outputs": [
    {
     "name": "stdout",
     "output_type": "stream",
     "text": [
      "python\n"
     ]
    }
   ],
   "source": [
    "print(['love', 'python'][bool('cutshort')])"
   ]
  },
  {
   "cell_type": "code",
   "execution_count": 41,
   "metadata": {},
   "outputs": [
    {
     "name": "stdout",
     "output_type": "stream",
     "text": [
      "3 10\n"
     ]
    }
   ],
   "source": [
    "def t ( a, b=10):\n",
    "    print(a ,b) \n",
    "t(3) "
   ]
  },
  {
   "cell_type": "code",
   "execution_count": 49,
   "metadata": {},
   "outputs": [
    {
     "name": "stdout",
     "output_type": "stream",
     "text": [
      "Python\n"
     ]
    }
   ],
   "source": [
    "def foo():\n",
    "    x = 'Python'\n",
    "    def bar():\n",
    "        x = 'Java'\n",
    "    bar() \n",
    "    return x\n",
    "\n",
    "print(foo())"
   ]
  },
  {
   "cell_type": "code",
   "execution_count": 45,
   "metadata": {},
   "outputs": [
    {
     "data": {
      "text/plain": [
       "'Bye'"
      ]
     },
     "execution_count": 45,
     "metadata": {},
     "output_type": "execute_result"
    }
   ],
   "source": [
    "dictionary ={True: 'Hi', 1: 'Hello', 1.0: 'Bye'}\n",
    "dictionary[True]"
   ]
  },
  {
   "cell_type": "code",
   "execution_count": 61,
   "metadata": {},
   "outputs": [
    {
     "name": "stdout",
     "output_type": "stream",
     "text": [
      "True False\n"
     ]
    }
   ],
   "source": [
    "def my_func():\n",
    "    s1 = 'hello'\n",
    "    s2 = 'hello'\n",
    "\n",
    "    l1 = [1, 2]\n",
    "    l2 = [1, 2]\n",
    "  \n",
    "    return s1 is s2, l1 is l2\n",
    "\n",
    "if __name__ == \"__main__\": \n",
    "    x, y = my_func()\n",
    "    print(x, y)"
   ]
  },
  {
   "cell_type": "code",
   "execution_count": 62,
   "metadata": {},
   "outputs": [
    {
     "name": "stdout",
     "output_type": "stream",
     "text": [
      "True False\n"
     ]
    }
   ],
   "source": [
    "def my_func():\n",
    "    s1 = 'CutShort'\n",
    "    s2 = 'CutShort'\n",
    "\n",
    "    s3 = 'CutShort'\n",
    "    s4 = ''.join(['C','u','t','S','h','o','r','t'])\n",
    "\n",
    "    return s1 is s2, s3 is s4\n",
    "\n",
    "if __name__ == \"__main__\":\n",
    "    x, y = my_func()\n",
    "    print(x, y)"
   ]
  },
  {
   "cell_type": "code",
   "execution_count": 56,
   "metadata": {},
   "outputs": [
    {
     "name": "stdout",
     "output_type": "stream",
     "text": [
      "3 2 01\n"
     ]
    }
   ],
   "source": [
    "dict1={\"a\":10,\"b\":2,\"c\":3}\n",
    "str1=\"\"\n",
    "for i in dict1:\n",
    "    str1=str1+str(dict1[i])+\" \"\n",
    "    str2=str1[:-1]\n",
    "print(str2[::-1])"
   ]
  },
  {
   "cell_type": "code",
   "execution_count": 60,
   "metadata": {},
   "outputs": [
    {
     "name": "stdout",
     "output_type": "stream",
     "text": [
      "[12, 25, 10, 25, 40, 56, 98]\n"
     ]
    }
   ],
   "source": [
    "list_numbers = [12,10,25,40,56,98]\n",
    "list_numbers.insert(1,25)\n",
    "print(list_numbers)"
   ]
  },
  {
   "cell_type": "code",
   "execution_count": 63,
   "metadata": {},
   "outputs": [
    {
     "name": "stdout",
     "output_type": "stream",
     "text": [
      "126.5\n"
     ]
    }
   ],
   "source": [
    "val1=28**0\n",
    "val2=2.5\n",
    "val3='123'\n",
    "val4=int(val3)\n",
    "print(val1+val2+val4)"
   ]
  },
  {
   "cell_type": "code",
   "execution_count": 67,
   "metadata": {},
   "outputs": [
    {
     "name": "stdout",
     "output_type": "stream",
     "text": [
      "cutshort\n"
     ]
    }
   ],
   "source": [
    "def my_func(s, z):\n",
    "    total = 0\n",
    "    len_str = len(s)\n",
    "\n",
    "    for x, y in z:\n",
    "        if x == 0:\n",
    "            total += y\n",
    "        else:\n",
    "            total -= y\n",
    "    total = total % len_str\n",
    "    print(s[total:] + s[:total])\n",
    "\n",
    "\n",
    "s = 'cutshort'\n",
    "z = [[0, 3], [1, 11]]\n",
    "\n",
    "if __name__ == \"__main__\":\n",
    "    my_func(s, z)"
   ]
  },
  {
   "cell_type": "code",
   "execution_count": 66,
   "metadata": {},
   "outputs": [
    {
     "data": {
      "text/plain": [
       "[[0, 3], [1, 11]]"
      ]
     },
     "execution_count": 66,
     "metadata": {},
     "output_type": "execute_result"
    }
   ],
   "source": [
    "z = [[0, 3], [1, 11]]\n",
    "z"
   ]
  },
  {
   "cell_type": "code",
   "execution_count": 68,
   "metadata": {},
   "outputs": [
    {
     "name": "stdout",
     "output_type": "stream",
     "text": [
      "[0, 1, 1, 2, 1, 2, 2]\n"
     ]
    }
   ],
   "source": [
    "def my_func(num):\n",
    "    data = [0]\n",
    "    for i in range(1, num+1):\n",
    "        data.append(data[i >> 1] + int(i & 1))\n",
    "    return data\n",
    "\n",
    "\n",
    "num = 6\n",
    "print(my_func(num))"
   ]
  },
  {
   "cell_type": "code",
   "execution_count": 69,
   "metadata": {},
   "outputs": [
    {
     "name": "stdout",
     "output_type": "stream",
     "text": [
      "51\n"
     ]
    }
   ],
   "source": [
    "class Person:\n",
    "    def __init__(self, id):\n",
    "        self.id = id\n",
    "\n",
    "sam = Person(100)\n",
    "\n",
    "sam.__dict__['age'] = 49\n",
    "\n",
    "print (sam.age + len(sam.__dict__))\n"
   ]
  },
  {
   "cell_type": "code",
   "execution_count": 73,
   "metadata": {},
   "outputs": [
    {
     "name": "stdout",
     "output_type": "stream",
     "text": [
      "False\n"
     ]
    }
   ],
   "source": [
    "def my_func(nums):\n",
    "    count = 0\n",
    "    for i, j in enumerate(nums):\n",
    "        if i > count:\n",
    "            return False\n",
    "        count = max(count, i + j)\n",
    "    return True\n",
    "\n",
    "\n",
    "if __name__ == \"__main__\":\n",
    "    print(my_func([3, 2, 1, 0, 4]))"
   ]
  },
  {
   "cell_type": "code",
   "execution_count": null,
   "metadata": {},
   "outputs": [],
   "source": [
    "lins for similar questions\n",
    "\n",
    "https://www.ccna7.com/pcap-programming-essentials-in-python/pcap-programming-essentials-in-python-quizzes-summary-test-1-answers/\n",
    "    "
   ]
  },
  {
   "cell_type": "code",
   "execution_count": null,
   "metadata": {},
   "outputs": [],
   "source": []
  },
  {
   "cell_type": "code",
   "execution_count": null,
   "metadata": {},
   "outputs": [],
   "source": []
  }
 ],
 "metadata": {
  "kernelspec": {
   "display_name": "Python 3",
   "language": "python",
   "name": "python3"
  },
  "language_info": {
   "codemirror_mode": {
    "name": "ipython",
    "version": 3
   },
   "file_extension": ".py",
   "mimetype": "text/x-python",
   "name": "python",
   "nbconvert_exporter": "python",
   "pygments_lexer": "ipython3",
   "version": "3.7.3"
  }
 },
 "nbformat": 4,
 "nbformat_minor": 2
}
